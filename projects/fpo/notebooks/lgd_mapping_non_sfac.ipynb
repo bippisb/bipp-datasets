{
 "cells": [
  {
   "cell_type": "code",
   "execution_count": 1,
   "metadata": {},
   "outputs": [
    {
     "name": "stderr",
     "output_type": "stream",
     "text": [
      "C:\\Users\\gohal\\Desktop\\Coding\\bipp-datasets\\.venv\\lib\\site-packages\\fuzzywuzzy\\fuzz.py:11: UserWarning: Using slow pure-python SequenceMatcher. Install python-Levenshtein to remove this warning\n",
      "  warnings.warn('Using slow pure-python SequenceMatcher. Install python-Levenshtein to remove this warning')\n"
     ]
    }
   ],
   "source": [
    "from pathlib import Path\n",
    "import pandas as pd\n",
    "from fuzzywuzzy import process"
   ]
  },
  {
   "cell_type": "code",
   "execution_count": 2,
   "metadata": {},
   "outputs": [],
   "source": [
    "dir_path = Path.cwd()\n",
    "raw_data_path = Path.joinpath(dir_path, \"data\", \"raw\")\n",
    "interim_data_path = Path.joinpath(dir_path, \"data\", \"interim\")\n",
    "processed_data_path = Path.joinpath(dir_path, \"data\", \"processed\")\n",
    "ext_data_path = Path.joinpath(dir_path, \"data\", \"external\")"
   ]
  },
  {
   "cell_type": "code",
   "execution_count": 3,
   "metadata": {},
   "outputs": [],
   "source": [
    "lgd = pd.read_csv(Path.joinpath(ext_data_path, \"lgd_district.csv\"))"
   ]
  },
  {
   "cell_type": "code",
   "execution_count": 4,
   "metadata": {},
   "outputs": [],
   "source": [
    "lgd.drop([\"St_Cs2011_code\",\"St_Cs2001_code\",\"Dt_Cs2011_code\", \"Dt_Cs2001_code\"], axis=1, inplace=True)\n"
   ]
  },
  {
   "cell_type": "code",
   "execution_count": 5,
   "metadata": {},
   "outputs": [],
   "source": [
    "lgd = lgd.rename(\n",
    "    columns={\n",
    "        \"State Name(In English)\": \"state\",\n",
    "        \"District Name(In English)\": \"district\",\n",
    "    }\n",
    ")"
   ]
  },
  {
   "cell_type": "code",
   "execution_count": 6,
   "metadata": {},
   "outputs": [
    {
     "name": "stderr",
     "output_type": "stream",
     "text": [
      "C:\\Users\\gohal\\Desktop\\Coding\\bipp-datasets\\.venv\\lib\\site-packages\\ipykernel_launcher.py:3: SettingWithCopyWarning: \n",
      "A value is trying to be set on a copy of a slice from a DataFrame\n",
      "\n",
      "See the caveats in the documentation: https://pandas.pydata.org/pandas-docs/stable/user_guide/indexing.html#returning-a-view-versus-a-copy\n",
      "  This is separate from the ipykernel package so we can avoid doing imports until\n"
     ]
    }
   ],
   "source": [
    "lgd[\"state_dist\"] = \"\"\n",
    "for i in range(0, 734):\n",
    "    lgd[\"state_dist\"][i] = lgd[\"state\"][i].rstrip() + lgd[\"district\"][i]"
   ]
  },
  {
   "cell_type": "code",
   "execution_count": 7,
   "metadata": {},
   "outputs": [
    {
     "data": {
      "text/html": [
       "<div>\n",
       "<style scoped>\n",
       "    .dataframe tbody tr th:only-of-type {\n",
       "        vertical-align: middle;\n",
       "    }\n",
       "\n",
       "    .dataframe tbody tr th {\n",
       "        vertical-align: top;\n",
       "    }\n",
       "\n",
       "    .dataframe thead th {\n",
       "        text-align: right;\n",
       "    }\n",
       "</style>\n",
       "<table border=\"1\" class=\"dataframe\">\n",
       "  <thead>\n",
       "    <tr style=\"text-align: right;\">\n",
       "      <th></th>\n",
       "      <th>St_LGD_code</th>\n",
       "      <th>state</th>\n",
       "      <th>Dt_LGD_code</th>\n",
       "      <th>district</th>\n",
       "      <th>state_dist</th>\n",
       "    </tr>\n",
       "  </thead>\n",
       "  <tbody>\n",
       "    <tr>\n",
       "      <th>0</th>\n",
       "      <td>35</td>\n",
       "      <td>ANDAMAN AND NICOBAR ISLANDS</td>\n",
       "      <td>603</td>\n",
       "      <td>NICOBARS</td>\n",
       "      <td>ANDAMAN AND NICOBAR ISLANDSNICOBARS</td>\n",
       "    </tr>\n",
       "    <tr>\n",
       "      <th>1</th>\n",
       "      <td>35</td>\n",
       "      <td>ANDAMAN AND NICOBAR ISLANDS</td>\n",
       "      <td>632</td>\n",
       "      <td>NORTH AND MIDDLE ANDAMAN</td>\n",
       "      <td>ANDAMAN AND NICOBAR ISLANDSNORTH AND MIDDLE AN...</td>\n",
       "    </tr>\n",
       "    <tr>\n",
       "      <th>2</th>\n",
       "      <td>35</td>\n",
       "      <td>ANDAMAN AND NICOBAR ISLANDS</td>\n",
       "      <td>602</td>\n",
       "      <td>SOUTH ANDAMANS</td>\n",
       "      <td>ANDAMAN AND NICOBAR ISLANDSSOUTH ANDAMANS</td>\n",
       "    </tr>\n",
       "    <tr>\n",
       "      <th>3</th>\n",
       "      <td>28</td>\n",
       "      <td>ANDHRA PRADESH                                ...</td>\n",
       "      <td>502</td>\n",
       "      <td>ANANTAPUR</td>\n",
       "      <td>ANDHRA PRADESHANANTAPUR</td>\n",
       "    </tr>\n",
       "    <tr>\n",
       "      <th>4</th>\n",
       "      <td>28</td>\n",
       "      <td>ANDHRA PRADESH                                ...</td>\n",
       "      <td>503</td>\n",
       "      <td>CHITTOOR</td>\n",
       "      <td>ANDHRA PRADESHCHITTOOR</td>\n",
       "    </tr>\n",
       "    <tr>\n",
       "      <th>...</th>\n",
       "      <td>...</td>\n",
       "      <td>...</td>\n",
       "      <td>...</td>\n",
       "      <td>...</td>\n",
       "      <td>...</td>\n",
       "    </tr>\n",
       "    <tr>\n",
       "      <th>729</th>\n",
       "      <td>19</td>\n",
       "      <td>WEST BENGAL                                   ...</td>\n",
       "      <td>319</td>\n",
       "      <td>MURSHIDABAD</td>\n",
       "      <td>WEST BENGALMURSHIDABAD</td>\n",
       "    </tr>\n",
       "    <tr>\n",
       "      <th>730</th>\n",
       "      <td>19</td>\n",
       "      <td>WEST BENGAL                                   ...</td>\n",
       "      <td>320</td>\n",
       "      <td>NADIA</td>\n",
       "      <td>WEST BENGALNADIA</td>\n",
       "    </tr>\n",
       "    <tr>\n",
       "      <th>731</th>\n",
       "      <td>19</td>\n",
       "      <td>WEST BENGAL                                   ...</td>\n",
       "      <td>704</td>\n",
       "      <td>PASCHIM BARDHAMAN</td>\n",
       "      <td>WEST BENGALPASCHIM BARDHAMAN</td>\n",
       "    </tr>\n",
       "    <tr>\n",
       "      <th>732</th>\n",
       "      <td>19</td>\n",
       "      <td>WEST BENGAL                                   ...</td>\n",
       "      <td>306</td>\n",
       "      <td>PURBA BARDHAMAN</td>\n",
       "      <td>WEST BENGALPURBA BARDHAMAN</td>\n",
       "    </tr>\n",
       "    <tr>\n",
       "      <th>733</th>\n",
       "      <td>19</td>\n",
       "      <td>WEST BENGAL                                   ...</td>\n",
       "      <td>321</td>\n",
       "      <td>PURULIA</td>\n",
       "      <td>WEST BENGALPURULIA</td>\n",
       "    </tr>\n",
       "  </tbody>\n",
       "</table>\n",
       "<p>734 rows × 5 columns</p>\n",
       "</div>"
      ],
      "text/plain": [
       "     St_LGD_code                                              state  \\\n",
       "0             35     ANDAMAN AND NICOBAR ISLANDS                      \n",
       "1             35     ANDAMAN AND NICOBAR ISLANDS                      \n",
       "2             35     ANDAMAN AND NICOBAR ISLANDS                      \n",
       "3             28  ANDHRA PRADESH                                ...   \n",
       "4             28  ANDHRA PRADESH                                ...   \n",
       "..           ...                                                ...   \n",
       "729           19  WEST BENGAL                                   ...   \n",
       "730           19  WEST BENGAL                                   ...   \n",
       "731           19  WEST BENGAL                                   ...   \n",
       "732           19  WEST BENGAL                                   ...   \n",
       "733           19  WEST BENGAL                                   ...   \n",
       "\n",
       "     Dt_LGD_code                  district  \\\n",
       "0            603                  NICOBARS   \n",
       "1            632  NORTH AND MIDDLE ANDAMAN   \n",
       "2            602            SOUTH ANDAMANS   \n",
       "3            502                 ANANTAPUR   \n",
       "4            503                  CHITTOOR   \n",
       "..           ...                       ...   \n",
       "729          319               MURSHIDABAD   \n",
       "730          320                     NADIA   \n",
       "731          704         PASCHIM BARDHAMAN   \n",
       "732          306           PURBA BARDHAMAN   \n",
       "733          321                   PURULIA   \n",
       "\n",
       "                                            state_dist  \n",
       "0                  ANDAMAN AND NICOBAR ISLANDSNICOBARS  \n",
       "1    ANDAMAN AND NICOBAR ISLANDSNORTH AND MIDDLE AN...  \n",
       "2            ANDAMAN AND NICOBAR ISLANDSSOUTH ANDAMANS  \n",
       "3                              ANDHRA PRADESHANANTAPUR  \n",
       "4                               ANDHRA PRADESHCHITTOOR  \n",
       "..                                                 ...  \n",
       "729                             WEST BENGALMURSHIDABAD  \n",
       "730                                   WEST BENGALNADIA  \n",
       "731                       WEST BENGALPASCHIM BARDHAMAN  \n",
       "732                         WEST BENGALPURBA BARDHAMAN  \n",
       "733                                 WEST BENGALPURULIA  \n",
       "\n",
       "[734 rows x 5 columns]"
      ]
     },
     "execution_count": 7,
     "metadata": {},
     "output_type": "execute_result"
    }
   ],
   "source": [
    "lgd"
   ]
  },
  {
   "cell_type": "code",
   "execution_count": 8,
   "metadata": {},
   "outputs": [],
   "source": [
    "non_sfac = pd.read_csv(Path.joinpath(processed_data_path, \"non_sfac.csv\"))"
   ]
  },
  {
   "cell_type": "code",
   "execution_count": 9,
   "metadata": {},
   "outputs": [
    {
     "data": {
      "text/plain": [
       "Index(['state', 'fpo_name', 'legal_form', 'reg_no', 'address',\n",
       "       'contact_details', 'major_crop_names', 'district', 'regn_date'],\n",
       "      dtype='object')"
      ]
     },
     "execution_count": 9,
     "metadata": {},
     "output_type": "execute_result"
    }
   ],
   "source": [
    "non_sfac.columns"
   ]
  },
  {
   "cell_type": "code",
   "execution_count": 10,
   "metadata": {},
   "outputs": [],
   "source": [
    "non_sfac[\"state\"] = non_sfac[\"state\"].str.upper()\n",
    "non_sfac[\"district\"] = non_sfac[\"district\"].str.upper()"
   ]
  },
  {
   "cell_type": "code",
   "execution_count": 11,
   "metadata": {},
   "outputs": [],
   "source": [
    "non_sfac['state_dist']  = non_sfac['state'] + non_sfac[\"district\"]"
   ]
  },
  {
   "cell_type": "code",
   "execution_count": 12,
   "metadata": {},
   "outputs": [],
   "source": [
    "df = pd.merge(\n",
    "            non_sfac,\n",
    "            lgd,\n",
    "            how=\"outer\",\n",
    "            left_on=\"state_dist\",\n",
    "            right_on=\"state_dist\",\n",
    "            validate=\"m:1\",\n",
    "            indicator=True,\n",
    "            suffixes=[\"_DATA\", \"_LGD\"],\n",
    "        )"
   ]
  },
  {
   "cell_type": "code",
   "execution_count": 13,
   "metadata": {},
   "outputs": [
    {
     "data": {
      "text/plain": [
       "right_only    658\n",
       "both          297\n",
       "left_only      41\n",
       "Name: _merge, dtype: int64"
      ]
     },
     "execution_count": 13,
     "metadata": {},
     "output_type": "execute_result"
    }
   ],
   "source": [
    "df['_merge'].value_counts()"
   ]
  },
  {
   "cell_type": "code",
   "execution_count": 14,
   "metadata": {},
   "outputs": [
    {
     "data": {
      "text/plain": [
       "Index(['state_DATA', 'fpo_name', 'legal_form', 'reg_no', 'address',\n",
       "       'contact_details', 'major_crop_names', 'district_DATA', 'regn_date',\n",
       "       'state_dist', 'St_LGD_code', 'state_LGD', 'Dt_LGD_code', 'district_LGD',\n",
       "       '_merge'],\n",
       "      dtype='object')"
      ]
     },
     "execution_count": 14,
     "metadata": {},
     "output_type": "execute_result"
    }
   ],
   "source": [
    "df.columns"
   ]
  },
  {
   "cell_type": "code",
   "execution_count": 15,
   "metadata": {},
   "outputs": [],
   "source": [
    "not_lgd_mapped = df[(df[\"_merge\"] == \"left_only\")][\n",
    "            [\n",
    "                \"state_DATA\",\n",
    "                \"district_DATA\",\n",
    "                \"state_dist\",\n",
    "            ]\n",
    "        ]"
   ]
  },
  {
   "cell_type": "code",
   "execution_count": 16,
   "metadata": {},
   "outputs": [],
   "source": [
    "not_lgd_mapped = not_lgd_mapped.drop_duplicates(subset=\"state_dist\")"
   ]
  },
  {
   "cell_type": "code",
   "execution_count": 17,
   "metadata": {},
   "outputs": [],
   "source": [
    "not_lgd_mapped.drop([45], axis =0, inplace = True)"
   ]
  },
  {
   "cell_type": "code",
   "execution_count": 18,
   "metadata": {},
   "outputs": [],
   "source": [
    "result = [\n",
    "            process.extractOne(i, lgd[\"state_dist\"])\n",
    "            for i in not_lgd_mapped[\"state_dist\"]\n",
    "        ]\n",
    "result = pd.DataFrame(result, columns=[\"match\", \"score\", \"id\"])\n",
    "result.drop(\"id\", axis=1, inplace=True)"
   ]
  },
  {
   "cell_type": "code",
   "execution_count": 19,
   "metadata": {},
   "outputs": [
    {
     "data": {
      "text/html": [
       "<div>\n",
       "<style scoped>\n",
       "    .dataframe tbody tr th:only-of-type {\n",
       "        vertical-align: middle;\n",
       "    }\n",
       "\n",
       "    .dataframe tbody tr th {\n",
       "        vertical-align: top;\n",
       "    }\n",
       "\n",
       "    .dataframe thead th {\n",
       "        text-align: right;\n",
       "    }\n",
       "</style>\n",
       "<table border=\"1\" class=\"dataframe\">\n",
       "  <thead>\n",
       "    <tr style=\"text-align: right;\">\n",
       "      <th></th>\n",
       "      <th>match</th>\n",
       "      <th>score</th>\n",
       "    </tr>\n",
       "  </thead>\n",
       "  <tbody>\n",
       "    <tr>\n",
       "      <th>0</th>\n",
       "      <td>ASSAMNAGAON</td>\n",
       "      <td>91</td>\n",
       "    </tr>\n",
       "    <tr>\n",
       "      <th>1</th>\n",
       "      <td>ASSAMBAKSA</td>\n",
       "      <td>80</td>\n",
       "    </tr>\n",
       "    <tr>\n",
       "      <th>2</th>\n",
       "      <td>GUJARATKACHCHH</td>\n",
       "      <td>90</td>\n",
       "    </tr>\n",
       "    <tr>\n",
       "      <th>3</th>\n",
       "      <td>TAMIL NADUKANNIYAKUMARI</td>\n",
       "      <td>95</td>\n",
       "    </tr>\n",
       "    <tr>\n",
       "      <th>4</th>\n",
       "      <td>TELANGANAMAHABUBNAGAR</td>\n",
       "      <td>98</td>\n",
       "    </tr>\n",
       "    <tr>\n",
       "      <th>5</th>\n",
       "      <td>TELANGANAWARANGAL RURAL</td>\n",
       "      <td>95</td>\n",
       "    </tr>\n",
       "    <tr>\n",
       "      <th>6</th>\n",
       "      <td>UTTAR PRADESHHAMIRPUR</td>\n",
       "      <td>91</td>\n",
       "    </tr>\n",
       "    <tr>\n",
       "      <th>7</th>\n",
       "      <td>UTTAR PRADESHBANDA</td>\n",
       "      <td>100</td>\n",
       "    </tr>\n",
       "    <tr>\n",
       "      <th>8</th>\n",
       "      <td>UTTAR PRADESHAGRA</td>\n",
       "      <td>91</td>\n",
       "    </tr>\n",
       "    <tr>\n",
       "      <th>9</th>\n",
       "      <td>UTTAR PRADESHKasganj</td>\n",
       "      <td>100</td>\n",
       "    </tr>\n",
       "    <tr>\n",
       "      <th>10</th>\n",
       "      <td>UTTARAKHANDUTTAR KASHI</td>\n",
       "      <td>98</td>\n",
       "    </tr>\n",
       "    <tr>\n",
       "      <th>11</th>\n",
       "      <td>UTTARAKHANDTEHRI GARHWAL</td>\n",
       "      <td>90</td>\n",
       "    </tr>\n",
       "    <tr>\n",
       "      <th>12</th>\n",
       "      <td>UTTARAKHANDRUDRA PRAYAG</td>\n",
       "      <td>98</td>\n",
       "    </tr>\n",
       "    <tr>\n",
       "      <th>13</th>\n",
       "      <td>UTTARAKHANDUTTAR KASHI</td>\n",
       "      <td>95</td>\n",
       "    </tr>\n",
       "  </tbody>\n",
       "</table>\n",
       "</div>"
      ],
      "text/plain": [
       "                       match  score\n",
       "0                ASSAMNAGAON     91\n",
       "1                 ASSAMBAKSA     80\n",
       "2             GUJARATKACHCHH     90\n",
       "3    TAMIL NADUKANNIYAKUMARI     95\n",
       "4      TELANGANAMAHABUBNAGAR     98\n",
       "5    TELANGANAWARANGAL RURAL     95\n",
       "6      UTTAR PRADESHHAMIRPUR     91\n",
       "7         UTTAR PRADESHBANDA    100\n",
       "8          UTTAR PRADESHAGRA     91\n",
       "9       UTTAR PRADESHKasganj    100\n",
       "10    UTTARAKHANDUTTAR KASHI     98\n",
       "11  UTTARAKHANDTEHRI GARHWAL     90\n",
       "12   UTTARAKHANDRUDRA PRAYAG     98\n",
       "13    UTTARAKHANDUTTAR KASHI     95"
      ]
     },
     "execution_count": 19,
     "metadata": {},
     "output_type": "execute_result"
    }
   ],
   "source": [
    "result"
   ]
  },
  {
   "cell_type": "code",
   "execution_count": 20,
   "metadata": {},
   "outputs": [],
   "source": [
    "not_lgd_proxy_df = (\n",
    "                pd.DataFrame(not_lgd_mapped[\"state_dist\"], index=None)\n",
    "                .reset_index()\n",
    "                .drop(\"index\", axis=1)\n",
    "        )"
   ]
  },
  {
   "cell_type": "code",
   "execution_count": 21,
   "metadata": {},
   "outputs": [],
   "source": [
    "mapper_df = pd.concat(\n",
    "            [not_lgd_proxy_df, result],\n",
    "            axis=1,\n",
    "            ignore_index=True,\n",
    "            names=[\"original\", \"match\", \"score\"],\n",
    "        )"
   ]
  },
  {
   "cell_type": "code",
   "execution_count": 22,
   "metadata": {},
   "outputs": [],
   "source": [
    "mapper_df = mapper_df[mapper_df[2] >= 90]"
   ]
  },
  {
   "cell_type": "code",
   "execution_count": 23,
   "metadata": {},
   "outputs": [],
   "source": [
    "mapper_dict = dict(zip(mapper_df[0], mapper_df[1]))\n",
    "non_sfac[\"state_dist\"] = non_sfac[\"state_dist\"].replace(mapper_dict)"
   ]
  },
  {
   "cell_type": "code",
   "execution_count": 24,
   "metadata": {},
   "outputs": [],
   "source": [
    "df = pd.merge(\n",
    "            non_sfac,\n",
    "            lgd,\n",
    "            how=\"outer\",\n",
    "            left_on=\"state_dist\",\n",
    "            right_on=\"state_dist\",\n",
    "            validate=\"m:1\",\n",
    "            indicator=True,\n",
    "            suffixes=[\"_SFAC\", \"_LGD\"],\n",
    "        )\n"
   ]
  },
  {
   "cell_type": "code",
   "execution_count": 25,
   "metadata": {},
   "outputs": [
    {
     "data": {
      "text/plain": [
       "right_only    649\n",
       "both          336\n",
       "left_only       2\n",
       "Name: _merge, dtype: int64"
      ]
     },
     "execution_count": 25,
     "metadata": {},
     "output_type": "execute_result"
    }
   ],
   "source": [
    "df[\"_merge\"].value_counts()"
   ]
  },
  {
   "cell_type": "code",
   "execution_count": 26,
   "metadata": {},
   "outputs": [],
   "source": [
    "not_lgd_mapped = df[(df[\"_merge\"] == \"left_only\")][\n",
    "            [\n",
    "                \"state_SFAC\",\n",
    "                \"district_SFAC\",\n",
    "                \"state_dist\",\n",
    "            ]\n",
    "        ]\n",
    "not_lgd_mapped = not_lgd_mapped.drop_duplicates(subset=\"state_dist\")"
   ]
  },
  {
   "cell_type": "code",
   "execution_count": 27,
   "metadata": {},
   "outputs": [],
   "source": [
    "not_lgd_mapped.drop([45], axis =0, inplace = True)"
   ]
  },
  {
   "cell_type": "code",
   "execution_count": 28,
   "metadata": {},
   "outputs": [],
   "source": [
    "result = [\n",
    "            process.extractOne(i, lgd[\"state_dist\"])\n",
    "            for i in not_lgd_mapped[\"state_dist\"]\n",
    "        ]\n",
    "result = pd.DataFrame(result, columns=[\"match\", \"score\", \"id\"])\n",
    "result.drop(\"id\", axis=1, inplace=True)"
   ]
  },
  {
   "cell_type": "code",
   "execution_count": 29,
   "metadata": {},
   "outputs": [],
   "source": [
    "not_lgd_proxy_df = (\n",
    "                pd.DataFrame(not_lgd_mapped[\"state_dist\"], index=None)\n",
    "                .reset_index()\n",
    "                .drop(\"index\", axis=1)\n",
    "        )"
   ]
  },
  {
   "cell_type": "code",
   "execution_count": 30,
   "metadata": {},
   "outputs": [],
   "source": [
    "mapper_df = pd.concat(\n",
    "            [not_lgd_proxy_df, result],\n",
    "            axis=1,\n",
    "            ignore_index=True,\n",
    "            names=[\"original\", \"match\", \"score\"],\n",
    "        )"
   ]
  },
  {
   "cell_type": "code",
   "execution_count": 31,
   "metadata": {},
   "outputs": [
    {
     "data": {
      "text/html": [
       "<div>\n",
       "<style scoped>\n",
       "    .dataframe tbody tr th:only-of-type {\n",
       "        vertical-align: middle;\n",
       "    }\n",
       "\n",
       "    .dataframe tbody tr th {\n",
       "        vertical-align: top;\n",
       "    }\n",
       "\n",
       "    .dataframe thead th {\n",
       "        text-align: right;\n",
       "    }\n",
       "</style>\n",
       "<table border=\"1\" class=\"dataframe\">\n",
       "  <thead>\n",
       "    <tr style=\"text-align: right;\">\n",
       "      <th></th>\n",
       "      <th>0</th>\n",
       "      <th>1</th>\n",
       "      <th>2</th>\n",
       "    </tr>\n",
       "  </thead>\n",
       "  <tbody>\n",
       "    <tr>\n",
       "      <th>0</th>\n",
       "      <td>ASSAMMANSA</td>\n",
       "      <td>ASSAMBAKSA</td>\n",
       "      <td>80</td>\n",
       "    </tr>\n",
       "  </tbody>\n",
       "</table>\n",
       "</div>"
      ],
      "text/plain": [
       "            0           1   2\n",
       "0  ASSAMMANSA  ASSAMBAKSA  80"
      ]
     },
     "execution_count": 31,
     "metadata": {},
     "output_type": "execute_result"
    }
   ],
   "source": [
    "mapper_df"
   ]
  },
  {
   "cell_type": "code",
   "execution_count": 32,
   "metadata": {},
   "outputs": [],
   "source": [
    "mapper_df = mapper_df[mapper_df[2] >= 90]"
   ]
  },
  {
   "cell_type": "code",
   "execution_count": 33,
   "metadata": {},
   "outputs": [],
   "source": [
    "mapper_dict = dict(zip(mapper_df[0], mapper_df[1]))\n",
    "non_sfac[\"state_dist\"] = non_sfac[\"state_dist\"].replace(mapper_dict)"
   ]
  },
  {
   "cell_type": "code",
   "execution_count": 34,
   "metadata": {},
   "outputs": [],
   "source": [
    "df = pd.merge(\n",
    "            non_sfac,\n",
    "            lgd,\n",
    "            how=\"outer\",\n",
    "            left_on=\"state_dist\",\n",
    "            right_on=\"state_dist\",\n",
    "            validate=\"m:1\",\n",
    "            indicator=True,\n",
    "            suffixes=[\"_SFAC\", \"_LGD\"],\n",
    "        )\n"
   ]
  },
  {
   "cell_type": "code",
   "execution_count": 35,
   "metadata": {},
   "outputs": [
    {
     "data": {
      "text/plain": [
       "right_only    649\n",
       "both          336\n",
       "left_only       2\n",
       "Name: _merge, dtype: int64"
      ]
     },
     "execution_count": 35,
     "metadata": {},
     "output_type": "execute_result"
    }
   ],
   "source": [
    "df[\"_merge\"].value_counts()"
   ]
  },
  {
   "cell_type": "code",
   "execution_count": 36,
   "metadata": {},
   "outputs": [],
   "source": [
    "not_lgd_mapped = df[(df[\"_merge\"] == \"left_only\")][\n",
    "            [\n",
    "                \"state_SFAC\",\n",
    "                \"district_SFAC\",\n",
    "                \"state_dist\",\n",
    "            ]\n",
    "        ]\n",
    "not_lgd_mapped = not_lgd_mapped.drop_duplicates(subset=\"state_dist\")"
   ]
  },
  {
   "cell_type": "code",
   "execution_count": 37,
   "metadata": {},
   "outputs": [
    {
     "data": {
      "text/plain": [
       "2"
      ]
     },
     "execution_count": 37,
     "metadata": {},
     "output_type": "execute_result"
    }
   ],
   "source": [
    "len(not_lgd_mapped)"
   ]
  },
  {
   "cell_type": "code",
   "execution_count": 38,
   "metadata": {},
   "outputs": [],
   "source": [
    "not_lgd_mapped.to_csv(\"non_sfac_unmapped.csv\")"
   ]
  },
  {
   "cell_type": "code",
   "execution_count": 56,
   "metadata": {},
   "outputs": [],
   "source": [
    "df1 = df[df[\"_merge\"] == \"both\"]"
   ]
  },
  {
   "cell_type": "code",
   "execution_count": 57,
   "metadata": {},
   "outputs": [],
   "source": [
    "df1 = df1.drop(['_merge', 'district_LGD', 'state_LGD'], axis = 1)"
   ]
  },
  {
   "cell_type": "code",
   "execution_count": 58,
   "metadata": {},
   "outputs": [
    {
     "data": {
      "text/plain": [
       "['state_SFAC',\n",
       " 'fpo_name',\n",
       " 'legal_form',\n",
       " 'reg_no',\n",
       " 'address',\n",
       " 'contact_details',\n",
       " 'major_crop_names',\n",
       " 'district_SFAC',\n",
       " 'regn_date',\n",
       " 'state_dist',\n",
       " 'St_LGD_code',\n",
       " 'Dt_LGD_code']"
      ]
     },
     "execution_count": 58,
     "metadata": {},
     "output_type": "execute_result"
    }
   ],
   "source": [
    "df1.columns.to_list()"
   ]
  },
  {
   "cell_type": "code",
   "execution_count": 59,
   "metadata": {},
   "outputs": [],
   "source": [
    "l = ['state_SFAC',\n",
    " 'district_SFAC',\n",
    " 'state_dist',\n",
    " 'St_LGD_code',\n",
    " 'Dt_LGD_code',\n",
    " 'fpo_name',\n",
    " 'legal_form',\n",
    " 'reg_no',\n",
    " 'address',\n",
    " 'contact_details',\n",
    " 'major_crop_names',\n",
    " 'regn_date']"
   ]
  },
  {
   "cell_type": "code",
   "execution_count": 60,
   "metadata": {},
   "outputs": [],
   "source": [
    "df1 = df1[l]"
   ]
  },
  {
   "cell_type": "code",
   "execution_count": 61,
   "metadata": {},
   "outputs": [],
   "source": [
    "df1 = df1.rename(columns = {'state_SFAC':'state', 'district_SFAC':'district'})"
   ]
  },
  {
   "cell_type": "code",
   "execution_count": 64,
   "metadata": {},
   "outputs": [],
   "source": [
    "df1.to_csv(Path.joinpath(processed_data_path, \"non_sfac_lgd.csv\"), index=False)"
   ]
  },
  {
   "cell_type": "code",
   "execution_count": 3,
   "metadata": {},
   "outputs": [],
   "source": [
    "data =  pd.read_csv(Path.joinpath(processed_data_path, \"non_sfac_lgd.csv\"))"
   ]
  },
  {
   "cell_type": "code",
   "execution_count": 5,
   "metadata": {},
   "outputs": [],
   "source": [
    "data.drop(['state_dist'], axis = 1, inplace = True)\n",
    "data.rename(columns={'St_LGD_code':'state_lgd_code', 'Dt_LGD_code':'district_lgd_code'}, inplace = True)"
   ]
  },
  {
   "cell_type": "code",
   "execution_count": 7,
   "metadata": {},
   "outputs": [],
   "source": [
    "data.to_csv(Path.joinpath(processed_data_path, \"non_sfac_lgd.csv\"), index=False)"
   ]
  },
  {
   "cell_type": "code",
   "execution_count": null,
   "metadata": {},
   "outputs": [],
   "source": []
  }
 ],
 "metadata": {
  "interpreter": {
   "hash": "a09e2b970767d0be2f332117f45685007d2c8ec89818e216477a3461de0aaaa8"
  },
  "kernelspec": {
   "display_name": "Python 3.7.6 ('.venv': poetry)",
   "language": "python",
   "name": "python3"
  },
  "language_info": {
   "codemirror_mode": {
    "name": "ipython",
    "version": 3
   },
   "file_extension": ".py",
   "mimetype": "text/x-python",
   "name": "python",
   "nbconvert_exporter": "python",
   "pygments_lexer": "ipython3",
   "version": "3.7.6"
  },
  "orig_nbformat": 4
 },
 "nbformat": 4,
 "nbformat_minor": 2
}
