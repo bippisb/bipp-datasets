{
 "cells": [
  {
   "cell_type": "code",
   "execution_count": 111,
   "metadata": {},
   "outputs": [],
   "source": [
    "import pandas as pd\n",
    "from pathlib import Path"
   ]
  },
  {
   "cell_type": "code",
   "execution_count": 112,
   "metadata": {},
   "outputs": [],
   "source": [
    "dir_path = Path.cwd()\n",
    "raw_data_path = Path.joinpath(dir_path, \"data\", \"raw\")\n",
    "interim_data_path = Path.joinpath(dir_path, \"data\", \"interim\")\n",
    "proc_data_path = Path.joinpath(dir_path, \"data\", \"processed\")"
   ]
  },
  {
   "cell_type": "code",
   "execution_count": 113,
   "metadata": {},
   "outputs": [],
   "source": [
    "sfac = pd.read_csv(Path.joinpath(interim_data_path, \"sfac.csv\"))\n",
    "non_sfac = pd.read_csv(Path.joinpath(interim_data_path, \"non_sfac.csv\"))"
   ]
  },
  {
   "cell_type": "code",
   "execution_count": 114,
   "metadata": {},
   "outputs": [
    {
     "data": {
      "text/plain": [
       "0      17.Jan.17\n",
       "1      27.Jan.17\n",
       "2      17.Jan.17\n",
       "3      07.Sep.16\n",
       "4      14.Sep.16\n",
       "         ...    \n",
       "893    19.Dez.19\n",
       "894    05.Apr.19\n",
       "895    12.Aug.20\n",
       "896    05.Sep.20\n",
       "897    28.Dez.20\n",
       "Name: reg_date, Length: 898, dtype: object"
      ]
     },
     "execution_count": 114,
     "metadata": {},
     "output_type": "execute_result"
    }
   ],
   "source": [
    "sfac['reg_date']"
   ]
  },
  {
   "cell_type": "code",
   "execution_count": 115,
   "metadata": {},
   "outputs": [
    {
     "data": {
      "text/plain": [
       "'11.Jul.14'"
      ]
     },
     "execution_count": 115,
     "metadata": {},
     "output_type": "execute_result"
    }
   ],
   "source": [
    "non_sfac['reg_date'].iloc[6]"
   ]
  },
  {
   "cell_type": "code",
   "execution_count": 116,
   "metadata": {},
   "outputs": [],
   "source": [
    "month = {'Jan': '01', 'Feb': '02', 'Mar': '03', 'Apr': '04', 'May': '05', 'Mai' : '05', 'Jun': '06', 'Jul': '07', 'Aug': '08', 'Sep': '09', 'Okt': '10', 'Oct': '10', 'Nov': '11', 'Dez': '12', 'Dec': '12'}"
   ]
  },
  {
   "cell_type": "code",
   "execution_count": 117,
   "metadata": {},
   "outputs": [],
   "source": [
    "date = sfac['reg_date']"
   ]
  },
  {
   "cell_type": "code",
   "execution_count": 118,
   "metadata": {},
   "outputs": [],
   "source": [
    "sfac['regn_date'] = \"\""
   ]
  },
  {
   "cell_type": "code",
   "execution_count": 119,
   "metadata": {},
   "outputs": [],
   "source": [
    "for i in range(len(date)):\n",
    "    if (type(date[i]) == str):\n",
    "        l = date[i].split(\".\")\n",
    "        if(len(l)==3):\n",
    "            if(l[1] in month):\n",
    "                m = month[l[1]]\n",
    "            else:\n",
    "                if (l[1][-1] == 'r'):\n",
    "                    m = '03'\n",
    "                elif((l[1][0] == 'J') and (l[1][-1] == 'n')):\n",
    "                    m = '01'\n",
    "            d = str(l[0]) + '/' + str(m) + '/' + str(l[2])\n",
    "            sfac['regn_date'][i] = d\n",
    "    "
   ]
  },
  {
   "cell_type": "code",
   "execution_count": 120,
   "metadata": {},
   "outputs": [],
   "source": [
    "sfac.drop(['reg_date'], axis = 1, inplace = True)"
   ]
  },
  {
   "cell_type": "code",
   "execution_count": 121,
   "metadata": {},
   "outputs": [],
   "source": [
    "sfac.to_csv(Path.joinpath(proc_data_path, \"sfac.csv\"), index = False)"
   ]
  },
  {
   "cell_type": "code",
   "execution_count": 122,
   "metadata": {},
   "outputs": [],
   "source": [
    "date = non_sfac['reg_date']\n",
    "non_sfac['regn_date'] = \"\""
   ]
  },
  {
   "cell_type": "code",
   "execution_count": 123,
   "metadata": {},
   "outputs": [
    {
     "name": "stderr",
     "output_type": "stream",
     "text": [
      "C:\\Users\\gohal\\Desktop\\Coding\\bipp-datasets\\.venv\\lib\\site-packages\\ipykernel_launcher.py:13: SettingWithCopyWarning: \n",
      "A value is trying to be set on a copy of a slice from a DataFrame\n",
      "\n",
      "See the caveats in the documentation: https://pandas.pydata.org/pandas-docs/stable/user_guide/indexing.html#returning-a-view-versus-a-copy\n",
      "  del sys.path[0]\n",
      "C:\\Users\\gohal\\Desktop\\Coding\\bipp-datasets\\.venv\\lib\\site-packages\\ipykernel_launcher.py:17: SettingWithCopyWarning: \n",
      "A value is trying to be set on a copy of a slice from a DataFrame\n",
      "\n",
      "See the caveats in the documentation: https://pandas.pydata.org/pandas-docs/stable/user_guide/indexing.html#returning-a-view-versus-a-copy\n"
     ]
    }
   ],
   "source": [
    "for i in range(len(date)):\n",
    "    if (type(date[i]) == str):\n",
    "        l = date[i].split(\".\")\n",
    "        if(len(l)==3):\n",
    "            if(l[1] in month):\n",
    "                m = month[l[1]]\n",
    "            else:\n",
    "                if ((l[1][-1] == 'r') and (l[1][0] == 'M')):\n",
    "                    m = '03'\n",
    "                elif((l[1][0] == 'J') and (l[1][-1] == 'n')):\n",
    "                    m = '01'\n",
    "            d = str(l[0]) + '/' + str(m) + '/' + str(l[2])\n",
    "            non_sfac['regn_date'][i] = d\n",
    "        else:\n",
    "            l1 = date[i].split(\" \")\n",
    "            d = l1[0]\n",
    "            non_sfac['regn_date'][i] = d"
   ]
  },
  {
   "cell_type": "code",
   "execution_count": 124,
   "metadata": {},
   "outputs": [],
   "source": [
    "non_sfac.drop(['reg_date'], axis = 1, inplace = True)"
   ]
  },
  {
   "cell_type": "code",
   "execution_count": 125,
   "metadata": {},
   "outputs": [],
   "source": [
    "non_sfac.drop(['Unnamed: 0', 'Unnamed: 0.1'], axis = 1, inplace = True)"
   ]
  },
  {
   "cell_type": "code",
   "execution_count": 126,
   "metadata": {},
   "outputs": [],
   "source": [
    "non_sfac.to_csv(Path.joinpath(proc_data_path, \"non_sfac.csv\"), index = False)"
   ]
  },
  {
   "cell_type": "code",
   "execution_count": null,
   "metadata": {},
   "outputs": [],
   "source": []
  }
 ],
 "metadata": {
  "interpreter": {
   "hash": "a09e2b970767d0be2f332117f45685007d2c8ec89818e216477a3461de0aaaa8"
  },
  "kernelspec": {
   "display_name": "Python 3.7.6 ('.venv': poetry)",
   "language": "python",
   "name": "python3"
  },
  "language_info": {
   "codemirror_mode": {
    "name": "ipython",
    "version": 3
   },
   "file_extension": ".py",
   "mimetype": "text/x-python",
   "name": "python",
   "nbconvert_exporter": "python",
   "pygments_lexer": "ipython3",
   "version": "3.7.6"
  },
  "orig_nbformat": 4
 },
 "nbformat": 4,
 "nbformat_minor": 2
}
