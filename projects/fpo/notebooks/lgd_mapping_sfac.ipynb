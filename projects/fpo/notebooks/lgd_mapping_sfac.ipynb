{
 "cells": [
  {
   "cell_type": "code",
   "execution_count": 1,
   "metadata": {},
   "outputs": [
    {
     "name": "stderr",
     "output_type": "stream",
     "text": [
      "C:\\Users\\gohal\\Desktop\\Coding\\bipp-datasets\\.venv\\lib\\site-packages\\fuzzywuzzy\\fuzz.py:11: UserWarning: Using slow pure-python SequenceMatcher. Install python-Levenshtein to remove this warning\n",
      "  warnings.warn('Using slow pure-python SequenceMatcher. Install python-Levenshtein to remove this warning')\n"
     ]
    }
   ],
   "source": [
    "from pathlib import Path\n",
    "import pandas as pd\n",
    "from fuzzywuzzy import process"
   ]
  },
  {
   "cell_type": "code",
   "execution_count": 2,
   "metadata": {},
   "outputs": [],
   "source": [
    "dir_path = Path.cwd()\n",
    "raw_data_path = Path.joinpath(dir_path, \"data\", \"raw\")\n",
    "interim_data_path = Path.joinpath(dir_path, \"data\", \"interim\")\n",
    "processed_data_path = Path.joinpath(dir_path, \"data\", \"processed\")\n",
    "ext_data_path = Path.joinpath(dir_path, \"data\", \"external\")"
   ]
  },
  {
   "cell_type": "code",
   "execution_count": 3,
   "metadata": {},
   "outputs": [],
   "source": [
    "lgd = pd.read_csv(Path.joinpath(ext_data_path, \"lgd_district.csv\"))"
   ]
  },
  {
   "cell_type": "code",
   "execution_count": 4,
   "metadata": {},
   "outputs": [],
   "source": [
    "lgd.drop([\"St_Cs2011_code\",\"St_Cs2001_code\",\"Dt_Cs2011_code\", \"Dt_Cs2001_code\"], axis=1, inplace=True)\n"
   ]
  },
  {
   "cell_type": "code",
   "execution_count": 5,
   "metadata": {},
   "outputs": [],
   "source": [
    "lgd = lgd.rename(\n",
    "    columns={\n",
    "        \"State Name(In English)\": \"state\",\n",
    "        \"District Name(In English)\": \"district\",\n",
    "    }\n",
    ")"
   ]
  },
  {
   "cell_type": "code",
   "execution_count": 6,
   "metadata": {},
   "outputs": [
    {
     "name": "stderr",
     "output_type": "stream",
     "text": [
      "C:\\Users\\gohal\\Desktop\\Coding\\bipp-datasets\\.venv\\lib\\site-packages\\ipykernel_launcher.py:3: SettingWithCopyWarning: \n",
      "A value is trying to be set on a copy of a slice from a DataFrame\n",
      "\n",
      "See the caveats in the documentation: https://pandas.pydata.org/pandas-docs/stable/user_guide/indexing.html#returning-a-view-versus-a-copy\n",
      "  This is separate from the ipykernel package so we can avoid doing imports until\n"
     ]
    }
   ],
   "source": [
    "lgd[\"state_dist\"] = \"\"\n",
    "for i in range(0, 734):\n",
    "    lgd[\"state_dist\"][i] = lgd[\"state\"][i].rstrip() + lgd[\"district\"][i]"
   ]
  },
  {
   "cell_type": "code",
   "execution_count": 7,
   "metadata": {},
   "outputs": [
    {
     "data": {
      "text/html": [
       "<div>\n",
       "<style scoped>\n",
       "    .dataframe tbody tr th:only-of-type {\n",
       "        vertical-align: middle;\n",
       "    }\n",
       "\n",
       "    .dataframe tbody tr th {\n",
       "        vertical-align: top;\n",
       "    }\n",
       "\n",
       "    .dataframe thead th {\n",
       "        text-align: right;\n",
       "    }\n",
       "</style>\n",
       "<table border=\"1\" class=\"dataframe\">\n",
       "  <thead>\n",
       "    <tr style=\"text-align: right;\">\n",
       "      <th></th>\n",
       "      <th>St_LGD_code</th>\n",
       "      <th>state</th>\n",
       "      <th>Dt_LGD_code</th>\n",
       "      <th>district</th>\n",
       "      <th>state_dist</th>\n",
       "    </tr>\n",
       "  </thead>\n",
       "  <tbody>\n",
       "    <tr>\n",
       "      <th>0</th>\n",
       "      <td>35</td>\n",
       "      <td>ANDAMAN AND NICOBAR ISLANDS</td>\n",
       "      <td>603</td>\n",
       "      <td>NICOBARS</td>\n",
       "      <td>ANDAMAN AND NICOBAR ISLANDSNICOBARS</td>\n",
       "    </tr>\n",
       "    <tr>\n",
       "      <th>1</th>\n",
       "      <td>35</td>\n",
       "      <td>ANDAMAN AND NICOBAR ISLANDS</td>\n",
       "      <td>632</td>\n",
       "      <td>NORTH AND MIDDLE ANDAMAN</td>\n",
       "      <td>ANDAMAN AND NICOBAR ISLANDSNORTH AND MIDDLE AN...</td>\n",
       "    </tr>\n",
       "    <tr>\n",
       "      <th>2</th>\n",
       "      <td>35</td>\n",
       "      <td>ANDAMAN AND NICOBAR ISLANDS</td>\n",
       "      <td>602</td>\n",
       "      <td>SOUTH ANDAMANS</td>\n",
       "      <td>ANDAMAN AND NICOBAR ISLANDSSOUTH ANDAMANS</td>\n",
       "    </tr>\n",
       "    <tr>\n",
       "      <th>3</th>\n",
       "      <td>28</td>\n",
       "      <td>ANDHRA PRADESH                                ...</td>\n",
       "      <td>502</td>\n",
       "      <td>ANANTAPUR</td>\n",
       "      <td>ANDHRA PRADESHANANTAPUR</td>\n",
       "    </tr>\n",
       "    <tr>\n",
       "      <th>4</th>\n",
       "      <td>28</td>\n",
       "      <td>ANDHRA PRADESH                                ...</td>\n",
       "      <td>503</td>\n",
       "      <td>CHITTOOR</td>\n",
       "      <td>ANDHRA PRADESHCHITTOOR</td>\n",
       "    </tr>\n",
       "    <tr>\n",
       "      <th>...</th>\n",
       "      <td>...</td>\n",
       "      <td>...</td>\n",
       "      <td>...</td>\n",
       "      <td>...</td>\n",
       "      <td>...</td>\n",
       "    </tr>\n",
       "    <tr>\n",
       "      <th>729</th>\n",
       "      <td>19</td>\n",
       "      <td>WEST BENGAL                                   ...</td>\n",
       "      <td>319</td>\n",
       "      <td>MURSHIDABAD</td>\n",
       "      <td>WEST BENGALMURSHIDABAD</td>\n",
       "    </tr>\n",
       "    <tr>\n",
       "      <th>730</th>\n",
       "      <td>19</td>\n",
       "      <td>WEST BENGAL                                   ...</td>\n",
       "      <td>320</td>\n",
       "      <td>NADIA</td>\n",
       "      <td>WEST BENGALNADIA</td>\n",
       "    </tr>\n",
       "    <tr>\n",
       "      <th>731</th>\n",
       "      <td>19</td>\n",
       "      <td>WEST BENGAL                                   ...</td>\n",
       "      <td>704</td>\n",
       "      <td>PASCHIM BARDHAMAN</td>\n",
       "      <td>WEST BENGALPASCHIM BARDHAMAN</td>\n",
       "    </tr>\n",
       "    <tr>\n",
       "      <th>732</th>\n",
       "      <td>19</td>\n",
       "      <td>WEST BENGAL                                   ...</td>\n",
       "      <td>306</td>\n",
       "      <td>PURBA BARDHAMAN</td>\n",
       "      <td>WEST BENGALPURBA BARDHAMAN</td>\n",
       "    </tr>\n",
       "    <tr>\n",
       "      <th>733</th>\n",
       "      <td>19</td>\n",
       "      <td>WEST BENGAL                                   ...</td>\n",
       "      <td>321</td>\n",
       "      <td>PURULIA</td>\n",
       "      <td>WEST BENGALPURULIA</td>\n",
       "    </tr>\n",
       "  </tbody>\n",
       "</table>\n",
       "<p>734 rows × 5 columns</p>\n",
       "</div>"
      ],
      "text/plain": [
       "     St_LGD_code                                              state  \\\n",
       "0             35     ANDAMAN AND NICOBAR ISLANDS                      \n",
       "1             35     ANDAMAN AND NICOBAR ISLANDS                      \n",
       "2             35     ANDAMAN AND NICOBAR ISLANDS                      \n",
       "3             28  ANDHRA PRADESH                                ...   \n",
       "4             28  ANDHRA PRADESH                                ...   \n",
       "..           ...                                                ...   \n",
       "729           19  WEST BENGAL                                   ...   \n",
       "730           19  WEST BENGAL                                   ...   \n",
       "731           19  WEST BENGAL                                   ...   \n",
       "732           19  WEST BENGAL                                   ...   \n",
       "733           19  WEST BENGAL                                   ...   \n",
       "\n",
       "     Dt_LGD_code                  district  \\\n",
       "0            603                  NICOBARS   \n",
       "1            632  NORTH AND MIDDLE ANDAMAN   \n",
       "2            602            SOUTH ANDAMANS   \n",
       "3            502                 ANANTAPUR   \n",
       "4            503                  CHITTOOR   \n",
       "..           ...                       ...   \n",
       "729          319               MURSHIDABAD   \n",
       "730          320                     NADIA   \n",
       "731          704         PASCHIM BARDHAMAN   \n",
       "732          306           PURBA BARDHAMAN   \n",
       "733          321                   PURULIA   \n",
       "\n",
       "                                            state_dist  \n",
       "0                  ANDAMAN AND NICOBAR ISLANDSNICOBARS  \n",
       "1    ANDAMAN AND NICOBAR ISLANDSNORTH AND MIDDLE AN...  \n",
       "2            ANDAMAN AND NICOBAR ISLANDSSOUTH ANDAMANS  \n",
       "3                              ANDHRA PRADESHANANTAPUR  \n",
       "4                               ANDHRA PRADESHCHITTOOR  \n",
       "..                                                 ...  \n",
       "729                             WEST BENGALMURSHIDABAD  \n",
       "730                                   WEST BENGALNADIA  \n",
       "731                       WEST BENGALPASCHIM BARDHAMAN  \n",
       "732                         WEST BENGALPURBA BARDHAMAN  \n",
       "733                                 WEST BENGALPURULIA  \n",
       "\n",
       "[734 rows x 5 columns]"
      ]
     },
     "execution_count": 7,
     "metadata": {},
     "output_type": "execute_result"
    }
   ],
   "source": [
    "lgd"
   ]
  },
  {
   "cell_type": "code",
   "execution_count": 8,
   "metadata": {},
   "outputs": [],
   "source": [
    "sfac = pd.read_csv(Path.joinpath(processed_data_path, \"sfac.csv\"))"
   ]
  },
  {
   "cell_type": "code",
   "execution_count": 9,
   "metadata": {},
   "outputs": [
    {
     "data": {
      "text/plain": [
       "(898, 11)"
      ]
     },
     "execution_count": 9,
     "metadata": {},
     "output_type": "execute_result"
    }
   ],
   "source": [
    "sfac.shape"
   ]
  },
  {
   "cell_type": "code",
   "execution_count": 10,
   "metadata": {},
   "outputs": [],
   "source": [
    "for i in range(0, 898):\n",
    "    sfac['district'][i] = sfac['district'][i].rstrip(',')\n",
    "    if (sfac['district'][i].upper() == 'MEWAT'):\n",
    "        sfac['district'][i] = 'NUH'\n",
    "    if (sfac['district'][i].upper() == 'ALLAHABAD'):\n",
    "        sfac['district'][i] = 'PRAYAGRAJ'\n",
    "    if (sfac['district'][i].upper() == 'HAJIPUR'):\n",
    "        sfac['district'][i] = 'VAISHALI'\n",
    "    if (sfac['district'][i].upper() == 'BAKHTIYARPUR (PATNA)'):\n",
    "        sfac['district'][i] = 'PATNA'\n",
    "    if (sfac['district'][i].upper() == 'BARH (PATNA)'):\n",
    "        sfac['district'][i] = 'PATNA'\n",
    "    if (sfac['district'][i].upper() == 'EAST CHMAPARAN'):\n",
    "        sfac['district'][i] = 'PURBI CHAMPARAN'\n",
    "    if (sfac['district'][i].upper() == 'EAST CHAMPARAN'):\n",
    "        sfac['district'][i] = 'PURBI CHAMPARAN'\n",
    "    if (sfac['district'][i].upper() == 'MAGARLOAD (DHAMTARI)'):\n",
    "        sfac['district'][i] = 'DHAMTARI'\n",
    "    if (sfac['district'][i].upper() == 'GHUMANHERA'):\n",
    "        sfac['district'][i] = 'SOUTH WEST'\n",
    "    if (sfac['district'][i].upper() == 'NUVEM'):\n",
    "        sfac['district'][i] = 'SOUTH GOA'\n",
    "    if (sfac['district'][i].upper() == 'PERNEM'):\n",
    "        sfac['district'][i] = 'NORTH GOA'\n",
    "    if (sfac['district'][i].upper() == 'KUTCH'):\n",
    "        sfac['district'][i] = 'KACHCHH'\n",
    "    if (sfac['district'][i].upper() == 'DAHOD'):\n",
    "        sfac['district'][i] = 'DOHAD'\n",
    "    if (sfac['district'][i].upper() == 'GURGAON'):\n",
    "        sfac['district'][i] = 'GURUGRAM'\n",
    "    if (sfac['district'][i].upper() == 'JAMMU'):\n",
    "        sfac['state'][i] = 'JAMMU AND KASHMIR'\n",
    "    if (sfac['district'][i].upper() == 'NAGADI'):\n",
    "        sfac['district'][i] = 'RANCHI'\n",
    "    if (sfac['district'][i].upper() == 'GULBARGA, (KALABURAGI)'):\n",
    "        sfac['district'][i] = 'KALABURAGI'\n",
    "    if (sfac['district'][i].upper() == 'GULBARGA'):\n",
    "        sfac['district'][i] = 'KALABURAGI'\n",
    "    if (sfac['district'][i].upper() == \"BIJAPUR (VIJAYPUR)\"):\n",
    "        sfac['district'][i] = 'VIJAYAPURA'\n",
    "    if (sfac['district'][i].upper() == 'SIRIGERE (CHITRADURGA)'):\n",
    "        sfac['district'][i] = 'CHITRADURGA'\n",
    "    if (sfac['district'][i].upper() == 'DIGRAS'):\n",
    "        sfac['district'][i] = 'YAVATMAL'\n",
    "    if (sfac['district'][i].upper() == 'BANKI'):\n",
    "        sfac['district'][i] = 'CUTTACK'\n",
    "    if (sfac['district'][i].upper() == 'BADAMBA'):\n",
    "        sfac['district'][i] = 'CUTTACK'\n",
    "    if (sfac['district'][i].upper() == 'BARAMBA'):\n",
    "        sfac['district'][i] = 'CUTTACK'\n",
    "    if (sfac['district'][i].upper() == 'TIGIRIA'):\n",
    "        sfac['district'][i] = 'CUTTACK'\n",
    "    if (sfac['district'][i].upper() == 'BAINA,HINJILICUT'):\n",
    "        sfac['district'][i] = 'GANJAM'\n",
    "    if (sfac['district'][i].upper() == 'HINJILICUT'):\n",
    "        sfac['district'][i] = 'GANJAM'\n",
    "    if (sfac['district'][i].upper() == 'PAKHOWAL'):\n",
    "        sfac['district'][i] = 'LUDHIANA'\n",
    "    if (sfac['district'][i].upper() == 'WEST SIKKIM'):\n",
    "        sfac['district'][i] = 'WEST DISTRICT'\n",
    "    if (sfac['district'][i].upper() == 'EAST SIKKIM'):\n",
    "        sfac['district'][i] = 'EAST DISTRICT'\n",
    "    if (sfac['district'][i].upper() == 'NORTH SIKKIM'):\n",
    "        sfac['district'][i] = 'NORTH DISTRICT'\n",
    "    if (sfac['district'][i].upper() == 'SOUTH SIKKIM'):\n",
    "        sfac['district'][i] = 'SOUTH DISTRICT'\n",
    "    if (sfac['district'][i].upper() == 'SRINAGAR'):\n",
    "        sfac['state'][i] = 'JAMMU AND KASHMIR'\n",
    "    if (sfac['district'][i].upper() == 'THOOTHUKUDI'):\n",
    "        sfac['district'][i] = 'TUTICORIN'\n",
    "    if (sfac['district'][i].upper() == 'BADKOT'):\n",
    "        sfac['district'][i] = 'UTTARKASHI'\n",
    "    \n",
    "    "
   ]
  },
  {
   "cell_type": "code",
   "execution_count": 11,
   "metadata": {},
   "outputs": [],
   "source": [
    "sfac[\"state\"] = sfac[\"state\"].str.upper()\n",
    "sfac[\"district\"] = sfac[\"district\"].str.upper()"
   ]
  },
  {
   "cell_type": "code",
   "execution_count": 12,
   "metadata": {},
   "outputs": [],
   "source": [
    "sfac['state_dist']  = sfac['state'] + sfac[\"district\"]"
   ]
  },
  {
   "cell_type": "code",
   "execution_count": 13,
   "metadata": {},
   "outputs": [],
   "source": [
    "df = pd.merge(\n",
    "            sfac,\n",
    "            lgd,\n",
    "            how=\"outer\",\n",
    "            left_on=\"state_dist\",\n",
    "            right_on=\"state_dist\",\n",
    "            validate=\"m:1\",\n",
    "            indicator=True,\n",
    "            suffixes=[\"_SFAC\", \"_LGD\"],\n",
    "        )"
   ]
  },
  {
   "cell_type": "code",
   "execution_count": 14,
   "metadata": {},
   "outputs": [
    {
     "data": {
      "text/plain": [
       "both          699\n",
       "right_only    497\n",
       "left_only     199\n",
       "Name: _merge, dtype: int64"
      ]
     },
     "execution_count": 14,
     "metadata": {},
     "output_type": "execute_result"
    }
   ],
   "source": [
    "df['_merge'].value_counts()"
   ]
  },
  {
   "cell_type": "code",
   "execution_count": 15,
   "metadata": {},
   "outputs": [
    {
     "data": {
      "text/plain": [
       "Index(['state_SFAC', 'district_SFAC', 'programme', 'resource_institution',\n",
       "       'fpo_name', 'legal_form', 'reg_no', 'address', 'contact', 'major_crops',\n",
       "       'regn_date', 'state_dist', 'St_LGD_code', 'state_LGD', 'Dt_LGD_code',\n",
       "       'district_LGD', '_merge'],\n",
       "      dtype='object')"
      ]
     },
     "execution_count": 15,
     "metadata": {},
     "output_type": "execute_result"
    }
   ],
   "source": [
    "df.columns"
   ]
  },
  {
   "cell_type": "code",
   "execution_count": 16,
   "metadata": {},
   "outputs": [],
   "source": [
    "not_lgd_mapped = df[(df[\"_merge\"] == \"left_only\")][\n",
    "            [\n",
    "                \"state_SFAC\",\n",
    "                \"district_SFAC\",\n",
    "                \"state_dist\",\n",
    "            ]\n",
    "        ]"
   ]
  },
  {
   "cell_type": "code",
   "execution_count": 17,
   "metadata": {},
   "outputs": [],
   "source": [
    "not_lgd_mapped = not_lgd_mapped.drop_duplicates(subset=\"state_dist\")"
   ]
  },
  {
   "cell_type": "code",
   "execution_count": 18,
   "metadata": {},
   "outputs": [],
   "source": [
    "result = [\n",
    "            process.extractOne(i, lgd[\"state_dist\"])\n",
    "            for i in not_lgd_mapped[\"state_dist\"]\n",
    "        ]\n",
    "result = pd.DataFrame(result, columns=[\"match\", \"score\", \"id\"])\n",
    "result.drop(\"id\", axis=1, inplace=True)"
   ]
  },
  {
   "cell_type": "code",
   "execution_count": null,
   "metadata": {},
   "outputs": [
    {
     "data": {
      "text/html": [
       "<div>\n",
       "<style scoped>\n",
       "    .dataframe tbody tr th:only-of-type {\n",
       "        vertical-align: middle;\n",
       "    }\n",
       "\n",
       "    .dataframe tbody tr th {\n",
       "        vertical-align: top;\n",
       "    }\n",
       "\n",
       "    .dataframe thead th {\n",
       "        text-align: right;\n",
       "    }\n",
       "</style>\n",
       "<table border=\"1\" class=\"dataframe\">\n",
       "  <thead>\n",
       "    <tr style=\"text-align: right;\">\n",
       "      <th></th>\n",
       "      <th>match</th>\n",
       "      <th>score</th>\n",
       "    </tr>\n",
       "  </thead>\n",
       "  <tbody>\n",
       "    <tr>\n",
       "      <th>0</th>\n",
       "      <td>ANDHRA PRADESHVISAKHAPATANAM</td>\n",
       "      <td>96</td>\n",
       "    </tr>\n",
       "    <tr>\n",
       "      <th>1</th>\n",
       "      <td>ARUNACHAL PRADESHCHANGLANG</td>\n",
       "      <td>83</td>\n",
       "    </tr>\n",
       "    <tr>\n",
       "      <th>2</th>\n",
       "      <td>ARUNACHAL PRADESHLOWER SUBANSIRI</td>\n",
       "      <td>90</td>\n",
       "    </tr>\n",
       "    <tr>\n",
       "      <th>3</th>\n",
       "      <td>ASSAMMARIGAON</td>\n",
       "      <td>92</td>\n",
       "    </tr>\n",
       "    <tr>\n",
       "      <th>4</th>\n",
       "      <td>ASSAMBISWANATH</td>\n",
       "      <td>90</td>\n",
       "    </tr>\n",
       "    <tr>\n",
       "      <th>...</th>\n",
       "      <td>...</td>\n",
       "      <td>...</td>\n",
       "    </tr>\n",
       "    <tr>\n",
       "      <th>78</th>\n",
       "      <td>DELHINORTH WEST</td>\n",
       "      <td>86</td>\n",
       "    </tr>\n",
       "    <tr>\n",
       "      <th>79</th>\n",
       "      <td>DELHINORTH WEST</td>\n",
       "      <td>86</td>\n",
       "    </tr>\n",
       "    <tr>\n",
       "      <th>80</th>\n",
       "      <td>WEST BENGALCOOCHBEHAR</td>\n",
       "      <td>98</td>\n",
       "    </tr>\n",
       "    <tr>\n",
       "      <th>81</th>\n",
       "      <td>DELHINORTH WEST</td>\n",
       "      <td>86</td>\n",
       "    </tr>\n",
       "    <tr>\n",
       "      <th>82</th>\n",
       "      <td>WEST BENGALMEDINIPUR EAST</td>\n",
       "      <td>95</td>\n",
       "    </tr>\n",
       "  </tbody>\n",
       "</table>\n",
       "<p>83 rows × 2 columns</p>\n",
       "</div>"
      ],
      "text/plain": [
       "                               match  score\n",
       "0       ANDHRA PRADESHVISAKHAPATANAM     96\n",
       "1         ARUNACHAL PRADESHCHANGLANG     83\n",
       "2   ARUNACHAL PRADESHLOWER SUBANSIRI     90\n",
       "3                      ASSAMMARIGAON     92\n",
       "4                     ASSAMBISWANATH     90\n",
       "..                               ...    ...\n",
       "78                   DELHINORTH WEST     86\n",
       "79                   DELHINORTH WEST     86\n",
       "80             WEST BENGALCOOCHBEHAR     98\n",
       "81                   DELHINORTH WEST     86\n",
       "82         WEST BENGALMEDINIPUR EAST     95\n",
       "\n",
       "[83 rows x 2 columns]"
      ]
     },
     "execution_count": 19,
     "metadata": {},
     "output_type": "execute_result"
    }
   ],
   "source": [
    "result"
   ]
  },
  {
   "cell_type": "code",
   "execution_count": null,
   "metadata": {},
   "outputs": [],
   "source": [
    "not_lgd_proxy_df = (\n",
    "                pd.DataFrame(not_lgd_mapped[\"state_dist\"], index=None)\n",
    "                .reset_index()\n",
    "                .drop(\"index\", axis=1)\n",
    "        )"
   ]
  },
  {
   "cell_type": "code",
   "execution_count": null,
   "metadata": {},
   "outputs": [],
   "source": [
    "mapper_df = pd.concat(\n",
    "            [not_lgd_proxy_df, result],\n",
    "            axis=1,\n",
    "            ignore_index=True,\n",
    "            names=[\"original\", \"match\", \"score\"],\n",
    "        )"
   ]
  },
  {
   "cell_type": "code",
   "execution_count": null,
   "metadata": {},
   "outputs": [],
   "source": [
    "mapper_df = mapper_df[mapper_df[2] >= 90]"
   ]
  },
  {
   "cell_type": "code",
   "execution_count": null,
   "metadata": {},
   "outputs": [],
   "source": [
    "mapper_dict = dict(zip(mapper_df[0], mapper_df[1]))\n",
    "sfac[\"state_dist\"] = sfac[\"state_dist\"].replace(mapper_dict)"
   ]
  },
  {
   "cell_type": "code",
   "execution_count": null,
   "metadata": {},
   "outputs": [],
   "source": [
    "df = pd.merge(\n",
    "            sfac,\n",
    "            lgd,\n",
    "            how=\"outer\",\n",
    "            left_on=\"state_dist\",\n",
    "            right_on=\"state_dist\",\n",
    "            validate=\"m:1\",\n",
    "            indicator=True,\n",
    "            suffixes=[\"_SFAC\", \"_LGD\"],\n",
    "        )\n"
   ]
  },
  {
   "cell_type": "code",
   "execution_count": null,
   "metadata": {},
   "outputs": [
    {
     "data": {
      "text/plain": [
       "both          825\n",
       "right_only    450\n",
       "left_only      73\n",
       "Name: _merge, dtype: int64"
      ]
     },
     "execution_count": 25,
     "metadata": {},
     "output_type": "execute_result"
    }
   ],
   "source": [
    "df[\"_merge\"].value_counts()"
   ]
  },
  {
   "cell_type": "code",
   "execution_count": null,
   "metadata": {},
   "outputs": [],
   "source": [
    "not_lgd_mapped = df[(df[\"_merge\"] == \"left_only\")][\n",
    "            [\n",
    "                \"state_SFAC\",\n",
    "                \"district_SFAC\",\n",
    "                \"state_dist\",\n",
    "            ]\n",
    "        ]\n",
    "not_lgd_mapped = not_lgd_mapped.drop_duplicates(subset=\"state_dist\")"
   ]
  },
  {
   "cell_type": "code",
   "execution_count": null,
   "metadata": {},
   "outputs": [
    {
     "data": {
      "text/plain": [
       "24"
      ]
     },
     "execution_count": 27,
     "metadata": {},
     "output_type": "execute_result"
    }
   ],
   "source": [
    "len(not_lgd_mapped)"
   ]
  },
  {
   "cell_type": "code",
   "execution_count": null,
   "metadata": {},
   "outputs": [],
   "source": [
    "result = [\n",
    "            process.extractOne(i, lgd[\"state_dist\"])\n",
    "            for i in not_lgd_mapped[\"state_dist\"]\n",
    "        ]\n",
    "result = pd.DataFrame(result, columns=[\"match\", \"score\", \"id\"])\n",
    "result.drop(\"id\", axis=1, inplace=True)"
   ]
  },
  {
   "cell_type": "code",
   "execution_count": null,
   "metadata": {},
   "outputs": [],
   "source": [
    "not_lgd_proxy_df = (\n",
    "                pd.DataFrame(not_lgd_mapped[\"state_dist\"], index=None)\n",
    "                .reset_index()\n",
    "                .drop(\"index\", axis=1)\n",
    "        )"
   ]
  },
  {
   "cell_type": "code",
   "execution_count": null,
   "metadata": {},
   "outputs": [],
   "source": [
    "mapper_df = pd.concat(\n",
    "            [not_lgd_proxy_df, result],\n",
    "            axis=1,\n",
    "            ignore_index=True,\n",
    "            names=[\"original\", \"match\", \"score\"],\n",
    "        )"
   ]
  },
  {
   "cell_type": "code",
   "execution_count": null,
   "metadata": {},
   "outputs": [],
   "source": [
    "mapper_df = mapper_df[mapper_df[2] >= 85]"
   ]
  },
  {
   "cell_type": "code",
   "execution_count": null,
   "metadata": {},
   "outputs": [],
   "source": [
    "mapper_dict = dict(zip(mapper_df[0], mapper_df[1]))\n",
    "sfac[\"state_dist\"] = sfac[\"state_dist\"].replace(mapper_dict)"
   ]
  },
  {
   "cell_type": "code",
   "execution_count": null,
   "metadata": {},
   "outputs": [],
   "source": [
    "df = pd.merge(\n",
    "            sfac,\n",
    "            lgd,\n",
    "            how=\"outer\",\n",
    "            left_on=\"state_dist\",\n",
    "            right_on=\"state_dist\",\n",
    "            validate=\"m:1\",\n",
    "            indicator=True,\n",
    "            suffixes=[\"_SFAC\", \"_LGD\"],\n",
    "        )\n"
   ]
  },
  {
   "cell_type": "code",
   "execution_count": null,
   "metadata": {},
   "outputs": [
    {
     "data": {
      "text/plain": [
       "both          894\n",
       "right_only    441\n",
       "left_only       4\n",
       "Name: _merge, dtype: int64"
      ]
     },
     "execution_count": 34,
     "metadata": {},
     "output_type": "execute_result"
    }
   ],
   "source": [
    "df[\"_merge\"].value_counts()"
   ]
  },
  {
   "cell_type": "code",
   "execution_count": null,
   "metadata": {},
   "outputs": [],
   "source": [
    "not_lgd_mapped = df[(df[\"_merge\"] == \"left_only\")][\n",
    "            [\n",
    "                \"state_SFAC\",\n",
    "                \"district_SFAC\",\n",
    "                \"state_dist\",\n",
    "            ]\n",
    "        ]\n",
    "not_lgd_mapped = not_lgd_mapped.drop_duplicates(subset=\"state_dist\")"
   ]
  },
  {
   "cell_type": "code",
   "execution_count": null,
   "metadata": {},
   "outputs": [
    {
     "data": {
      "text/plain": [
       "3"
      ]
     },
     "execution_count": 36,
     "metadata": {},
     "output_type": "execute_result"
    }
   ],
   "source": [
    "len(not_lgd_mapped)"
   ]
  },
  {
   "cell_type": "code",
   "execution_count": null,
   "metadata": {},
   "outputs": [],
   "source": [
    "result = [\n",
    "            process.extractOne(i, lgd[\"state_dist\"])\n",
    "            for i in not_lgd_mapped[\"state_dist\"]\n",
    "        ]\n",
    "result = pd.DataFrame(result, columns=[\"match\", \"score\", \"id\"])\n",
    "result.drop(\"id\", axis=1, inplace=True)"
   ]
  },
  {
   "cell_type": "code",
   "execution_count": null,
   "metadata": {},
   "outputs": [],
   "source": [
    "not_lgd_proxy_df = (\n",
    "                pd.DataFrame(not_lgd_mapped[\"state_dist\"], index=None)\n",
    "                .reset_index()\n",
    "                .drop(\"index\", axis=1)\n",
    "        )"
   ]
  },
  {
   "cell_type": "code",
   "execution_count": null,
   "metadata": {},
   "outputs": [],
   "source": [
    "mapper_df = pd.concat(\n",
    "            [not_lgd_proxy_df, result],\n",
    "            axis=1,\n",
    "            ignore_index=True,\n",
    "            names=[\"original\", \"match\", \"score\"],\n",
    "        )"
   ]
  },
  {
   "cell_type": "code",
   "execution_count": null,
   "metadata": {},
   "outputs": [],
   "source": [
    "mapper_df = mapper_df[mapper_df[2] >= 90]"
   ]
  },
  {
   "cell_type": "code",
   "execution_count": null,
   "metadata": {},
   "outputs": [],
   "source": [
    "mapper_dict = dict(zip(mapper_df[0], mapper_df[1]))\n",
    "sfac[\"state_dist\"] = sfac[\"state_dist\"].replace(mapper_dict)"
   ]
  },
  {
   "cell_type": "code",
   "execution_count": null,
   "metadata": {},
   "outputs": [],
   "source": [
    "df = pd.merge(\n",
    "            sfac,\n",
    "            lgd,\n",
    "            how=\"outer\",\n",
    "            left_on=\"state_dist\",\n",
    "            right_on=\"state_dist\",\n",
    "            validate=\"m:1\",\n",
    "            indicator=True,\n",
    "            suffixes=[\"_SFAC\", \"_LGD\"],\n",
    "        )\n"
   ]
  },
  {
   "cell_type": "code",
   "execution_count": null,
   "metadata": {},
   "outputs": [
    {
     "data": {
      "text/plain": [
       "both          894\n",
       "right_only    441\n",
       "left_only       4\n",
       "Name: _merge, dtype: int64"
      ]
     },
     "execution_count": 43,
     "metadata": {},
     "output_type": "execute_result"
    }
   ],
   "source": [
    "df[\"_merge\"].value_counts()"
   ]
  },
  {
   "cell_type": "code",
   "execution_count": null,
   "metadata": {},
   "outputs": [],
   "source": [
    "not_lgd_mapped = df[(df[\"_merge\"] == \"left_only\")][\n",
    "            [\n",
    "                \"state_SFAC\",\n",
    "                \"district_SFAC\",\n",
    "                \"state_dist\",\n",
    "            ]\n",
    "        ]\n",
    "not_lgd_mapped = not_lgd_mapped.drop_duplicates(subset=\"state_dist\")"
   ]
  },
  {
   "cell_type": "code",
   "execution_count": null,
   "metadata": {},
   "outputs": [
    {
     "data": {
      "text/plain": [
       "3"
      ]
     },
     "execution_count": 45,
     "metadata": {},
     "output_type": "execute_result"
    }
   ],
   "source": [
    "len(not_lgd_mapped)"
   ]
  },
  {
   "cell_type": "code",
   "execution_count": null,
   "metadata": {},
   "outputs": [],
   "source": [
    "not_lgd_mapped.to_csv(\"sfac_unmapped.csv\")"
   ]
  },
  {
   "cell_type": "code",
   "execution_count": null,
   "metadata": {},
   "outputs": [],
   "source": [
    "df1 = df[df[\"_merge\"] == \"both\"]"
   ]
  },
  {
   "cell_type": "code",
   "execution_count": null,
   "metadata": {},
   "outputs": [
    {
     "data": {
      "text/plain": [
       "Index(['state_SFAC', 'district_SFAC', 'programme', 'resource_institution',\n",
       "       'fpo_name', 'legal_form', 'reg_no', 'address', 'contact', 'major_crops',\n",
       "       'regn_date', 'state_dist', 'St_LGD_code', 'state_LGD', 'Dt_LGD_code',\n",
       "       'district_LGD', '_merge'],\n",
       "      dtype='object')"
      ]
     },
     "execution_count": 53,
     "metadata": {},
     "output_type": "execute_result"
    }
   ],
   "source": [
    "df1.columns"
   ]
  },
  {
   "cell_type": "code",
   "execution_count": null,
   "metadata": {},
   "outputs": [
    {
     "name": "stderr",
     "output_type": "stream",
     "text": [
      "C:\\Users\\gohal\\Desktop\\Coding\\bipp-datasets\\.venv\\lib\\site-packages\\pandas\\core\\frame.py:4174: SettingWithCopyWarning: \n",
      "A value is trying to be set on a copy of a slice from a DataFrame\n",
      "\n",
      "See the caveats in the documentation: https://pandas.pydata.org/pandas-docs/stable/user_guide/indexing.html#returning-a-view-versus-a-copy\n",
      "  errors=errors,\n"
     ]
    }
   ],
   "source": [
    "df1.drop(['_merge', 'district_LGD', 'state_LGD'], axis = 1, inplace=True)"
   ]
  },
  {
   "cell_type": "code",
   "execution_count": null,
   "metadata": {},
   "outputs": [
    {
     "data": {
      "text/plain": [
       "['state_SFAC',\n",
       " 'district_SFAC',\n",
       " 'programme',\n",
       " 'resource_institution',\n",
       " 'fpo_name',\n",
       " 'legal_form',\n",
       " 'reg_no',\n",
       " 'address',\n",
       " 'contact',\n",
       " 'major_crops',\n",
       " 'regn_date',\n",
       " 'state_dist',\n",
       " 'St_LGD_code',\n",
       " 'Dt_LGD_code']"
      ]
     },
     "execution_count": 57,
     "metadata": {},
     "output_type": "execute_result"
    }
   ],
   "source": [
    "df1.columns.to_list()"
   ]
  },
  {
   "cell_type": "code",
   "execution_count": null,
   "metadata": {},
   "outputs": [],
   "source": [
    "l = ['state_SFAC',\n",
    " 'district_SFAC',\n",
    "'state_dist',\n",
    " 'St_LGD_code',\n",
    " 'Dt_LGD_code',\n",
    " 'programme',\n",
    " 'resource_institution',\n",
    " 'fpo_name',\n",
    " 'legal_form',\n",
    " 'reg_no',\n",
    " 'address',\n",
    " 'contact',\n",
    " 'major_crops',\n",
    " 'regn_date']"
   ]
  },
  {
   "cell_type": "code",
   "execution_count": null,
   "metadata": {},
   "outputs": [],
   "source": [
    "df1 = df1[l]"
   ]
  },
  {
   "cell_type": "code",
   "execution_count": null,
   "metadata": {},
   "outputs": [],
   "source": [
    "df2 = df1.rename(columns = {'state_SFAC':'state', 'district_SFAC':'district'})"
   ]
  },
  {
   "cell_type": "code",
   "execution_count": null,
   "metadata": {},
   "outputs": [],
   "source": [
    "df2.to_csv(Path.joinpath(processed_data_path, \"sfac_lgd.csv\"), index=False)"
   ]
  },
  {
   "cell_type": "code",
   "execution_count": 3,
   "metadata": {},
   "outputs": [],
   "source": [
    "data =  pd.read_csv(Path.joinpath(processed_data_path, \"sfac_lgd.csv\"))"
   ]
  },
  {
   "cell_type": "code",
   "execution_count": 4,
   "metadata": {},
   "outputs": [],
   "source": [
    "data.drop(['state_dist'], axis = 1, inplace = True)\n",
    "data.rename(columns={'St_LGD_code':'state_lgd_code', 'Dt_LGD_code':'district_lgd_code'}, inplace = True)"
   ]
  },
  {
   "cell_type": "code",
   "execution_count": 6,
   "metadata": {},
   "outputs": [],
   "source": [
    "data.to_csv(Path.joinpath(processed_data_path, \"sfac_lgd.csv\"), index=False)"
   ]
  },
  {
   "cell_type": "code",
   "execution_count": null,
   "metadata": {},
   "outputs": [],
   "source": []
  }
 ],
 "metadata": {
  "interpreter": {
   "hash": "a09e2b970767d0be2f332117f45685007d2c8ec89818e216477a3461de0aaaa8"
  },
  "kernelspec": {
   "display_name": "Python 3.7.6 ('.venv': poetry)",
   "language": "python",
   "name": "python3"
  },
  "language_info": {
   "codemirror_mode": {
    "name": "ipython",
    "version": 3
   },
   "file_extension": ".py",
   "mimetype": "text/x-python",
   "name": "python",
   "nbconvert_exporter": "python",
   "pygments_lexer": "ipython3",
   "version": "3.7.6"
  },
  "orig_nbformat": 4
 },
 "nbformat": 4,
 "nbformat_minor": 2
}
