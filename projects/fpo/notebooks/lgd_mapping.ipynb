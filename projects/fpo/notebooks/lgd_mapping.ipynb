{
 "cells": [
  {
   "cell_type": "code",
   "execution_count": 1,
   "metadata": {},
   "outputs": [],
   "source": [
    "from pathlib import Path\n",
    "import pandas as pd"
   ]
  },
  {
   "cell_type": "code",
   "execution_count": 2,
   "metadata": {},
   "outputs": [],
   "source": [
    "dir_path = Path.cwd()\n",
    "raw_data_path = Path.joinpath(dir_path, \"data\", \"raw\")\n",
    "interim_data_path = Path.joinpath(dir_path, \"data\", \"interim\")\n",
    "processed_data_path = Path.joinpath(dir_path, \"data\", \"processed\")\n",
    "ext_data_path = Path.joinpath(dir_path, \"data\", \"external\")"
   ]
  },
  {
   "cell_type": "code",
   "execution_count": 4,
   "metadata": {},
   "outputs": [],
   "source": [
    "lgd = pd.read_csv(Path.joinpath(ext_data_path, \"lgd_district.csv\"))"
   ]
  },
  {
   "cell_type": "code",
   "execution_count": 5,
   "metadata": {},
   "outputs": [],
   "source": [
    "state = {}\n",
    "district = {}"
   ]
  },
  {
   "cell_type": "code",
   "execution_count": 6,
   "metadata": {},
   "outputs": [],
   "source": [
    "for i in range(0, len(lgd['State Name(In English)'])):\n",
    "    state[lgd['State Name(In English)'][i].rstrip()] = lgd['St_LGD_code'][i]"
   ]
  },
  {
   "cell_type": "code",
   "execution_count": 7,
   "metadata": {},
   "outputs": [],
   "source": [
    "for j in range(0, len(lgd['District Name(In English)'])):\n",
    "    district[lgd['State Name(In English)'][j].rstrip() +lgd['District Name(In English)'][j]] = lgd['Dt_LGD_code'][j]"
   ]
  },
  {
   "cell_type": "code",
   "execution_count": 8,
   "metadata": {},
   "outputs": [],
   "source": [
    "sfac = pd.read_csv(Path.joinpath(processed_data_path, \"sfac.csv\"))\n",
    "non = pd.read_csv(Path.joinpath(processed_data_path, \"non_sfac.csv\"))"
   ]
  },
  {
   "cell_type": "code",
   "execution_count": 14,
   "metadata": {},
   "outputs": [],
   "source": [
    "sfac['state_dist'] = sfac['state'] + sfac['district']\n",
    "non['state_dist'] = non['state'] + non['district']"
   ]
  },
  {
   "cell_type": "code",
   "execution_count": 15,
   "metadata": {},
   "outputs": [],
   "source": [
    "sfac['dist_lgd'] = \"\"\n",
    "non['dist_lgd'] = \"\"\n",
    "sfac['state_lgd'] = \"\"\n",
    "non['state_lgd'] = \"\""
   ]
  },
  {
   "cell_type": "code",
   "execution_count": 16,
   "metadata": {},
   "outputs": [],
   "source": [
    "s = {}\n",
    "n = {}"
   ]
  },
  {
   "cell_type": "code",
   "execution_count": 20,
   "metadata": {},
   "outputs": [],
   "source": [
    "for i in range(0, 898):\n",
    "    dist  = sfac['state_dist'][i].upper()\n",
    "    if (dist in district):\n",
    "        sfac['dist_lgd'][i] = district[dist]\n",
    "    else:\n",
    "        sfac['dist_lgd'][i] = '0'\n",
    "        s[dist] = '0'\n",
    "    st = sfac['state'][i].upper()\n",
    "    if(st in state):\n",
    "        sfac['state_lgd'][i] = state[st]\n",
    "    else:\n",
    "        sfac['state_lgd'][i] = '0'"
   ]
  },
  {
   "cell_type": "code",
   "execution_count": 26,
   "metadata": {},
   "outputs": [],
   "source": [
    "for i in range(0, 338):\n",
    "    dist  = non['state_dist'][i]\n",
    "    if(type(dist) == str):\n",
    "        dist  = dist.upper()\n",
    "        if (dist in district):\n",
    "            non['dist_lgd'][i] = district[dist]\n",
    "        else:\n",
    "            non['dist_lgd'][i] = '0'\n",
    "            n[dist] = '0'\n",
    "        st = non['state'][i].upper()\n",
    "        if(st in state):\n",
    "            non['state_lgd'][i] = state[st]\n",
    "        else:\n",
    "            non['state_lgd'][i] = '0'"
   ]
  },
  {
   "cell_type": "code",
   "execution_count": 29,
   "metadata": {},
   "outputs": [
    {
     "name": "stdout",
     "output_type": "stream",
     "text": [
      "Number of missing values (district):\n",
      "SFAC 333\n",
      "Non-SFAC 78\n"
     ]
    }
   ],
   "source": [
    "print(\"Number of missing values (district):\", end = \"\\n\")\n",
    "print(\"SFAC\", len(sfac[sfac['dist_lgd'] == '0']))\n",
    "print(\"Non-SFAC\", len(non[non['dist_lgd'] == '0']))"
   ]
  },
  {
   "cell_type": "code",
   "execution_count": 30,
   "metadata": {},
   "outputs": [
    {
     "name": "stdout",
     "output_type": "stream",
     "text": [
      "Number of missing values (state):\n",
      "SFAC 54\n",
      "Non-SFAC 0\n"
     ]
    }
   ],
   "source": [
    "print(\"Number of missing values (state):\", end = \"\\n\")\n",
    "print(\"SFAC\", len(sfac[sfac['state_lgd'] == '0']))\n",
    "print(\"Non-SFAC\", len(non[non['state_lgd'] == '0']))"
   ]
  },
  {
   "cell_type": "code",
   "execution_count": null,
   "metadata": {},
   "outputs": [],
   "source": []
  }
 ],
 "metadata": {
  "interpreter": {
   "hash": "a09e2b970767d0be2f332117f45685007d2c8ec89818e216477a3461de0aaaa8"
  },
  "kernelspec": {
   "display_name": "Python 3.7.6 ('.venv': poetry)",
   "language": "python",
   "name": "python3"
  },
  "language_info": {
   "codemirror_mode": {
    "name": "ipython",
    "version": 3
   },
   "file_extension": ".py",
   "mimetype": "text/x-python",
   "name": "python",
   "nbconvert_exporter": "python",
   "pygments_lexer": "ipython3",
   "version": "3.7.6"
  },
  "orig_nbformat": 4
 },
 "nbformat": 4,
 "nbformat_minor": 2
}
