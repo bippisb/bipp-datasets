{
 "cells": [
  {
   "cell_type": "code",
   "execution_count": 1,
   "metadata": {},
   "outputs": [],
   "source": [
    "from pathlib import Path\n",
    "import pandas as pd"
   ]
  },
  {
   "cell_type": "code",
   "execution_count": 2,
   "metadata": {},
   "outputs": [],
   "source": [
    "dir_path = Path.cwd()\n",
    "raw_data_path = Path.joinpath(dir_path, \"data\", \"raw\")\n",
    "interim_data_path = Path.joinpath(dir_path, \"data\", \"interim\")"
   ]
  },
  {
   "cell_type": "code",
   "execution_count": 3,
   "metadata": {},
   "outputs": [],
   "source": [
    "df = pd.read_stata(Path.joinpath(raw_data_path, \"level5.dta\"))"
   ]
  },
  {
   "cell_type": "code",
   "execution_count": 11,
   "metadata": {},
   "outputs": [],
   "source": [
    "df.drop(['Centre_code_Round',\n",
    "       'FSU_Serial_No', 'Round', 'Schedule', 'Sample', 'NSS_Region', 'Stratum',\n",
    "       'Sub_Stratum', 'Sub_Round', 'FOD_Sub_Region', 'Second_stage_stratum_no',\n",
    "       'Sample_hhld_No', 'Visit_number', 'Level', 'Filler', 'blank', 'NSC'], axis = 1, inplace = True)"
   ]
  },
  {
   "cell_type": "code",
   "execution_count": 12,
   "metadata": {},
   "outputs": [
    {
     "data": {
      "text/plain": [
       "Index(['common_id', 'State', 'Sector', 'District', 'operated_ind_jointly',\n",
       "       'type_of_holding', 'use_of_the_holding', 'number_of_percels',\n",
       "       'number_crops_harvested', 'Multiplier', 'w'],\n",
       "      dtype='object')"
      ]
     },
     "execution_count": 12,
     "metadata": {},
     "output_type": "execute_result"
    }
   ],
   "source": [
    "df.columns"
   ]
  },
  {
   "cell_type": "code",
   "execution_count": 13,
   "metadata": {},
   "outputs": [],
   "source": [
    "var_names = [x.lower() for x in df.columns]\n",
    "df.columns = var_names"
   ]
  },
  {
   "cell_type": "code",
   "execution_count": 5,
   "metadata": {},
   "outputs": [
    {
     "name": "stdout",
     "output_type": "stream",
     "text": [
      "Common ID is unique for Level 5\n"
     ]
    }
   ],
   "source": [
    "if df[\"common_id\"].is_unique:\n",
    "    print(\"Common ID is unique for Level 5\")\n",
    "else:\n",
    "    print(\"Common ID not unique for Level 5\")"
   ]
  },
  {
   "cell_type": "code",
   "execution_count": 24,
   "metadata": {},
   "outputs": [],
   "source": [
    "ind_joint_labels = {1: 'individually', 2: 'jointly'}\n",
    "holding_type_labels = {1: 'entirely owned', 2: 'entirely leased', 3: 'both owned and leased-in', 4: 'entirely otherwise posessed'}\n",
    "holding_use_labels = {1 :'only for growing of crops: on land used for shifting /jhum cultivation', 2 : 'only for growing of crops:on land other than the land used for shifting /jhum cultivation', 3: ' only for farming of animals', 4: 'both for crop growing and animal farming', 5: 'other agricultural uses'}"
   ]
  },
  {
   "cell_type": "code",
   "execution_count": 18,
   "metadata": {},
   "outputs": [
    {
     "data": {
      "text/plain": [
       "Index(['common_id', 'state', 'sector', 'district', 'operated_ind_jointly',\n",
       "       'type_of_holding', 'use_of_the_holding', 'number_of_percels',\n",
       "       'number_crops_harvested', 'multiplier', 'w'],\n",
       "      dtype='object')"
      ]
     },
     "execution_count": 18,
     "metadata": {},
     "output_type": "execute_result"
    }
   ],
   "source": [
    "df.columns"
   ]
  },
  {
   "cell_type": "code",
   "execution_count": 19,
   "metadata": {},
   "outputs": [],
   "source": [
    "df['operated_ind_jointly'] = df['operated_ind_jointly'].map(ind_joint_labels)"
   ]
  },
  {
   "cell_type": "code",
   "execution_count": 23,
   "metadata": {},
   "outputs": [],
   "source": [
    "df['type_of_holding'] = df['type_of_holding'].map(holding_type_labels)"
   ]
  },
  {
   "cell_type": "code",
   "execution_count": 25,
   "metadata": {},
   "outputs": [],
   "source": [
    "df['use_of_the_holding'] = df['use_of_the_holding'].map(holding_use_labels)"
   ]
  },
  {
   "cell_type": "code",
   "execution_count": 26,
   "metadata": {},
   "outputs": [
    {
     "data": {
      "text/html": [
       "<div>\n",
       "<style scoped>\n",
       "    .dataframe tbody tr th:only-of-type {\n",
       "        vertical-align: middle;\n",
       "    }\n",
       "\n",
       "    .dataframe tbody tr th {\n",
       "        vertical-align: top;\n",
       "    }\n",
       "\n",
       "    .dataframe thead th {\n",
       "        text-align: right;\n",
       "    }\n",
       "</style>\n",
       "<table border=\"1\" class=\"dataframe\">\n",
       "  <thead>\n",
       "    <tr style=\"text-align: right;\">\n",
       "      <th></th>\n",
       "      <th>common_id</th>\n",
       "      <th>state</th>\n",
       "      <th>sector</th>\n",
       "      <th>district</th>\n",
       "      <th>operated_ind_jointly</th>\n",
       "      <th>type_of_holding</th>\n",
       "      <th>use_of_the_holding</th>\n",
       "      <th>number_of_percels</th>\n",
       "      <th>number_crops_harvested</th>\n",
       "      <th>multiplier</th>\n",
       "      <th>w</th>\n",
       "    </tr>\n",
       "  </thead>\n",
       "  <tbody>\n",
       "    <tr>\n",
       "      <th>0</th>\n",
       "      <td>72227101</td>\n",
       "      <td>1</td>\n",
       "      <td>1</td>\n",
       "      <td>5</td>\n",
       "      <td>individually</td>\n",
       "      <td>entirely owned</td>\n",
       "      <td>only for growing of crops:on land other than t...</td>\n",
       "      <td>1.0</td>\n",
       "      <td>1.0</td>\n",
       "      <td>139500</td>\n",
       "      <td>1395.0</td>\n",
       "    </tr>\n",
       "    <tr>\n",
       "      <th>1</th>\n",
       "      <td>72227102</td>\n",
       "      <td>1</td>\n",
       "      <td>1</td>\n",
       "      <td>5</td>\n",
       "      <td>individually</td>\n",
       "      <td>entirely owned</td>\n",
       "      <td>only for growing of crops:on land other than t...</td>\n",
       "      <td>1.0</td>\n",
       "      <td>1.0</td>\n",
       "      <td>139500</td>\n",
       "      <td>1395.0</td>\n",
       "    </tr>\n",
       "    <tr>\n",
       "      <th>2</th>\n",
       "      <td>72227201</td>\n",
       "      <td>1</td>\n",
       "      <td>1</td>\n",
       "      <td>5</td>\n",
       "      <td>individually</td>\n",
       "      <td>entirely owned</td>\n",
       "      <td>only for growing of crops:on land other than t...</td>\n",
       "      <td>1.0</td>\n",
       "      <td>1.0</td>\n",
       "      <td>170500</td>\n",
       "      <td>1705.0</td>\n",
       "    </tr>\n",
       "    <tr>\n",
       "      <th>3</th>\n",
       "      <td>72227202</td>\n",
       "      <td>1</td>\n",
       "      <td>1</td>\n",
       "      <td>5</td>\n",
       "      <td>individually</td>\n",
       "      <td>entirely owned</td>\n",
       "      <td>only for growing of crops:on land other than t...</td>\n",
       "      <td>1.0</td>\n",
       "      <td>1.0</td>\n",
       "      <td>170500</td>\n",
       "      <td>1705.0</td>\n",
       "    </tr>\n",
       "    <tr>\n",
       "      <th>4</th>\n",
       "      <td>72227301</td>\n",
       "      <td>1</td>\n",
       "      <td>1</td>\n",
       "      <td>5</td>\n",
       "      <td>individually</td>\n",
       "      <td>entirely owned</td>\n",
       "      <td>only for growing of crops:on land other than t...</td>\n",
       "      <td>2.0</td>\n",
       "      <td>2.0</td>\n",
       "      <td>403000</td>\n",
       "      <td>4030.0</td>\n",
       "    </tr>\n",
       "    <tr>\n",
       "      <th>...</th>\n",
       "      <td>...</td>\n",
       "      <td>...</td>\n",
       "      <td>...</td>\n",
       "      <td>...</td>\n",
       "      <td>...</td>\n",
       "      <td>...</td>\n",
       "      <td>...</td>\n",
       "      <td>...</td>\n",
       "      <td>...</td>\n",
       "      <td>...</td>\n",
       "      <td>...</td>\n",
       "    </tr>\n",
       "    <tr>\n",
       "      <th>46914</th>\n",
       "      <td>70112302</td>\n",
       "      <td>36</td>\n",
       "      <td>1</td>\n",
       "      <td>31</td>\n",
       "      <td>individually</td>\n",
       "      <td>both owned and leased-in</td>\n",
       "      <td>only for growing of crops:on land other than t...</td>\n",
       "      <td>2.0</td>\n",
       "      <td>2.0</td>\n",
       "      <td>335000</td>\n",
       "      <td>3350.0</td>\n",
       "    </tr>\n",
       "    <tr>\n",
       "      <th>46915</th>\n",
       "      <td>70112401</td>\n",
       "      <td>36</td>\n",
       "      <td>1</td>\n",
       "      <td>31</td>\n",
       "      <td>individually</td>\n",
       "      <td>entirely owned</td>\n",
       "      <td>both for crop growing and animal farming</td>\n",
       "      <td>3.0</td>\n",
       "      <td>2.0</td>\n",
       "      <td>83750</td>\n",
       "      <td>838.0</td>\n",
       "    </tr>\n",
       "    <tr>\n",
       "      <th>46916</th>\n",
       "      <td>70112402</td>\n",
       "      <td>36</td>\n",
       "      <td>1</td>\n",
       "      <td>31</td>\n",
       "      <td>individually</td>\n",
       "      <td>entirely owned</td>\n",
       "      <td>only for farming of animals</td>\n",
       "      <td>1.0</td>\n",
       "      <td>NaN</td>\n",
       "      <td>83750</td>\n",
       "      <td>838.0</td>\n",
       "    </tr>\n",
       "    <tr>\n",
       "      <th>46917</th>\n",
       "      <td>70112501</td>\n",
       "      <td>36</td>\n",
       "      <td>1</td>\n",
       "      <td>31</td>\n",
       "      <td>jointly</td>\n",
       "      <td>both owned and leased-in</td>\n",
       "      <td>both for crop growing and animal farming</td>\n",
       "      <td>6.0</td>\n",
       "      <td>4.0</td>\n",
       "      <td>100500</td>\n",
       "      <td>1005.0</td>\n",
       "    </tr>\n",
       "    <tr>\n",
       "      <th>46918</th>\n",
       "      <td>70112502</td>\n",
       "      <td>36</td>\n",
       "      <td>1</td>\n",
       "      <td>31</td>\n",
       "      <td>individually</td>\n",
       "      <td>both owned and leased-in</td>\n",
       "      <td>both for crop growing and animal farming</td>\n",
       "      <td>2.0</td>\n",
       "      <td>2.0</td>\n",
       "      <td>100500</td>\n",
       "      <td>1005.0</td>\n",
       "    </tr>\n",
       "  </tbody>\n",
       "</table>\n",
       "<p>46919 rows × 11 columns</p>\n",
       "</div>"
      ],
      "text/plain": [
       "       common_id  state  sector  district operated_ind_jointly  \\\n",
       "0       72227101      1       1         5         individually   \n",
       "1       72227102      1       1         5         individually   \n",
       "2       72227201      1       1         5         individually   \n",
       "3       72227202      1       1         5         individually   \n",
       "4       72227301      1       1         5         individually   \n",
       "...          ...    ...     ...       ...                  ...   \n",
       "46914   70112302     36       1        31         individually   \n",
       "46915   70112401     36       1        31         individually   \n",
       "46916   70112402     36       1        31         individually   \n",
       "46917   70112501     36       1        31              jointly   \n",
       "46918   70112502     36       1        31         individually   \n",
       "\n",
       "                type_of_holding  \\\n",
       "0                entirely owned   \n",
       "1                entirely owned   \n",
       "2                entirely owned   \n",
       "3                entirely owned   \n",
       "4                entirely owned   \n",
       "...                         ...   \n",
       "46914  both owned and leased-in   \n",
       "46915            entirely owned   \n",
       "46916            entirely owned   \n",
       "46917  both owned and leased-in   \n",
       "46918  both owned and leased-in   \n",
       "\n",
       "                                      use_of_the_holding  number_of_percels  \\\n",
       "0      only for growing of crops:on land other than t...                1.0   \n",
       "1      only for growing of crops:on land other than t...                1.0   \n",
       "2      only for growing of crops:on land other than t...                1.0   \n",
       "3      only for growing of crops:on land other than t...                1.0   \n",
       "4      only for growing of crops:on land other than t...                2.0   \n",
       "...                                                  ...                ...   \n",
       "46914  only for growing of crops:on land other than t...                2.0   \n",
       "46915           both for crop growing and animal farming                3.0   \n",
       "46916                        only for farming of animals                1.0   \n",
       "46917           both for crop growing and animal farming                6.0   \n",
       "46918           both for crop growing and animal farming                2.0   \n",
       "\n",
       "       number_crops_harvested  multiplier       w  \n",
       "0                         1.0      139500  1395.0  \n",
       "1                         1.0      139500  1395.0  \n",
       "2                         1.0      170500  1705.0  \n",
       "3                         1.0      170500  1705.0  \n",
       "4                         2.0      403000  4030.0  \n",
       "...                       ...         ...     ...  \n",
       "46914                     2.0      335000  3350.0  \n",
       "46915                     2.0       83750   838.0  \n",
       "46916                     NaN       83750   838.0  \n",
       "46917                     4.0      100500  1005.0  \n",
       "46918                     2.0      100500  1005.0  \n",
       "\n",
       "[46919 rows x 11 columns]"
      ]
     },
     "execution_count": 26,
     "metadata": {},
     "output_type": "execute_result"
    }
   ],
   "source": [
    "df"
   ]
  },
  {
   "cell_type": "code",
   "execution_count": 4,
   "metadata": {},
   "outputs": [],
   "source": [
    "csv_path = Path.joinpath(interim_data_path, \"level5.csv\")\n",
    "df.to_csv(csv_path, index=False)"
   ]
  },
  {
   "cell_type": "code",
   "execution_count": null,
   "metadata": {},
   "outputs": [],
   "source": []
  }
 ],
 "metadata": {
  "interpreter": {
   "hash": "5c5d6bfe86bc1da8b3fff91336d5d614cd3bd1925a98b02086cfffaf51e11af6"
  },
  "kernelspec": {
   "display_name": "Python 3.7.6 ('base')",
   "language": "python",
   "name": "python3"
  },
  "language_info": {
   "codemirror_mode": {
    "name": "ipython",
    "version": 3
   },
   "file_extension": ".py",
   "mimetype": "text/x-python",
   "name": "python",
   "nbconvert_exporter": "python",
   "pygments_lexer": "ipython3",
   "version": "3.7.6"
  },
  "orig_nbformat": 4
 },
 "nbformat": 4,
 "nbformat_minor": 2
}
