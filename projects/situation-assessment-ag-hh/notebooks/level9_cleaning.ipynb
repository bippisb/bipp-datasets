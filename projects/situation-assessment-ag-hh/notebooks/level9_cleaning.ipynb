{
 "cells": [
  {
   "cell_type": "code",
   "execution_count": 1,
   "metadata": {},
   "outputs": [],
   "source": [
    "from pathlib import Path\n",
    "import pandas as pd"
   ]
  },
  {
   "cell_type": "code",
   "execution_count": 2,
   "metadata": {},
   "outputs": [],
   "source": [
    "dir_path = Path.cwd()\n",
    "raw_data_path = Path.joinpath(dir_path, \"data\", \"raw\")\n",
    "interim_data_path = Path.joinpath(dir_path, \"data\", \"interim\")"
   ]
  },
  {
   "cell_type": "code",
   "execution_count": 13,
   "metadata": {},
   "outputs": [
    {
     "data": {
      "text/plain": [
       "Index(['common_id', 'State', 'Sector', 'District', 'Centre_code_Round',\n",
       "       'FSU_Serial_No', 'Round', 'Schedule', 'Sample', 'NSS_Region', 'Stratum',\n",
       "       'Sub_Stratum', 'Sub_Round', 'FOD_Sub_Region', 'Second_stage_stratum_no',\n",
       "       'Sample_hhld_No', 'Visit_number', 'Level', 'Filler', 'Srl_No',\n",
       "       'no_owned_male', 'no_owned_female', 'no_owned_total', 'Blank', 'NSC',\n",
       "       'Multiplier', 'w'],\n",
       "      dtype='object')"
      ]
     },
     "execution_count": 13,
     "metadata": {},
     "output_type": "execute_result"
    }
   ],
   "source": [
    "df = pd.read_stata(Path.joinpath(raw_data_path, \"level9.dta\"))\n",
    "df.columns"
   ]
  },
  {
   "cell_type": "code",
   "execution_count": 14,
   "metadata": {},
   "outputs": [],
   "source": [
    "df.drop(['Centre_code_Round',\n",
    "       'FSU_Serial_No', 'Round', 'Schedule', 'Sample', 'NSS_Region', 'Stratum',\n",
    "       'Sub_Stratum', 'Sub_Round', 'FOD_Sub_Region', 'Second_stage_stratum_no',\n",
    "       'Sample_hhld_No', 'Visit_number', 'Level', 'Filler', 'Blank','NSC'], axis = 1, inplace = True)"
   ]
  },
  {
   "cell_type": "code",
   "execution_count": 15,
   "metadata": {},
   "outputs": [
    {
     "data": {
      "text/plain": [
       "Index(['common_id', 'State', 'Sector', 'District', 'Srl_No', 'no_owned_male',\n",
       "       'no_owned_female', 'no_owned_total', 'Multiplier', 'w'],\n",
       "      dtype='object')"
      ]
     },
     "execution_count": 15,
     "metadata": {},
     "output_type": "execute_result"
    }
   ],
   "source": [
    "df.columns"
   ]
  },
  {
   "cell_type": "code",
   "execution_count": 16,
   "metadata": {},
   "outputs": [],
   "source": [
    "var_names = [x.lower() for x in df.columns]\n",
    "df.columns = var_names"
   ]
  },
  {
   "cell_type": "code",
   "execution_count": 17,
   "metadata": {},
   "outputs": [
    {
     "name": "stdout",
     "output_type": "stream",
     "text": [
      "Common ID not unique for Level 9\n"
     ]
    }
   ],
   "source": [
    "if df[\"common_id\"].is_unique:\n",
    "    print(\"Common ID is unique for Level 9\")\n",
    "else:\n",
    "    print(\"Common ID not unique for Level 9\")"
   ]
  },
  {
   "cell_type": "code",
   "execution_count": 18,
   "metadata": {},
   "outputs": [],
   "source": [
    "df['animal_category'] = df['srl_no']"
   ]
  },
  {
   "cell_type": "code",
   "execution_count": 19,
   "metadata": {},
   "outputs": [],
   "source": [
    "cat_labels = {1: 'cattle in-milk', 2: 'cattle young stock', 3: 'cattle other', 4: 'buffalo in-milk', 5: 'buffalo young stock', 6: 'buffalo other', 7: 'ovine and other mammals (sheep, goat, pig, rabbits etc.)', 8: 'other large-heads (elephant, camel, horse, mule, pony, donkey, yak, mithun etc.) ', 9:'poultry birds (hen, cock, chicken, duck, duckling, other poultry birds, etc.)', 10 : 'total'}"
   ]
  },
  {
   "cell_type": "code",
   "execution_count": 20,
   "metadata": {},
   "outputs": [],
   "source": [
    "df['animal_category'] = df['animal_category'].map(cat_labels)"
   ]
  },
  {
   "cell_type": "code",
   "execution_count": 21,
   "metadata": {},
   "outputs": [
    {
     "data": {
      "text/html": [
       "<div>\n",
       "<style scoped>\n",
       "    .dataframe tbody tr th:only-of-type {\n",
       "        vertical-align: middle;\n",
       "    }\n",
       "\n",
       "    .dataframe tbody tr th {\n",
       "        vertical-align: top;\n",
       "    }\n",
       "\n",
       "    .dataframe thead th {\n",
       "        text-align: right;\n",
       "    }\n",
       "</style>\n",
       "<table border=\"1\" class=\"dataframe\">\n",
       "  <thead>\n",
       "    <tr style=\"text-align: right;\">\n",
       "      <th></th>\n",
       "      <th>common_id</th>\n",
       "      <th>state</th>\n",
       "      <th>sector</th>\n",
       "      <th>district</th>\n",
       "      <th>srl_no</th>\n",
       "      <th>no_owned_male</th>\n",
       "      <th>no_owned_female</th>\n",
       "      <th>no_owned_total</th>\n",
       "      <th>multiplier</th>\n",
       "      <th>w</th>\n",
       "      <th>animal_category</th>\n",
       "    </tr>\n",
       "  </thead>\n",
       "  <tbody>\n",
       "    <tr>\n",
       "      <th>0</th>\n",
       "      <td>72227101</td>\n",
       "      <td>1</td>\n",
       "      <td>1</td>\n",
       "      <td>5</td>\n",
       "      <td>4</td>\n",
       "      <td>NaN</td>\n",
       "      <td>1.0</td>\n",
       "      <td>1</td>\n",
       "      <td>139500</td>\n",
       "      <td>1395.0</td>\n",
       "      <td>buffalo in-milk</td>\n",
       "    </tr>\n",
       "    <tr>\n",
       "      <th>1</th>\n",
       "      <td>72227101</td>\n",
       "      <td>1</td>\n",
       "      <td>1</td>\n",
       "      <td>5</td>\n",
       "      <td>5</td>\n",
       "      <td>NaN</td>\n",
       "      <td>2.0</td>\n",
       "      <td>2</td>\n",
       "      <td>139500</td>\n",
       "      <td>1395.0</td>\n",
       "      <td>buffalo young stock</td>\n",
       "    </tr>\n",
       "    <tr>\n",
       "      <th>2</th>\n",
       "      <td>72227101</td>\n",
       "      <td>1</td>\n",
       "      <td>1</td>\n",
       "      <td>5</td>\n",
       "      <td>7</td>\n",
       "      <td>NaN</td>\n",
       "      <td>NaN</td>\n",
       "      <td>3</td>\n",
       "      <td>139500</td>\n",
       "      <td>1395.0</td>\n",
       "      <td>ovine and other mammals (sheep, goat, pig, rab...</td>\n",
       "    </tr>\n",
       "    <tr>\n",
       "      <th>3</th>\n",
       "      <td>72227101</td>\n",
       "      <td>1</td>\n",
       "      <td>1</td>\n",
       "      <td>5</td>\n",
       "      <td>9</td>\n",
       "      <td>NaN</td>\n",
       "      <td>NaN</td>\n",
       "      <td>3</td>\n",
       "      <td>139500</td>\n",
       "      <td>1395.0</td>\n",
       "      <td>poultry birds (hen, cock, chicken, duck, duckl...</td>\n",
       "    </tr>\n",
       "    <tr>\n",
       "      <th>4</th>\n",
       "      <td>72227101</td>\n",
       "      <td>1</td>\n",
       "      <td>1</td>\n",
       "      <td>5</td>\n",
       "      <td>11</td>\n",
       "      <td>NaN</td>\n",
       "      <td>NaN</td>\n",
       "      <td>9</td>\n",
       "      <td>139500</td>\n",
       "      <td>1395.0</td>\n",
       "      <td>NaN</td>\n",
       "    </tr>\n",
       "    <tr>\n",
       "      <th>...</th>\n",
       "      <td>...</td>\n",
       "      <td>...</td>\n",
       "      <td>...</td>\n",
       "      <td>...</td>\n",
       "      <td>...</td>\n",
       "      <td>...</td>\n",
       "      <td>...</td>\n",
       "      <td>...</td>\n",
       "      <td>...</td>\n",
       "      <td>...</td>\n",
       "      <td>...</td>\n",
       "    </tr>\n",
       "    <tr>\n",
       "      <th>115293</th>\n",
       "      <td>70112501</td>\n",
       "      <td>36</td>\n",
       "      <td>1</td>\n",
       "      <td>31</td>\n",
       "      <td>11</td>\n",
       "      <td>NaN</td>\n",
       "      <td>NaN</td>\n",
       "      <td>12</td>\n",
       "      <td>100500</td>\n",
       "      <td>1005.0</td>\n",
       "      <td>NaN</td>\n",
       "    </tr>\n",
       "    <tr>\n",
       "      <th>115294</th>\n",
       "      <td>70112502</td>\n",
       "      <td>36</td>\n",
       "      <td>1</td>\n",
       "      <td>31</td>\n",
       "      <td>1</td>\n",
       "      <td>NaN</td>\n",
       "      <td>2.0</td>\n",
       "      <td>2</td>\n",
       "      <td>100500</td>\n",
       "      <td>1005.0</td>\n",
       "      <td>cattle in-milk</td>\n",
       "    </tr>\n",
       "    <tr>\n",
       "      <th>115295</th>\n",
       "      <td>70112502</td>\n",
       "      <td>36</td>\n",
       "      <td>1</td>\n",
       "      <td>31</td>\n",
       "      <td>2</td>\n",
       "      <td>2.0</td>\n",
       "      <td>NaN</td>\n",
       "      <td>2</td>\n",
       "      <td>100500</td>\n",
       "      <td>1005.0</td>\n",
       "      <td>cattle young stock</td>\n",
       "    </tr>\n",
       "    <tr>\n",
       "      <th>115296</th>\n",
       "      <td>70112502</td>\n",
       "      <td>36</td>\n",
       "      <td>1</td>\n",
       "      <td>31</td>\n",
       "      <td>6</td>\n",
       "      <td>NaN</td>\n",
       "      <td>1.0</td>\n",
       "      <td>1</td>\n",
       "      <td>100500</td>\n",
       "      <td>1005.0</td>\n",
       "      <td>buffalo other</td>\n",
       "    </tr>\n",
       "    <tr>\n",
       "      <th>115297</th>\n",
       "      <td>70112502</td>\n",
       "      <td>36</td>\n",
       "      <td>1</td>\n",
       "      <td>31</td>\n",
       "      <td>11</td>\n",
       "      <td>NaN</td>\n",
       "      <td>NaN</td>\n",
       "      <td>5</td>\n",
       "      <td>100500</td>\n",
       "      <td>1005.0</td>\n",
       "      <td>NaN</td>\n",
       "    </tr>\n",
       "  </tbody>\n",
       "</table>\n",
       "<p>115298 rows × 11 columns</p>\n",
       "</div>"
      ],
      "text/plain": [
       "        common_id  state  sector  district  srl_no  no_owned_male  \\\n",
       "0        72227101      1       1         5       4            NaN   \n",
       "1        72227101      1       1         5       5            NaN   \n",
       "2        72227101      1       1         5       7            NaN   \n",
       "3        72227101      1       1         5       9            NaN   \n",
       "4        72227101      1       1         5      11            NaN   \n",
       "...           ...    ...     ...       ...     ...            ...   \n",
       "115293   70112501     36       1        31      11            NaN   \n",
       "115294   70112502     36       1        31       1            NaN   \n",
       "115295   70112502     36       1        31       2            2.0   \n",
       "115296   70112502     36       1        31       6            NaN   \n",
       "115297   70112502     36       1        31      11            NaN   \n",
       "\n",
       "        no_owned_female  no_owned_total  multiplier       w  \\\n",
       "0                   1.0               1      139500  1395.0   \n",
       "1                   2.0               2      139500  1395.0   \n",
       "2                   NaN               3      139500  1395.0   \n",
       "3                   NaN               3      139500  1395.0   \n",
       "4                   NaN               9      139500  1395.0   \n",
       "...                 ...             ...         ...     ...   \n",
       "115293              NaN              12      100500  1005.0   \n",
       "115294              2.0               2      100500  1005.0   \n",
       "115295              NaN               2      100500  1005.0   \n",
       "115296              1.0               1      100500  1005.0   \n",
       "115297              NaN               5      100500  1005.0   \n",
       "\n",
       "                                          animal_category  \n",
       "0                                         buffalo in-milk  \n",
       "1                                     buffalo young stock  \n",
       "2       ovine and other mammals (sheep, goat, pig, rab...  \n",
       "3       poultry birds (hen, cock, chicken, duck, duckl...  \n",
       "4                                                     NaN  \n",
       "...                                                   ...  \n",
       "115293                                                NaN  \n",
       "115294                                     cattle in-milk  \n",
       "115295                                 cattle young stock  \n",
       "115296                                      buffalo other  \n",
       "115297                                                NaN  \n",
       "\n",
       "[115298 rows x 11 columns]"
      ]
     },
     "execution_count": 21,
     "metadata": {},
     "output_type": "execute_result"
    }
   ],
   "source": [
    "df"
   ]
  },
  {
   "cell_type": "code",
   "execution_count": 22,
   "metadata": {},
   "outputs": [],
   "source": [
    "csv_path = Path.joinpath(interim_data_path, \"level9.csv\")\n",
    "df.to_csv(csv_path, index=False)"
   ]
  },
  {
   "cell_type": "code",
   "execution_count": 23,
   "metadata": {},
   "outputs": [],
   "source": [
    "#check total\n",
    "#check unique values before mapping"
   ]
  },
  {
   "cell_type": "code",
   "execution_count": null,
   "metadata": {},
   "outputs": [],
   "source": []
  }
 ],
 "metadata": {
  "interpreter": {
   "hash": "a09e2b970767d0be2f332117f45685007d2c8ec89818e216477a3461de0aaaa8"
  },
  "kernelspec": {
   "display_name": "Python 3.7.6 64-bit (system)",
   "language": "python",
   "name": "python3"
  },
  "language_info": {
   "codemirror_mode": {
    "name": "ipython",
    "version": 3
   },
   "file_extension": ".py",
   "mimetype": "text/x-python",
   "name": "python",
   "nbconvert_exporter": "python",
   "pygments_lexer": "ipython3",
   "version": "3.7.6"
  },
  "orig_nbformat": 4
 },
 "nbformat": 4,
 "nbformat_minor": 2
}
