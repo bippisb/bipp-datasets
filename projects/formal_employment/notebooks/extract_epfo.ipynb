{
 "cells": [
  {
   "cell_type": "code",
   "execution_count": 110,
   "metadata": {},
   "outputs": [],
   "source": [
    "%matplotlib widget"
   ]
  },
  {
   "cell_type": "code",
   "execution_count": 111,
   "metadata": {},
   "outputs": [],
   "source": [
    "import camelot\n",
    "from pathlib import Path\n",
    "import pandas as pd\n",
    "import numpy as np"
   ]
  },
  {
   "cell_type": "code",
   "execution_count": 112,
   "metadata": {},
   "outputs": [],
   "source": [
    "payroll_report_pdf = Path.cwd().parent / \"data\" / \"raw\" / \"payroll_reports\" / \"december_2022.pdf\""
   ]
  },
  {
   "cell_type": "code",
   "execution_count": 166,
   "metadata": {
    "tags": [
     "read_pdf"
    ]
   },
   "outputs": [
    {
     "name": "stderr",
     "output_type": "stream",
     "text": [
      "/usr/local/lib/python3.10/dist-packages/camelot/utils.py:740: UserWarning:   (559.18, 561.67504) does not lie in column range (45.11043823685006, 558.8473518742444)\n",
      "  warnings.warn(\n",
      "/usr/local/lib/python3.10/dist-packages/camelot/utils.py:740: UserWarning:   (559.3, 561.79504) does not lie in column range (45.11043823685006, 559.0873035066506)\n",
      "  warnings.warn(\n",
      "/usr/local/lib/python3.10/dist-packages/camelot/utils.py:740: UserWarning:   (559.3, 561.79504) does not lie in column range (45.11067256461608, 559.0873035066506)\n",
      "  warnings.warn(\n",
      "/usr/local/lib/python3.10/dist-packages/camelot/utils.py:740: UserWarning:   (559.3, 561.90352) does not lie in column range (45.11067256461608, 558.9673276904475)\n",
      "  warnings.warn(\n",
      "/usr/local/lib/python3.10/dist-packages/camelot/utils.py:740: UserWarning:   (395.47, 397.96504000000004) does not lie in column range (45.11043823685006, 395.20033857315605)\n",
      "  warnings.warn(\n",
      "/usr/local/lib/python3.10/dist-packages/camelot/utils.py:740: UserWarning:   (399.67, 402.16504000000003) does not lie in column range (45.11043823685006, 399.2795163240629)\n",
      "  warnings.warn(\n",
      "/usr/local/lib/python3.10/dist-packages/camelot/utils.py:740: UserWarning:   (410.35, 412.84504000000004) does not lie in column range (45.34992121372431, 410.07733978234586)\n",
      "  warnings.warn(\n",
      "/usr/local/lib/python3.10/dist-packages/camelot/utils.py:740: UserWarning:   (414.31, 416.80504) does not lie in column range (45.11043823685006, 414.1565175332528)\n",
      "  warnings.warn(\n",
      "/usr/local/lib/python3.10/dist-packages/camelot/utils.py:740: UserWarning:   (415.27, 417.76504) does not lie in column range (45.11067256461608, 414.87637243047163)\n",
      "  warnings.warn(\n",
      "/usr/local/lib/python3.10/dist-packages/camelot/utils.py:740: UserWarning:   (417.67, 420.16504000000003) does not lie in column range (45.35038986925635, 417.2758887545345)\n",
      "  warnings.warn(\n",
      "/usr/local/lib/python3.10/dist-packages/camelot/utils.py:740: UserWarning:   (559.06, 561.55504) does not lie in column range (45.11043823685006, 558.8473518742444)\n",
      "  warnings.warn(\n"
     ]
    }
   ],
   "source": [
    "raw_tables = camelot.read_pdf(str(payroll_report_pdf), pages=\"all\", flavor=\"lattice\")"
   ]
  },
  {
   "cell_type": "code",
   "execution_count": 167,
   "metadata": {},
   "outputs": [],
   "source": [
    "tables = list(map(lambda t: t.df.copy(), raw_tables))"
   ]
  },
  {
   "cell_type": "code",
   "execution_count": 168,
   "metadata": {},
   "outputs": [],
   "source": [
    "def basic_cleaning(df: pd.DataFrame):\n",
    "    df = df.dropna(how=\"all\", axis=1)\n",
    "    df = df.replace(r\"[\\r\\n\\s]+\", \" \", regex=True) \\\n",
    "        .replace('-', '', regex=True) \\\n",
    "        .replace(\"\", np.nan)\n",
    "    print(\"Load Table:\", df.shape, \"->\", df.shape)\n",
    "    return df"
   ]
  },
  {
   "cell_type": "code",
   "execution_count": 169,
   "metadata": {},
   "outputs": [
    {
     "name": "stdout",
     "output_type": "stream",
     "text": [
      "Load Table: (9, 16) -> (9, 16)\n",
      "Load Table: (9, 16) -> (9, 16)\n",
      "Load Table: (9, 16) -> (9, 16)\n",
      "Load Table: (9, 16) -> (9, 16)\n",
      "Load Table: (9, 16) -> (9, 16)\n",
      "Load Table: (10, 16) -> (10, 16)\n",
      "Load Table: (10, 16) -> (10, 16)\n",
      "Load Table: (10, 16) -> (10, 16)\n",
      "Load Table: (10, 16) -> (10, 16)\n",
      "Load Table: (10, 16) -> (10, 16)\n",
      "Load Table: (10, 16) -> (10, 16)\n",
      "Load Table: (10, 16) -> (10, 16)\n",
      "Load Table: (10, 16) -> (10, 16)\n",
      "Load Table: (10, 16) -> (10, 16)\n",
      "Load Table: (9, 9) -> (9, 9)\n",
      "Load Table: (9, 9) -> (9, 9)\n",
      "Load Table: (9, 9) -> (9, 9)\n",
      "Load Table: (9, 9) -> (9, 9)\n",
      "Load Table: (9, 9) -> (9, 9)\n",
      "Load Table: (10, 9) -> (10, 9)\n",
      "Load Table: (10, 9) -> (10, 9)\n",
      "Load Table: (10, 9) -> (10, 9)\n",
      "Load Table: (10, 9) -> (10, 9)\n",
      "Load Table: (10, 9) -> (10, 9)\n",
      "Load Table: (10, 9) -> (10, 9)\n",
      "Load Table: (10, 9) -> (10, 9)\n",
      "Load Table: (10, 9) -> (10, 9)\n",
      "Load Table: (10, 9) -> (10, 9)\n",
      "Load Table: (10, 18) -> (10, 18)\n",
      "Load Table: (10, 18) -> (10, 18)\n",
      "Load Table: (10, 18) -> (10, 18)\n",
      "Load Table: (10, 18) -> (10, 18)\n",
      "Load Table: (10, 18) -> (10, 18)\n",
      "Load Table: (11, 18) -> (11, 18)\n",
      "Load Table: (11, 18) -> (11, 18)\n",
      "Load Table: (11, 18) -> (11, 18)\n",
      "Load Table: (11, 18) -> (11, 18)\n",
      "Load Table: (11, 18) -> (11, 18)\n",
      "Load Table: (11, 18) -> (11, 18)\n",
      "Load Table: (11, 18) -> (11, 18)\n",
      "Load Table: (11, 18) -> (11, 18)\n",
      "Load Table: (11, 18) -> (11, 18)\n"
     ]
    }
   ],
   "source": [
    "cln_tables = list(map(basic_cleaning, tables))"
   ]
  },
  {
   "cell_type": "code",
   "execution_count": 170,
   "metadata": {},
   "outputs": [],
   "source": [
    "def is_monthly(df: pd.DataFrame):\n",
    "    return df.iloc[0, :].str.contains(\"\\w{3,9}\\s\\d{4}\", regex=True).any()"
   ]
  },
  {
   "cell_type": "code",
   "execution_count": 171,
   "metadata": {},
   "outputs": [],
   "source": [
    "def is_epf(df: pd.DataFrame):\n",
    "    return df.iloc[:, 1].str.lower().str.contains('new EPF subscriber', na=False, case=False).any()"
   ]
  },
  {
   "cell_type": "code",
   "execution_count": 172,
   "metadata": {},
   "outputs": [],
   "source": [
    "monthly_epf_tables = list(filter(lambda t: is_monthly(t) and is_epf(t), cln_tables))"
   ]
  },
  {
   "cell_type": "code",
   "execution_count": 173,
   "metadata": {},
   "outputs": [],
   "source": [
    "def parse_date_head(df: pd.DataFrame) -> pd.Series:\n",
    "    return pd.to_datetime(\n",
    "        df.iloc[:, 0],\n",
    "        format=\"%B %Y\",\n",
    "        errors=\"coerce\"\n",
    "    ).dropna()"
   ]
  },
  {
   "cell_type": "code",
   "execution_count": 174,
   "metadata": {},
   "outputs": [],
   "source": [
    "def strip_month_headline(df: pd.DataFrame):\n",
    "    date_df = parse_date_head(df)\n",
    "    date_row_idx = date_df.index[0]\n",
    "    return df.iloc[date_row_idx + 1:].reset_index(drop=True)\n"
   ]
  },
  {
   "cell_type": "code",
   "execution_count": 175,
   "metadata": {},
   "outputs": [],
   "source": [
    "def exclude_totals_row(df: pd.DataFrame):\n",
    "    return df[~df.iloc[:, 0].str.contains(\"total\", na=False, case=False)]"
   ]
  },
  {
   "cell_type": "code",
   "execution_count": 202,
   "metadata": {},
   "outputs": [],
   "source": [
    "def epf_correct_camelot(df: pd.DataFrame):\n",
    "    # TODO: find a method to resolve this issue with camelot itself.\n",
    "    df.iloc[7, [0,1]] = df.iloc[:, 0].str.extract(r'(.*) (\\d[\\d,.]*)$').iloc[7]\n",
    "    df.iloc[2, [0,1]] = df.iloc[:, 1].str.extract(r'(.*) (\\d[\\d,.]*)$').iloc[2]\n",
    "    return df"
   ]
  },
  {
   "cell_type": "code",
   "execution_count": 286,
   "metadata": {},
   "outputs": [],
   "source": [
    "def prep_row_labels(df: pd.DataFrame):\n",
    "    headings = df.iloc[:, 0].str.replace(r\"(\\d{2})(\\d{2})\", r\"\\1-\\2\", regex=True)\n",
    "    headings[0:2] = [\"head\", \"gender\"]\n",
    "    headings = headings.str.lower()\n",
    "    return df.rename(index=headings).drop(0, axis=1)"
   ]
  },
  {
   "cell_type": "code",
   "execution_count": 312,
   "metadata": {},
   "outputs": [],
   "source": [
    "def reshape_epf(df: pd.DataFrame):\n",
    "    df.iloc[0].ffill(inplace=True)\n",
    "    df = df.T.melt(id_vars=[\"head\", \"gender\"], var_name=\"age\")\n",
    "    categorical_columns = [\"head\", \"gender\", \"age\"]\n",
    "    df[categorical_columns] = df[categorical_columns].astype(\"category\")\n",
    "    # TODO: convert values to integer values\n",
    "    # df.value = pd.to_numeric(df.value.str.replace(\",\", \"\").str.strip(), errors=\"coerce\", downcast=\"unsigned\")\n",
    "    return df"
   ]
  },
  {
   "cell_type": "code",
   "execution_count": 313,
   "metadata": {},
   "outputs": [
    {
     "data": {
      "text/html": [
       "<div>\n",
       "<style scoped>\n",
       "    .dataframe tbody tr th:only-of-type {\n",
       "        vertical-align: middle;\n",
       "    }\n",
       "\n",
       "    .dataframe tbody tr th {\n",
       "        vertical-align: top;\n",
       "    }\n",
       "\n",
       "    .dataframe thead th {\n",
       "        text-align: right;\n",
       "    }\n",
       "</style>\n",
       "<table border=\"1\" class=\"dataframe\">\n",
       "  <thead>\n",
       "    <tr style=\"text-align: right;\">\n",
       "      <th></th>\n",
       "      <th>head</th>\n",
       "      <th>gender</th>\n",
       "      <th>age</th>\n",
       "      <th>value</th>\n",
       "    </tr>\n",
       "  </thead>\n",
       "  <tbody>\n",
       "    <tr>\n",
       "      <th>0</th>\n",
       "      <td>Number of new EPF subscribers during the month</td>\n",
       "      <td>Male</td>\n",
       "      <td>less than 18</td>\n",
       "      <td>6475.0</td>\n",
       "    </tr>\n",
       "    <tr>\n",
       "      <th>1</th>\n",
       "      <td>Number of new EPF subscribers during the month</td>\n",
       "      <td>Female</td>\n",
       "      <td>less than 18</td>\n",
       "      <td>1358.0</td>\n",
       "    </tr>\n",
       "    <tr>\n",
       "      <th>2</th>\n",
       "      <td>Number of new EPF subscribers during the month</td>\n",
       "      <td>Others</td>\n",
       "      <td>less than 18</td>\n",
       "      <td>NaN</td>\n",
       "    </tr>\n",
       "    <tr>\n",
       "      <th>3</th>\n",
       "      <td>Number of new EPF subscribers during the month</td>\n",
       "      <td>Not Available</td>\n",
       "      <td>less than 18</td>\n",
       "      <td>NaN</td>\n",
       "    </tr>\n",
       "    <tr>\n",
       "      <th>4</th>\n",
       "      <td>Number of new EPF subscribers during the month</td>\n",
       "      <td>Total</td>\n",
       "      <td>less than 18</td>\n",
       "      <td>7833.0</td>\n",
       "    </tr>\n",
       "    <tr>\n",
       "      <th>...</th>\n",
       "      <td>...</td>\n",
       "      <td>...</td>\n",
       "      <td>...</td>\n",
       "      <td>...</td>\n",
       "    </tr>\n",
       "    <tr>\n",
       "      <th>85</th>\n",
       "      <td>Number of exited members who rejoined and resu...</td>\n",
       "      <td>Male</td>\n",
       "      <td>more than 35</td>\n",
       "      <td>310385.0</td>\n",
       "    </tr>\n",
       "    <tr>\n",
       "      <th>86</th>\n",
       "      <td>Number of exited members who rejoined and resu...</td>\n",
       "      <td>Female</td>\n",
       "      <td>more than 35</td>\n",
       "      <td>73044.0</td>\n",
       "    </tr>\n",
       "    <tr>\n",
       "      <th>87</th>\n",
       "      <td>Number of exited members who rejoined and resu...</td>\n",
       "      <td>Others</td>\n",
       "      <td>more than 35</td>\n",
       "      <td>3.0</td>\n",
       "    </tr>\n",
       "    <tr>\n",
       "      <th>88</th>\n",
       "      <td>Number of exited members who rejoined and resu...</td>\n",
       "      <td>Not Available</td>\n",
       "      <td>more than 35</td>\n",
       "      <td>1.0</td>\n",
       "    </tr>\n",
       "    <tr>\n",
       "      <th>89</th>\n",
       "      <td>Number of exited members who rejoined and resu...</td>\n",
       "      <td>Total</td>\n",
       "      <td>more than 35</td>\n",
       "      <td>383433.0</td>\n",
       "    </tr>\n",
       "  </tbody>\n",
       "</table>\n",
       "<p>90 rows × 4 columns</p>\n",
       "</div>"
      ],
      "text/plain": [
       "                                                 head         gender  \\\n",
       "0      Number of new EPF subscribers during the month           Male   \n",
       "1      Number of new EPF subscribers during the month         Female   \n",
       "2      Number of new EPF subscribers during the month         Others   \n",
       "3      Number of new EPF subscribers during the month  Not Available   \n",
       "4      Number of new EPF subscribers during the month          Total   \n",
       "..                                                ...            ...   \n",
       "85  Number of exited members who rejoined and resu...           Male   \n",
       "86  Number of exited members who rejoined and resu...         Female   \n",
       "87  Number of exited members who rejoined and resu...         Others   \n",
       "88  Number of exited members who rejoined and resu...  Not Available   \n",
       "89  Number of exited members who rejoined and resu...          Total   \n",
       "\n",
       "             age     value  \n",
       "0   less than 18    6475.0  \n",
       "1   less than 18    1358.0  \n",
       "2   less than 18       NaN  \n",
       "3   less than 18       NaN  \n",
       "4   less than 18    7833.0  \n",
       "..           ...       ...  \n",
       "85  more than 35  310385.0  \n",
       "86  more than 35   73044.0  \n",
       "87  more than 35       3.0  \n",
       "88  more than 35       1.0  \n",
       "89  more than 35  383433.0  \n",
       "\n",
       "[90 rows x 4 columns]"
      ]
     },
     "execution_count": 313,
     "metadata": {},
     "output_type": "execute_result"
    }
   ],
   "source": [
    "df = monthly_epf_tables[0].pipe(strip_month_headline).pipe(exclude_totals_row).pipe(epf_correct_camelot).pipe(prep_row_labels).pipe(reshape_epf)\n",
    "df"
   ]
  },
  {
   "cell_type": "code",
   "execution_count": 314,
   "metadata": {},
   "outputs": [
    {
     "name": "stdout",
     "output_type": "stream",
     "text": [
      "<class 'pandas.core.frame.DataFrame'>\n",
      "RangeIndex: 90 entries, 0 to 89\n",
      "Data columns (total 4 columns):\n",
      " #   Column  Non-Null Count  Dtype   \n",
      "---  ------  --------------  -----   \n",
      " 0   head    90 non-null     category\n",
      " 1   gender  90 non-null     category\n",
      " 2   age     90 non-null     category\n",
      " 3   value   78 non-null     float64 \n",
      "dtypes: category(3), float64(1)\n",
      "memory usage: 1.6 KB\n"
     ]
    }
   ],
   "source": [
    "df.info()"
   ]
  },
  {
   "cell_type": "code",
   "execution_count": 318,
   "metadata": {},
   "outputs": [
    {
     "data": {
      "text/plain": [
       "Timestamp('2022-04-01 00:00:00')"
      ]
     },
     "execution_count": 318,
     "metadata": {},
     "output_type": "execute_result"
    }
   ],
   "source": [
    "parse_date_head(monthly_epf_tables[0]).iloc[0]"
   ]
  },
  {
   "cell_type": "code",
   "execution_count": 321,
   "metadata": {},
   "outputs": [],
   "source": [
    "def epf_data_pipeline(df: pd.DataFrame):\n",
    "    month = parse_date_head(df).iloc[0]\n",
    "    df = df.pipe(strip_month_headline) \\\n",
    "        .pipe(exclude_totals_row) \\\n",
    "        .pipe(epf_correct_camelot) \\\n",
    "        .pipe(prep_row_labels) \\\n",
    "        .pipe(reshape_epf)\n",
    "    df[\"year\"] = month.year\n",
    "    df[\"month\"] = month.month\n",
    "    return df"
   ]
  },
  {
   "cell_type": "code",
   "execution_count": 322,
   "metadata": {},
   "outputs": [
    {
     "data": {
      "text/html": [
       "<div>\n",
       "<style scoped>\n",
       "    .dataframe tbody tr th:only-of-type {\n",
       "        vertical-align: middle;\n",
       "    }\n",
       "\n",
       "    .dataframe tbody tr th {\n",
       "        vertical-align: top;\n",
       "    }\n",
       "\n",
       "    .dataframe thead th {\n",
       "        text-align: right;\n",
       "    }\n",
       "</style>\n",
       "<table border=\"1\" class=\"dataframe\">\n",
       "  <thead>\n",
       "    <tr style=\"text-align: right;\">\n",
       "      <th></th>\n",
       "      <th>head</th>\n",
       "      <th>gender</th>\n",
       "      <th>age</th>\n",
       "      <th>value</th>\n",
       "      <th>year</th>\n",
       "      <th>month</th>\n",
       "    </tr>\n",
       "  </thead>\n",
       "  <tbody>\n",
       "    <tr>\n",
       "      <th>0</th>\n",
       "      <td>Number of new EPF subscribers during the month</td>\n",
       "      <td>Male</td>\n",
       "      <td>less than 18</td>\n",
       "      <td>6475.0</td>\n",
       "      <td>2022</td>\n",
       "      <td>4</td>\n",
       "    </tr>\n",
       "    <tr>\n",
       "      <th>1</th>\n",
       "      <td>Number of new EPF subscribers during the month</td>\n",
       "      <td>Female</td>\n",
       "      <td>less than 18</td>\n",
       "      <td>1358.0</td>\n",
       "      <td>2022</td>\n",
       "      <td>4</td>\n",
       "    </tr>\n",
       "    <tr>\n",
       "      <th>2</th>\n",
       "      <td>Number of new EPF subscribers during the month</td>\n",
       "      <td>Others</td>\n",
       "      <td>less than 18</td>\n",
       "      <td>NaN</td>\n",
       "      <td>2022</td>\n",
       "      <td>4</td>\n",
       "    </tr>\n",
       "    <tr>\n",
       "      <th>3</th>\n",
       "      <td>Number of new EPF subscribers during the month</td>\n",
       "      <td>Not Available</td>\n",
       "      <td>less than 18</td>\n",
       "      <td>NaN</td>\n",
       "      <td>2022</td>\n",
       "      <td>4</td>\n",
       "    </tr>\n",
       "    <tr>\n",
       "      <th>4</th>\n",
       "      <td>Number of new EPF subscribers during the month</td>\n",
       "      <td>Total</td>\n",
       "      <td>less than 18</td>\n",
       "      <td>7833.0</td>\n",
       "      <td>2022</td>\n",
       "      <td>4</td>\n",
       "    </tr>\n",
       "    <tr>\n",
       "      <th>...</th>\n",
       "      <td>...</td>\n",
       "      <td>...</td>\n",
       "      <td>...</td>\n",
       "      <td>...</td>\n",
       "      <td>...</td>\n",
       "      <td>...</td>\n",
       "    </tr>\n",
       "    <tr>\n",
       "      <th>85</th>\n",
       "      <td>Number of exited members who rejoined and resu...</td>\n",
       "      <td>Male</td>\n",
       "      <td>more than 35</td>\n",
       "      <td>208769.0</td>\n",
       "      <td>2022</td>\n",
       "      <td>12</td>\n",
       "    </tr>\n",
       "    <tr>\n",
       "      <th>86</th>\n",
       "      <td>Number of exited members who rejoined and resu...</td>\n",
       "      <td>Female</td>\n",
       "      <td>more than 35</td>\n",
       "      <td>42750.0</td>\n",
       "      <td>2022</td>\n",
       "      <td>12</td>\n",
       "    </tr>\n",
       "    <tr>\n",
       "      <th>87</th>\n",
       "      <td>Number of exited members who rejoined and resu...</td>\n",
       "      <td>Others</td>\n",
       "      <td>more than 35</td>\n",
       "      <td>1.0</td>\n",
       "      <td>2022</td>\n",
       "      <td>12</td>\n",
       "    </tr>\n",
       "    <tr>\n",
       "      <th>88</th>\n",
       "      <td>Number of exited members who rejoined and resu...</td>\n",
       "      <td>Not Available</td>\n",
       "      <td>more than 35</td>\n",
       "      <td>1.0</td>\n",
       "      <td>2022</td>\n",
       "      <td>12</td>\n",
       "    </tr>\n",
       "    <tr>\n",
       "      <th>89</th>\n",
       "      <td>Number of exited members who rejoined and resu...</td>\n",
       "      <td>Total</td>\n",
       "      <td>more than 35</td>\n",
       "      <td>251521.0</td>\n",
       "      <td>2022</td>\n",
       "      <td>12</td>\n",
       "    </tr>\n",
       "  </tbody>\n",
       "</table>\n",
       "<p>810 rows × 6 columns</p>\n",
       "</div>"
      ],
      "text/plain": [
       "                                                 head         gender  \\\n",
       "0      Number of new EPF subscribers during the month           Male   \n",
       "1      Number of new EPF subscribers during the month         Female   \n",
       "2      Number of new EPF subscribers during the month         Others   \n",
       "3      Number of new EPF subscribers during the month  Not Available   \n",
       "4      Number of new EPF subscribers during the month          Total   \n",
       "..                                                ...            ...   \n",
       "85  Number of exited members who rejoined and resu...           Male   \n",
       "86  Number of exited members who rejoined and resu...         Female   \n",
       "87  Number of exited members who rejoined and resu...         Others   \n",
       "88  Number of exited members who rejoined and resu...  Not Available   \n",
       "89  Number of exited members who rejoined and resu...          Total   \n",
       "\n",
       "             age     value  year  month  \n",
       "0   less than 18    6475.0  2022      4  \n",
       "1   less than 18    1358.0  2022      4  \n",
       "2   less than 18       NaN  2022      4  \n",
       "3   less than 18       NaN  2022      4  \n",
       "4   less than 18    7833.0  2022      4  \n",
       "..           ...       ...   ...    ...  \n",
       "85  more than 35  208769.0  2022     12  \n",
       "86  more than 35   42750.0  2022     12  \n",
       "87  more than 35       1.0  2022     12  \n",
       "88  more than 35       1.0  2022     12  \n",
       "89  more than 35  251521.0  2022     12  \n",
       "\n",
       "[810 rows x 6 columns]"
      ]
     },
     "execution_count": 322,
     "metadata": {},
     "output_type": "execute_result"
    }
   ],
   "source": [
    "pd.concat(map(epf_data_pipeline, monthly_epf_tables))"
   ]
  },
  {
   "cell_type": "code",
   "execution_count": null,
   "metadata": {},
   "outputs": [],
   "source": []
  }
 ],
 "metadata": {
  "kernelspec": {
   "display_name": "Python 3",
   "language": "python",
   "name": "python3"
  },
  "language_info": {
   "codemirror_mode": {
    "name": "ipython",
    "version": 3
   },
   "file_extension": ".py",
   "mimetype": "text/x-python",
   "name": "python",
   "nbconvert_exporter": "python",
   "pygments_lexer": "ipython3",
   "version": "3.10.6"
  },
  "orig_nbformat": 4,
  "vscode": {
   "interpreter": {
    "hash": "31f2aee4e71d21fbe5cf8b01ff0e069b9275f58929596ceb00d14d90e3e16cd6"
   }
  }
 },
 "nbformat": 4,
 "nbformat_minor": 2
}
