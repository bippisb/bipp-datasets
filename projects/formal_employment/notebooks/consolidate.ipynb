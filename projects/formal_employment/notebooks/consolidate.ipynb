{
 "cells": [
  {
   "cell_type": "code",
   "execution_count": 19,
   "metadata": {},
   "outputs": [],
   "source": [
    "import pandas as pd\n",
    "from pathlib import Path\n",
    "import numpy as np"
   ]
  },
  {
   "cell_type": "code",
   "execution_count": 20,
   "metadata": {},
   "outputs": [],
   "source": [
    "data_path = Path.cwd().parent / \"data\"\n",
    "interim_data_dir = data_path / \"interim\"\n",
    "interim_data_dir.mkdir(parents=True, exist_ok=True)\n",
    "final_data_dir = data_path / \"processed\"\n",
    "final_data_dir.mkdir(parents=True, exist_ok=True)"
   ]
  },
  {
   "cell_type": "code",
   "execution_count": 21,
   "metadata": {},
   "outputs": [],
   "source": [
    "src_files = [interim_data_dir / \"december_2022.csv\", interim_data_dir / \"march_2022.csv\"]\n"
   ]
  },
  {
   "attachments": {},
   "cell_type": "markdown",
   "metadata": {},
   "source": [
    "## Read interim data"
   ]
  },
  {
   "cell_type": "code",
   "execution_count": 22,
   "metadata": {},
   "outputs": [
    {
     "data": {
      "text/html": [
       "<div>\n",
       "<style scoped>\n",
       "    .dataframe tbody tr th:only-of-type {\n",
       "        vertical-align: middle;\n",
       "    }\n",
       "\n",
       "    .dataframe tbody tr th {\n",
       "        vertical-align: top;\n",
       "    }\n",
       "\n",
       "    .dataframe thead th {\n",
       "        text-align: right;\n",
       "    }\n",
       "</style>\n",
       "<table border=\"1\" class=\"dataframe\">\n",
       "  <thead>\n",
       "    <tr style=\"text-align: right;\">\n",
       "      <th></th>\n",
       "      <th>index</th>\n",
       "      <th>head</th>\n",
       "      <th>gender</th>\n",
       "      <th>sector</th>\n",
       "      <th>age</th>\n",
       "      <th>value</th>\n",
       "      <th>year</th>\n",
       "      <th>month</th>\n",
       "    </tr>\n",
       "  </thead>\n",
       "  <tbody>\n",
       "    <tr>\n",
       "      <th>0</th>\n",
       "      <td>0</td>\n",
       "      <td>Total Existing Subscribers contributing during...</td>\n",
       "      <td>NaN</td>\n",
       "      <td>NaN</td>\n",
       "      <td>18-21</td>\n",
       "      <td>12,538</td>\n",
       "      <td>2022</td>\n",
       "      <td>4</td>\n",
       "    </tr>\n",
       "    <tr>\n",
       "      <th>1</th>\n",
       "      <td>1</td>\n",
       "      <td>New Subscribers contributing during the month</td>\n",
       "      <td>Male</td>\n",
       "      <td>Central Govt</td>\n",
       "      <td>18-21</td>\n",
       "      <td>394</td>\n",
       "      <td>2022</td>\n",
       "      <td>4</td>\n",
       "    </tr>\n",
       "    <tr>\n",
       "      <th>2</th>\n",
       "      <td>2</td>\n",
       "      <td>New Subscribers contributing during the month</td>\n",
       "      <td>Female</td>\n",
       "      <td>Central Govt</td>\n",
       "      <td>18-21</td>\n",
       "      <td>66</td>\n",
       "      <td>2022</td>\n",
       "      <td>4</td>\n",
       "    </tr>\n",
       "    <tr>\n",
       "      <th>3</th>\n",
       "      <td>3</td>\n",
       "      <td>New Subscribers contributing during the month</td>\n",
       "      <td>Transgender</td>\n",
       "      <td>Central Govt</td>\n",
       "      <td>18-21</td>\n",
       "      <td>-</td>\n",
       "      <td>2022</td>\n",
       "      <td>4</td>\n",
       "    </tr>\n",
       "    <tr>\n",
       "      <th>4</th>\n",
       "      <td>4</td>\n",
       "      <td>New Subscribers contributing during the month</td>\n",
       "      <td>Non-IRA</td>\n",
       "      <td>Central Govt</td>\n",
       "      <td>18-21</td>\n",
       "      <td>-</td>\n",
       "      <td>2022</td>\n",
       "      <td>4</td>\n",
       "    </tr>\n",
       "    <tr>\n",
       "      <th>...</th>\n",
       "      <td>...</td>\n",
       "      <td>...</td>\n",
       "      <td>...</td>\n",
       "      <td>...</td>\n",
       "      <td>...</td>\n",
       "      <td>...</td>\n",
       "      <td>...</td>\n",
       "      <td>...</td>\n",
       "    </tr>\n",
       "    <tr>\n",
       "      <th>5035</th>\n",
       "      <td>2875</td>\n",
       "      <td>Number of existing employees who paid during t...</td>\n",
       "      <td>Total</td>\n",
       "      <td>NaN</td>\n",
       "      <td>more than 35</td>\n",
       "      <td>1,00,74,164</td>\n",
       "      <td>2022</td>\n",
       "      <td>3</td>\n",
       "    </tr>\n",
       "    <tr>\n",
       "      <th>5036</th>\n",
       "      <td>2876</td>\n",
       "      <td>Number of newly registered employees &amp; paying ...</td>\n",
       "      <td>Male</td>\n",
       "      <td>NaN</td>\n",
       "      <td>more than 35</td>\n",
       "      <td>1,94,763</td>\n",
       "      <td>2022</td>\n",
       "      <td>3</td>\n",
       "    </tr>\n",
       "    <tr>\n",
       "      <th>5037</th>\n",
       "      <td>2877</td>\n",
       "      <td>Number of newly registered employees &amp; paying ...</td>\n",
       "      <td>Female</td>\n",
       "      <td>NaN</td>\n",
       "      <td>more than 35</td>\n",
       "      <td>63,191</td>\n",
       "      <td>2022</td>\n",
       "      <td>3</td>\n",
       "    </tr>\n",
       "    <tr>\n",
       "      <th>5038</th>\n",
       "      <td>2878</td>\n",
       "      <td>Number of newly registered employees &amp; paying ...</td>\n",
       "      <td>Others</td>\n",
       "      <td>NaN</td>\n",
       "      <td>more than 35</td>\n",
       "      <td>11</td>\n",
       "      <td>2022</td>\n",
       "      <td>3</td>\n",
       "    </tr>\n",
       "    <tr>\n",
       "      <th>5039</th>\n",
       "      <td>2879</td>\n",
       "      <td>Number of newly registered employees &amp; paying ...</td>\n",
       "      <td>Total</td>\n",
       "      <td>NaN</td>\n",
       "      <td>more than 35</td>\n",
       "      <td>2,57,965</td>\n",
       "      <td>2022</td>\n",
       "      <td>3</td>\n",
       "    </tr>\n",
       "  </tbody>\n",
       "</table>\n",
       "<p>5040 rows × 8 columns</p>\n",
       "</div>"
      ],
      "text/plain": [
       "      index                                               head       gender  \\\n",
       "0         0  Total Existing Subscribers contributing during...          NaN   \n",
       "1         1      New Subscribers contributing during the month         Male   \n",
       "2         2      New Subscribers contributing during the month       Female   \n",
       "3         3      New Subscribers contributing during the month  Transgender   \n",
       "4         4      New Subscribers contributing during the month      Non-IRA   \n",
       "...     ...                                                ...          ...   \n",
       "5035   2875  Number of existing employees who paid during t...        Total   \n",
       "5036   2876  Number of newly registered employees & paying ...         Male   \n",
       "5037   2877  Number of newly registered employees & paying ...       Female   \n",
       "5038   2878  Number of newly registered employees & paying ...       Others   \n",
       "5039   2879  Number of newly registered employees & paying ...        Total   \n",
       "\n",
       "            sector           age        value  year  month  \n",
       "0              NaN         18-21       12,538  2022      4  \n",
       "1     Central Govt         18-21          394  2022      4  \n",
       "2     Central Govt         18-21           66  2022      4  \n",
       "3     Central Govt         18-21            -  2022      4  \n",
       "4     Central Govt         18-21            -  2022      4  \n",
       "...            ...           ...          ...   ...    ...  \n",
       "5035           NaN  more than 35  1,00,74,164  2022      3  \n",
       "5036           NaN  more than 35     1,94,763  2022      3  \n",
       "5037           NaN  more than 35       63,191  2022      3  \n",
       "5038           NaN  more than 35           11  2022      3  \n",
       "5039           NaN  more than 35     2,57,965  2022      3  \n",
       "\n",
       "[5040 rows x 8 columns]"
      ]
     },
     "execution_count": 22,
     "metadata": {},
     "output_type": "execute_result"
    }
   ],
   "source": [
    "df = pd.concat(map(pd.read_csv, src_files)).reset_index()\n",
    "df"
   ]
  },
  {
   "cell_type": "code",
   "execution_count": 23,
   "metadata": {},
   "outputs": [
    {
     "name": "stdout",
     "output_type": "stream",
     "text": [
      "<class 'pandas.core.frame.DataFrame'>\n",
      "RangeIndex: 5040 entries, 0 to 5039\n",
      "Data columns (total 8 columns):\n",
      " #   Column  Non-Null Count  Dtype \n",
      "---  ------  --------------  ----- \n",
      " 0   index   5040 non-null   int64 \n",
      " 1   head    5040 non-null   object\n",
      " 2   gender  4914 non-null   object\n",
      " 3   sector  2016 non-null   object\n",
      " 4   age     5040 non-null   object\n",
      " 5   value   4688 non-null   object\n",
      " 6   year    5040 non-null   int64 \n",
      " 7   month   5040 non-null   int64 \n",
      "dtypes: int64(3), object(5)\n",
      "memory usage: 315.1+ KB\n"
     ]
    }
   ],
   "source": [
    "df.info()"
   ]
  },
  {
   "attachments": {},
   "cell_type": "markdown",
   "metadata": {},
   "source": [
    "## Handle categories"
   ]
  },
  {
   "cell_type": "code",
   "execution_count": 24,
   "metadata": {},
   "outputs": [],
   "source": [
    "df = df.astype({\n",
    "    \"head\": \"category\",\n",
    "    \"gender\": \"category\",\n",
    "    \"sector\": \"category\",\n",
    "    \"age\": \"category\"\n",
    "})"
   ]
  },
  {
   "cell_type": "code",
   "execution_count": 25,
   "metadata": {},
   "outputs": [
    {
     "name": "stdout",
     "output_type": "stream",
     "text": [
      "Total Existing Subscribers contributing during the month\n",
      "New Subscribers contributing during the month\n",
      "Number of new EPF subscribers during the month\n",
      "Number of members that ceased subscribing during the month\n",
      "Number of exited members who rejoined and resubscribed during the month\n",
      "Number of existing employees who paid during the month\n",
      "Number of newly registered employees & paying contribution during the month\n"
     ]
    }
   ],
   "source": [
    "for h in df[\"head\"].unique():\n",
    "    print(h)"
   ]
  },
  {
   "cell_type": "code",
   "execution_count": 26,
   "metadata": {},
   "outputs": [],
   "source": [
    "df[\"head\"] = df[\"head\"].cat.rename_categories({\n",
    "    \"Total Existing Subscribers contributing during the month\": \"Total Existing Subscribers contributing to NPS during the month\",\n",
    "    \"New Subscribers contributing during the month\": \"New Subscribers contributing to NPS during the month\",\n",
    "    \"Number of members that ceased subscribing during the month\": \"Number of EPF members that ceased subscribing during the month\",\n",
    "    \"Number of exited members who rejoined and resubscribed during the month\": \"Number of exited EPF members who rejoined and resubscribed during the month\",\n",
    "    \"Number of existing employees who paid during the month\": \"Number of existing employees who paid ESIS contribuition during the month\",\n",
    "    \"Number of newly registered employees & paying contribution during the month\": \"Number of newly registered employees & paying ESIS contribution during the month\"\n",
    "})\n"
   ]
  },
  {
   "attachments": {},
   "cell_type": "markdown",
   "metadata": {},
   "source": [
    "## Convert values to integer type"
   ]
  },
  {
   "cell_type": "code",
   "execution_count": 27,
   "metadata": {},
   "outputs": [],
   "source": [
    "df.value = df.value.str.replace(r\"[,\\s]+\", \"\", regex=True).str.strip()"
   ]
  },
  {
   "cell_type": "code",
   "execution_count": 28,
   "metadata": {},
   "outputs": [],
   "source": [
    "df.value = df.value.str.replace(r\"^\\-$\", \"\", regex=True)"
   ]
  },
  {
   "cell_type": "code",
   "execution_count": 29,
   "metadata": {},
   "outputs": [],
   "source": [
    "df.value = df.value.replace(\"\", 0).replace(np.nan, 0).astype(\"int\").abs()"
   ]
  },
  {
   "cell_type": "code",
   "execution_count": 31,
   "metadata": {},
   "outputs": [
    {
     "data": {
      "text/plain": [
       "['non-ira']\n",
       "Categories (7, object): ['18-21', '22-25', '26-28', '29-35', 'less than 18', 'more than 35', 'non-ira']"
      ]
     },
     "execution_count": 31,
     "metadata": {},
     "output_type": "execute_result"
    }
   ],
   "source": [
    "df[(df.value == 0) & (df.gender.isin([\"Male\", \"Female\"]))].age.unique()"
   ]
  },
  {
   "attachments": {},
   "cell_type": "markdown",
   "metadata": {},
   "source": [
    "## Final Data"
   ]
  },
  {
   "cell_type": "code",
   "execution_count": 32,
   "metadata": {},
   "outputs": [
    {
     "data": {
      "text/html": [
       "<div>\n",
       "<style scoped>\n",
       "    .dataframe tbody tr th:only-of-type {\n",
       "        vertical-align: middle;\n",
       "    }\n",
       "\n",
       "    .dataframe tbody tr th {\n",
       "        vertical-align: top;\n",
       "    }\n",
       "\n",
       "    .dataframe thead th {\n",
       "        text-align: right;\n",
       "    }\n",
       "</style>\n",
       "<table border=\"1\" class=\"dataframe\">\n",
       "  <thead>\n",
       "    <tr style=\"text-align: right;\">\n",
       "      <th></th>\n",
       "      <th>index</th>\n",
       "      <th>head</th>\n",
       "      <th>gender</th>\n",
       "      <th>sector</th>\n",
       "      <th>age</th>\n",
       "      <th>value</th>\n",
       "      <th>year</th>\n",
       "      <th>month</th>\n",
       "    </tr>\n",
       "  </thead>\n",
       "  <tbody>\n",
       "    <tr>\n",
       "      <th>0</th>\n",
       "      <td>0</td>\n",
       "      <td>Total Existing Subscribers contributing to NPS...</td>\n",
       "      <td>NaN</td>\n",
       "      <td>NaN</td>\n",
       "      <td>18-21</td>\n",
       "      <td>12538</td>\n",
       "      <td>2022</td>\n",
       "      <td>4</td>\n",
       "    </tr>\n",
       "    <tr>\n",
       "      <th>1</th>\n",
       "      <td>1</td>\n",
       "      <td>New Subscribers contributing to NPS during the...</td>\n",
       "      <td>Male</td>\n",
       "      <td>Central Govt</td>\n",
       "      <td>18-21</td>\n",
       "      <td>394</td>\n",
       "      <td>2022</td>\n",
       "      <td>4</td>\n",
       "    </tr>\n",
       "    <tr>\n",
       "      <th>2</th>\n",
       "      <td>2</td>\n",
       "      <td>New Subscribers contributing to NPS during the...</td>\n",
       "      <td>Female</td>\n",
       "      <td>Central Govt</td>\n",
       "      <td>18-21</td>\n",
       "      <td>66</td>\n",
       "      <td>2022</td>\n",
       "      <td>4</td>\n",
       "    </tr>\n",
       "    <tr>\n",
       "      <th>3</th>\n",
       "      <td>3</td>\n",
       "      <td>New Subscribers contributing to NPS during the...</td>\n",
       "      <td>Transgender</td>\n",
       "      <td>Central Govt</td>\n",
       "      <td>18-21</td>\n",
       "      <td>0</td>\n",
       "      <td>2022</td>\n",
       "      <td>4</td>\n",
       "    </tr>\n",
       "    <tr>\n",
       "      <th>4</th>\n",
       "      <td>4</td>\n",
       "      <td>New Subscribers contributing to NPS during the...</td>\n",
       "      <td>Non-IRA</td>\n",
       "      <td>Central Govt</td>\n",
       "      <td>18-21</td>\n",
       "      <td>0</td>\n",
       "      <td>2022</td>\n",
       "      <td>4</td>\n",
       "    </tr>\n",
       "    <tr>\n",
       "      <th>...</th>\n",
       "      <td>...</td>\n",
       "      <td>...</td>\n",
       "      <td>...</td>\n",
       "      <td>...</td>\n",
       "      <td>...</td>\n",
       "      <td>...</td>\n",
       "      <td>...</td>\n",
       "      <td>...</td>\n",
       "    </tr>\n",
       "    <tr>\n",
       "      <th>5035</th>\n",
       "      <td>2875</td>\n",
       "      <td>Number of existing employees who paid ESIS con...</td>\n",
       "      <td>Total</td>\n",
       "      <td>NaN</td>\n",
       "      <td>more than 35</td>\n",
       "      <td>10074164</td>\n",
       "      <td>2022</td>\n",
       "      <td>3</td>\n",
       "    </tr>\n",
       "    <tr>\n",
       "      <th>5036</th>\n",
       "      <td>2876</td>\n",
       "      <td>Number of newly registered employees &amp; paying ...</td>\n",
       "      <td>Male</td>\n",
       "      <td>NaN</td>\n",
       "      <td>more than 35</td>\n",
       "      <td>194763</td>\n",
       "      <td>2022</td>\n",
       "      <td>3</td>\n",
       "    </tr>\n",
       "    <tr>\n",
       "      <th>5037</th>\n",
       "      <td>2877</td>\n",
       "      <td>Number of newly registered employees &amp; paying ...</td>\n",
       "      <td>Female</td>\n",
       "      <td>NaN</td>\n",
       "      <td>more than 35</td>\n",
       "      <td>63191</td>\n",
       "      <td>2022</td>\n",
       "      <td>3</td>\n",
       "    </tr>\n",
       "    <tr>\n",
       "      <th>5038</th>\n",
       "      <td>2878</td>\n",
       "      <td>Number of newly registered employees &amp; paying ...</td>\n",
       "      <td>Others</td>\n",
       "      <td>NaN</td>\n",
       "      <td>more than 35</td>\n",
       "      <td>11</td>\n",
       "      <td>2022</td>\n",
       "      <td>3</td>\n",
       "    </tr>\n",
       "    <tr>\n",
       "      <th>5039</th>\n",
       "      <td>2879</td>\n",
       "      <td>Number of newly registered employees &amp; paying ...</td>\n",
       "      <td>Total</td>\n",
       "      <td>NaN</td>\n",
       "      <td>more than 35</td>\n",
       "      <td>257965</td>\n",
       "      <td>2022</td>\n",
       "      <td>3</td>\n",
       "    </tr>\n",
       "  </tbody>\n",
       "</table>\n",
       "<p>5040 rows × 8 columns</p>\n",
       "</div>"
      ],
      "text/plain": [
       "      index                                               head       gender  \\\n",
       "0         0  Total Existing Subscribers contributing to NPS...          NaN   \n",
       "1         1  New Subscribers contributing to NPS during the...         Male   \n",
       "2         2  New Subscribers contributing to NPS during the...       Female   \n",
       "3         3  New Subscribers contributing to NPS during the...  Transgender   \n",
       "4         4  New Subscribers contributing to NPS during the...      Non-IRA   \n",
       "...     ...                                                ...          ...   \n",
       "5035   2875  Number of existing employees who paid ESIS con...        Total   \n",
       "5036   2876  Number of newly registered employees & paying ...         Male   \n",
       "5037   2877  Number of newly registered employees & paying ...       Female   \n",
       "5038   2878  Number of newly registered employees & paying ...       Others   \n",
       "5039   2879  Number of newly registered employees & paying ...        Total   \n",
       "\n",
       "            sector           age     value  year  month  \n",
       "0              NaN         18-21     12538  2022      4  \n",
       "1     Central Govt         18-21       394  2022      4  \n",
       "2     Central Govt         18-21        66  2022      4  \n",
       "3     Central Govt         18-21         0  2022      4  \n",
       "4     Central Govt         18-21         0  2022      4  \n",
       "...            ...           ...       ...   ...    ...  \n",
       "5035           NaN  more than 35  10074164  2022      3  \n",
       "5036           NaN  more than 35    194763  2022      3  \n",
       "5037           NaN  more than 35     63191  2022      3  \n",
       "5038           NaN  more than 35        11  2022      3  \n",
       "5039           NaN  more than 35    257965  2022      3  \n",
       "\n",
       "[5040 rows x 8 columns]"
      ]
     },
     "execution_count": 32,
     "metadata": {},
     "output_type": "execute_result"
    }
   ],
   "source": [
    "df"
   ]
  },
  {
   "attachments": {},
   "cell_type": "markdown",
   "metadata": {},
   "source": [
    "### Export Data"
   ]
  },
  {
   "cell_type": "code",
   "execution_count": 33,
   "metadata": {},
   "outputs": [],
   "source": [
    "df.to_parquet(final_data_dir / \"march_2021_to_december_2022.parquet\")\n",
    "df.to_csv(final_data_dir / \"march_2021_to_december_2022.csv\", index=False)"
   ]
  }
 ],
 "metadata": {
  "kernelspec": {
   "display_name": "Python 3",
   "language": "python",
   "name": "python3"
  },
  "language_info": {
   "codemirror_mode": {
    "name": "ipython",
    "version": 3
   },
   "file_extension": ".py",
   "mimetype": "text/x-python",
   "name": "python",
   "nbconvert_exporter": "python",
   "pygments_lexer": "ipython3",
   "version": "3.10.6"
  },
  "orig_nbformat": 4
 },
 "nbformat": 4,
 "nbformat_minor": 2
}
