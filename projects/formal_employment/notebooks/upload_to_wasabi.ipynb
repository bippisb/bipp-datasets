{
 "cells": [
  {
   "cell_type": "code",
   "execution_count": 4,
   "metadata": {},
   "outputs": [],
   "source": [
    "from wasabit.wasabi_upload import upload_to_wasabi\n",
    "from pathlib import Path\n",
    "from functools import partial"
   ]
  },
  {
   "cell_type": "code",
   "execution_count": 7,
   "metadata": {},
   "outputs": [],
   "source": [
    "bucket_name = \"dev-data\"\n",
    "wasabi_path = \"formal_employment/\"\n",
    "data_dir = Path.cwd().parent / \"data/\" "
   ]
  },
  {
   "cell_type": "code",
   "execution_count": 5,
   "metadata": {},
   "outputs": [],
   "source": [
    "from dataclasses import dataclass\n",
    "\n",
    "@dataclass\n",
    "class CREDENTIALS():\n",
    "    WASABI_KEY = None\n",
    "    WASABI_SECRET = None"
   ]
  },
  {
   "cell_type": "code",
   "execution_count": 11,
   "metadata": {},
   "outputs": [],
   "source": [
    "file_uploader = partial(upload_to_wasabi, bucket_name=bucket_name, access_key=CREDENTIALS.WASABI_KEY, secret_key=CREDENTIALS.WASABI_SECRET)"
   ]
  },
  {
   "cell_type": "code",
   "execution_count": 22,
   "metadata": {},
   "outputs": [],
   "source": [
    "dirs ={\"processed\",\"interim\", \"raw/payroll_reports\"}"
   ]
  },
  {
   "cell_type": "code",
   "execution_count": 20,
   "metadata": {},
   "outputs": [],
   "source": [
    "upload = lambda d: file_uploader(folder_path=data_dir / d, wasabi_path=f\"{wasabi_path}{d}/\")"
   ]
  },
  {
   "cell_type": "code",
   "execution_count": 24,
   "metadata": {},
   "outputs": [
    {
     "name": "stdout",
     "output_type": "stream",
     "text": [
      "/root/bipp-datasets/projects/formal_employment/data/raw/payroll_reports/december_2021.pdf is uploaded to formal_employment/raw/payroll_reportsdecember_2021.pdf\n",
      "/root/bipp-datasets/projects/formal_employment/data/raw/payroll_reports/september_2020.pdf is uploaded to formal_employment/raw/payroll_reportsseptember_2020.pdf\n",
      "/root/bipp-datasets/projects/formal_employment/data/raw/payroll_reports/july_2020.pdf is uploaded to formal_employment/raw/payroll_reportsjuly_2020.pdf\n",
      "/root/bipp-datasets/projects/formal_employment/data/raw/payroll_reports/april_2022.pdf is uploaded to formal_employment/raw/payroll_reportsapril_2022.pdf\n",
      "/root/bipp-datasets/projects/formal_employment/data/raw/payroll_reports/december_2022.pdf is uploaded to formal_employment/raw/payroll_reportsdecember_2022.pdf\n",
      "/root/bipp-datasets/projects/formal_employment/data/raw/payroll_reports/august_2019.pdf is uploaded to formal_employment/raw/payroll_reportsaugust_2019.pdf\n",
      "/root/bipp-datasets/projects/formal_employment/data/raw/payroll_reports/feburary_2022.pdf is uploaded to formal_employment/raw/payroll_reportsfeburary_2022.pdf\n",
      "/root/bipp-datasets/projects/formal_employment/data/raw/payroll_reports/july_2018.pdf is uploaded to formal_employment/raw/payroll_reportsjuly_2018.pdf\n",
      "/root/bipp-datasets/projects/formal_employment/data/raw/payroll_reports/march_2022.pdf is uploaded to formal_employment/raw/payroll_reportsmarch_2022.pdf\n",
      "/root/bipp-datasets/projects/formal_employment/data/raw/payroll_reports/june_2022.pdf is uploaded to formal_employment/raw/payroll_reportsjune_2022.pdf\n",
      "/root/bipp-datasets/projects/formal_employment/data/raw/payroll_reports/august_2020.pdf is uploaded to formal_employment/raw/payroll_reportsaugust_2020.pdf\n",
      "/root/bipp-datasets/projects/formal_employment/data/raw/payroll_reports/Payroll_Reporting-April2018.pdf is uploaded to formal_employment/raw/payroll_reportsPayroll_Reporting-April2018.pdf\n",
      "/root/bipp-datasets/projects/formal_employment/data/raw/payroll_reports/january_2022.pdf is uploaded to formal_employment/raw/payroll_reportsjanuary_2022.pdf\n",
      "/root/bipp-datasets/projects/formal_employment/data/raw/payroll_reports/november_2022.pdf is uploaded to formal_employment/raw/payroll_reportsnovember_2022.pdf\n",
      "/root/bipp-datasets/projects/formal_employment/data/raw/payroll_reports/may_2022.pdf is uploaded to formal_employment/raw/payroll_reportsmay_2022.pdf\n",
      "/root/bipp-datasets/projects/formal_employment/data/raw/payroll_reports/july_2019.pdf is uploaded to formal_employment/raw/payroll_reportsjuly_2019.pdf\n",
      "/root/bipp-datasets/projects/formal_employment/data/raw/payroll_reports/june_2020.pdf is uploaded to formal_employment/raw/payroll_reportsjune_2020.pdf\n",
      "/root/bipp-datasets/projects/formal_employment/data/raw/payroll_reports/november_2019.pdf is uploaded to formal_employment/raw/payroll_reportsnovember_2019.pdf\n",
      "/root/bipp-datasets/projects/formal_employment/data/raw/payroll_reports/march_2020.pdf is uploaded to formal_employment/raw/payroll_reportsmarch_2020.pdf\n",
      "/root/bipp-datasets/projects/formal_employment/data/raw/payroll_reports/may_2021.pdf is uploaded to formal_employment/raw/payroll_reportsmay_2021.pdf\n",
      "/root/bipp-datasets/projects/formal_employment/data/raw/payroll_reports/october_2020.pdf is uploaded to formal_employment/raw/payroll_reportsoctober_2020.pdf\n",
      "/root/bipp-datasets/projects/formal_employment/data/raw/payroll_reports/may_2020.pdf is uploaded to formal_employment/raw/payroll_reportsmay_2020.pdf\n",
      "/root/bipp-datasets/projects/formal_employment/data/interim/december_2022.csv is uploaded to formal_employment/interimdecember_2022.csv\n",
      "/root/bipp-datasets/projects/formal_employment/data/interim/march_2022.csv is uploaded to formal_employment/interimmarch_2022.csv\n",
      "/root/bipp-datasets/projects/formal_employment/data/interim/.gitkeep is uploaded to formal_employment/interim.gitkeep\n",
      "/root/bipp-datasets/projects/formal_employment/data/processed/march_2021_to_december_2022.parquet is uploaded to formal_employment/processedmarch_2021_to_december_2022.parquet\n",
      "/root/bipp-datasets/projects/formal_employment/data/processed/.gitkeep is uploaded to formal_employment/processed.gitkeep\n",
      "/root/bipp-datasets/projects/formal_employment/data/processed/march_2021_to_december_2022.csv is uploaded to formal_employment/processedmarch_2021_to_december_2022.csv\n"
     ]
    },
    {
     "data": {
      "text/plain": [
       "[None, None, None]"
      ]
     },
     "execution_count": 24,
     "metadata": {},
     "output_type": "execute_result"
    }
   ],
   "source": [
    "list(map(upload, dirs))"
   ]
  },
  {
   "cell_type": "code",
   "execution_count": null,
   "metadata": {},
   "outputs": [],
   "source": []
  }
 ],
 "metadata": {
  "kernelspec": {
   "display_name": "Python 3",
   "language": "python",
   "name": "python3"
  },
  "language_info": {
   "codemirror_mode": {
    "name": "ipython",
    "version": 3
   },
   "file_extension": ".py",
   "mimetype": "text/x-python",
   "name": "python",
   "nbconvert_exporter": "python",
   "pygments_lexer": "ipython3",
   "version": "3.10.6"
  },
  "orig_nbformat": 4
 },
 "nbformat": 4,
 "nbformat_minor": 2
}
