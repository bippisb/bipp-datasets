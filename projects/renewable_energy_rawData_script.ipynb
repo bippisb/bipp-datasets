{
 "cells": [
  {
   "cell_type": "code",
   "execution_count": 3,
   "id": "89197556",
   "metadata": {},
   "outputs": [
    {
     "name": "stdout",
     "output_type": "stream",
     "text": [
      "CSV file 'renewable_energy.csv' created successfully.\n"
     ]
    }
   ],
   "source": [
    "import requests\n",
    "import csv\n",
    "\n",
    "# Making the API request\n",
    "url = 'https://cea.nic.in/api/renewable_energy.php'\n",
    "response = requests.get(url)\n",
    "\n",
    "# Checking if the request was successful\n",
    "if response.status_code == 200:\n",
    "    # Retrieving the JSON data\n",
    "    json_data = response.json()\n",
    "\n",
    "    if isinstance(json_data, dict):\n",
    "        # Specifying the desired column order\n",
    "        column_order = ['ID', 'Month', 'State', 'fy', 'region', 'wind', 'solar', 'biomass', 'bagasse', 'small_hydel', 'others', 'total']\n",
    "\n",
    "        # Specifying the output CSV file path\n",
    "        output_file = 'renewable_energy.csv'\n",
    "\n",
    "        # Writing the data to CSV file\n",
    "        with open(output_file, 'w', newline='') as csvfile:\n",
    "            writer = csv.DictWriter(csvfile, fieldnames=column_order)\n",
    "\n",
    "            # Writing the headers\n",
    "            writer.writeheader()\n",
    "\n",
    "            # Writing the data rows\n",
    "            for entry in json_data.values():\n",
    "                if isinstance(entry, list):\n",
    "                    for item in entry:\n",
    "                        # Filtering the item to include only the desired columns\n",
    "                        filtered_item = {key: item.get(key, \"\") for key in column_order}\n",
    "                        writer.writerow(filtered_item)\n",
    "\n",
    "        print(f\"CSV file '{output_file}' created successfully.\")\n",
    "    else:\n",
    "        print(\"Invalid API response format.\")\n",
    "else:\n",
    "    print(\"Failed to retrieve data from the API.\")\n"
   ]
  },
  {
   "cell_type": "code",
   "execution_count": 2,
   "id": "8db5929d",
   "metadata": {},
   "outputs": [],
   "source": []
  },
  {
   "cell_type": "code",
   "execution_count": null,
   "id": "6031df47",
   "metadata": {},
   "outputs": [],
   "source": []
  }
 ],
 "metadata": {
  "kernelspec": {
   "display_name": "Python 3 (ipykernel)",
   "language": "python",
   "name": "python3"
  },
  "language_info": {
   "codemirror_mode": {
    "name": "ipython",
    "version": 3
   },
   "file_extension": ".py",
   "mimetype": "text/x-python",
   "name": "python",
   "nbconvert_exporter": "python",
   "pygments_lexer": "ipython3",
   "version": "3.10.1"
  }
 },
 "nbformat": 4,
 "nbformat_minor": 5
}
