{
 "cells": [
  {
   "cell_type": "code",
   "execution_count": 65,
   "metadata": {},
   "outputs": [],
   "source": [
    "from pathlib import Path\n",
    "import pandas as pd\n",
    "from itertools import chain"
   ]
  },
  {
   "cell_type": "code",
   "execution_count": 25,
   "metadata": {},
   "outputs": [
    {
     "data": {
      "text/plain": [
       "[WindowsPath('../data/raw/tax_receipts/tr 2019-20.xlsx'),\n",
       " WindowsPath('../data/raw/tax_receipts/tr 2020-21.xlsx'),\n",
       " WindowsPath('../data/raw/tax_receipts/tr 2021-22.xlsx'),\n",
       " WindowsPath('../data/raw/tax_receipts/tr 2022-23.xlsx')]"
      ]
     },
     "execution_count": 25,
     "metadata": {},
     "output_type": "execute_result"
    }
   ],
   "source": [
    "DIR = Path(\"../data/raw/tax_receipts\")\n",
    "files  = list(DIR.glob(\"*.xlsx\"))\n",
    "files"
   ]
  },
  {
   "cell_type": "code",
   "execution_count": 4,
   "metadata": {},
   "outputs": [],
   "source": [
    "def find_crores_row_idx(df: pd.DataFrame):\n",
    "    for idx, row in df.iterrows():\n",
    "        if \"crore\" in str(row.values).lower():\n",
    "            return idx"
   ]
  },
  {
   "cell_type": "code",
   "execution_count": 11,
   "metadata": {},
   "outputs": [],
   "source": [
    "def load_tax_receipts(fp: Path):\n",
    "    raw = pd.read_excel(fp).dropna(axis=1, how=\"all\").dropna(\n",
    "        axis=0, how=\"all\").reset_index(drop=True)\n",
    "    in_crores_title_row_idx = find_crores_row_idx(raw)\n",
    "    cln = raw[in_crores_title_row_idx + 1:].dropna(axis=1, how=\"all\")\n",
    "    return cln.reset_index(drop=True)"
   ]
  },
  {
   "cell_type": "code",
   "execution_count": 6,
   "metadata": {},
   "outputs": [],
   "source": [
    "def extract_section_mapping(df: pd.DataFrame):\n",
    "    is_section_number = lambda x: isinstance(x, int) or (isinstance(x, str) and str.isnumeric(x))\n",
    "    mask = df.iloc[:, 0].str.strip(\".\").apply(is_section_number)\n",
    "    heads = df.loc[mask].iloc[:, :2]\n",
    "    return dict(zip(heads.iloc[:, 0], heads.iloc[:, 1]))"
   ]
  },
  {
   "cell_type": "code",
   "execution_count": 24,
   "metadata": {},
   "outputs": [],
   "source": [
    "def find_major_head_cell(df: pd.DataFrame) -> tuple[int, str]:\n",
    "    \"\"\"Returns the column name of the column containing the 'Major Head' title\"\"\"\n",
    "    def criterion(series): return \"major head\" in str(series).lower()\n",
    "    row_mask = df.apply(criterion, axis=1)\n",
    "    col_mask = df.apply(criterion)\n",
    "    cell = df.loc[row_mask, col_mask]\n",
    "\n",
    "    assert len(cell.columns) == 1, \"There should be only one major head column\"\n",
    "    assert len(cell.index) == 1, \"There should be only one major head row\"\n",
    "\n",
    "    return cell.index.min(), cell.columns[0]"
   ]
  },
  {
   "cell_type": "code",
   "execution_count": 29,
   "metadata": {},
   "outputs": [
    {
     "name": "stdout",
     "output_type": "stream",
     "text": [
      "..\\data\\raw\\tax_receipts\\tr 2019-20.xlsx\n",
      "(112, 8)\n"
     ]
    },
    {
     "data": {
      "text/html": [
       "<div>\n",
       "<style scoped>\n",
       "    .dataframe tbody tr th:only-of-type {\n",
       "        vertical-align: middle;\n",
       "    }\n",
       "\n",
       "    .dataframe tbody tr th {\n",
       "        vertical-align: top;\n",
       "    }\n",
       "\n",
       "    .dataframe thead th {\n",
       "        text-align: right;\n",
       "    }\n",
       "</style>\n",
       "<table border=\"1\" class=\"dataframe\">\n",
       "  <thead>\n",
       "    <tr style=\"text-align: right;\">\n",
       "      <th></th>\n",
       "      <th>Unnamed: 0</th>\n",
       "      <th>Unnamed: 1</th>\n",
       "      <th>Unnamed: 2</th>\n",
       "      <th>Unnamed: 3</th>\n",
       "      <th>Unnamed: 4</th>\n",
       "      <th>Unnamed: 5</th>\n",
       "      <th>Unnamed: 6</th>\n",
       "      <th>Unnamed: 7</th>\n",
       "    </tr>\n",
       "  </thead>\n",
       "  <tbody>\n",
       "    <tr>\n",
       "      <th>0</th>\n",
       "      <td>NaN</td>\n",
       "      <td>NaN</td>\n",
       "      <td>NaN</td>\n",
       "      <td>NaN</td>\n",
       "      <td>Actual</td>\n",
       "      <td>Budget</td>\n",
       "      <td>Revised 2018-2019</td>\n",
       "      <td>Budget</td>\n",
       "    </tr>\n",
       "    <tr>\n",
       "      <th>1</th>\n",
       "      <td>NaN</td>\n",
       "      <td>NaN</td>\n",
       "      <td>NaN</td>\n",
       "      <td>Major Head</td>\n",
       "      <td>2017-2018</td>\n",
       "      <td>2018-2019</td>\n",
       "      <td>NaN</td>\n",
       "      <td>2019-2020</td>\n",
       "    </tr>\n",
       "    <tr>\n",
       "      <th>2</th>\n",
       "      <td>Tax Revenue</td>\n",
       "      <td>NaN</td>\n",
       "      <td>NaN</td>\n",
       "      <td>NaN</td>\n",
       "      <td>NaN</td>\n",
       "      <td>NaN</td>\n",
       "      <td>NaN</td>\n",
       "      <td>NaN</td>\n",
       "    </tr>\n",
       "    <tr>\n",
       "      <th>3</th>\n",
       "      <td>1</td>\n",
       "      <td>Corporation Tax</td>\n",
       "      <td>NaN</td>\n",
       "      <td>NaN</td>\n",
       "      <td>NaN</td>\n",
       "      <td>NaN</td>\n",
       "      <td>NaN</td>\n",
       "      <td>NaN</td>\n",
       "    </tr>\n",
       "    <tr>\n",
       "      <th>4</th>\n",
       "      <td>NaN</td>\n",
       "      <td>1.01.</td>\n",
       "      <td>Collections</td>\n",
       "      <td>20</td>\n",
       "      <td>486113.18</td>\n",
       "      <td>527750.39</td>\n",
       "      <td>575795.77</td>\n",
       "      <td>657312</td>\n",
       "    </tr>\n",
       "  </tbody>\n",
       "</table>\n",
       "</div>"
      ],
      "text/plain": [
       "    Unnamed: 0       Unnamed: 1   Unnamed: 2  Unnamed: 3 Unnamed: 4  \\\n",
       "0          NaN              NaN          NaN         NaN     Actual   \n",
       "1          NaN              NaN          NaN  Major Head  2017-2018   \n",
       "2  Tax Revenue              NaN          NaN         NaN        NaN   \n",
       "3            1  Corporation Tax          NaN         NaN        NaN   \n",
       "4          NaN            1.01.  Collections          20  486113.18   \n",
       "\n",
       "  Unnamed: 5         Unnamed: 6 Unnamed: 7  \n",
       "0     Budget  Revised 2018-2019    Budget   \n",
       "1  2018-2019                NaN  2019-2020  \n",
       "2        NaN                NaN        NaN  \n",
       "3        NaN                NaN        NaN  \n",
       "4  527750.39          575795.77     657312  "
      ]
     },
     "metadata": {},
     "output_type": "display_data"
    },
    {
     "name": "stdout",
     "output_type": "stream",
     "text": [
      "1 Unnamed: 3\n"
     ]
    }
   ],
   "source": [
    "for fp in files:\n",
    "    print(fp)\n",
    "    df = load_tax_receipts(fp)\n",
    "    print(df.shape)\n",
    "    display(df.head())\n",
    "    head_end_idx, major_head_col = find_major_head_cell(df)\n",
    "    print(head_end_idx, major_head_col)\n",
    "    break"
   ]
  },
  {
   "cell_type": "code",
   "execution_count": 59,
   "metadata": {},
   "outputs": [],
   "source": [
    "def get_rows_with_serial_number(df: pd.DataFrame):\n",
    "    return df.loc[df.iloc[:, 1].str.strip(\".\").str.contains(\".\", na=False, regex=False)].index"
   ]
  },
  {
   "cell_type": "code",
   "execution_count": 52,
   "metadata": {},
   "outputs": [],
   "source": [
    "def get_rows_with_major_head_number(df: pd.DataFrame, major_head_col: str):\n",
    "    return df.loc[2:, major_head_col].dropna().index"
   ]
  },
  {
   "cell_type": "code",
   "execution_count": 72,
   "metadata": {},
   "outputs": [],
   "source": [
    "def filter_datapoints_with_serial_and_head_no(df: pd.DataFrame, major_head_col: str):\n",
    "    mask = list(set(i for i in chain(\n",
    "        get_rows_with_serial_number(df),\n",
    "        get_rows_with_major_head_number(df, major_head_col=major_head_col)\n",
    "    )))\n",
    "    return df.iloc[mask]"
   ]
  }
 ],
 "metadata": {
  "kernelspec": {
   "display_name": "Python 3",
   "language": "python",
   "name": "python3"
  },
  "language_info": {
   "codemirror_mode": {
    "name": "ipython",
    "version": 3
   },
   "file_extension": ".py",
   "mimetype": "text/x-python",
   "name": "python",
   "nbconvert_exporter": "python",
   "pygments_lexer": "ipython3",
   "version": "3.11.6"
  }
 },
 "nbformat": 4,
 "nbformat_minor": 2
}
