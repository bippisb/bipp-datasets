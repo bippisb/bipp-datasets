{
 "cells": [
  {
   "cell_type": "code",
   "execution_count": 170,
   "metadata": {},
   "outputs": [],
   "source": [
    "import pandas as pd\r\n",
    "df = pd.read_csv(r'C:\\Users\\91987\\Downloads\\python\\bipp-datasets\\projects\\fertilizer-mis\\data\\interim\\dealer_data.csv',low_memory=False)"
   ]
  },
  {
   "cell_type": "code",
   "execution_count": null,
   "metadata": {},
   "outputs": [],
   "source": [
    "df.head()"
   ]
  },
  {
   "cell_type": "code",
   "execution_count": 171,
   "metadata": {},
   "outputs": [
    {
     "data": {
      "text/html": [
       "<div>\n",
       "<style scoped>\n",
       "    .dataframe tbody tr th:only-of-type {\n",
       "        vertical-align: middle;\n",
       "    }\n",
       "\n",
       "    .dataframe tbody tr th {\n",
       "        vertical-align: top;\n",
       "    }\n",
       "\n",
       "    .dataframe thead th {\n",
       "        text-align: right;\n",
       "    }\n",
       "</style>\n",
       "<table border=\"1\" class=\"dataframe\">\n",
       "  <thead>\n",
       "    <tr style=\"text-align: right;\">\n",
       "      <th></th>\n",
       "      <th>Index</th>\n",
       "      <th>State Name</th>\n",
       "      <th>District Name</th>\n",
       "      <th>Dealer Id</th>\n",
       "      <th>Dealer Type</th>\n",
       "      <th>Agency Name</th>\n",
       "      <th>Correct Agency Name</th>\n",
       "      <th>Owner Name</th>\n",
       "      <th>Existing Mobile</th>\n",
       "      <th>New Mobile if any</th>\n",
       "      <th>...</th>\n",
       "      <th>Original Dealer Id</th>\n",
       "      <th>Sub District Name</th>\n",
       "      <th>Village Name</th>\n",
       "      <th>Dealer Address Line 1</th>\n",
       "      <th>Dealer Address Line 2</th>\n",
       "      <th>Dealership Nature Name</th>\n",
       "      <th>Dealer License</th>\n",
       "      <th>License Issue Date</th>\n",
       "      <th>License Expiry Date</th>\n",
       "      <th>Unnamed: 22</th>\n",
       "    </tr>\n",
       "  </thead>\n",
       "  <tbody>\n",
       "    <tr>\n",
       "      <th>0</th>\n",
       "      <td>1</td>\n",
       "      <td>Andaman and Nicobar Islands</td>\n",
       "      <td>Nicobars</td>\n",
       "      <td>658932</td>\n",
       "      <td>RETAILER</td>\n",
       "      <td>trnAN</td>\n",
       "      <td>NaN</td>\n",
       "      <td>NaN</td>\n",
       "      <td>9434262481</td>\n",
       "      <td>NaN</td>\n",
       "      <td>...</td>\n",
       "      <td>NaN</td>\n",
       "      <td>Baganpara (Pt)</td>\n",
       "      <td>Amingaon</td>\n",
       "      <td>NaN</td>\n",
       "      <td>NaN</td>\n",
       "      <td>Private Retailer</td>\n",
       "      <td>nictest2017</td>\n",
       "      <td>2017-03-10 00:00:00</td>\n",
       "      <td>2020-03-10 00:00:00</td>\n",
       "      <td>NaN</td>\n",
       "    </tr>\n",
       "    <tr>\n",
       "      <th>1</th>\n",
       "      <td>2</td>\n",
       "      <td>Andaman and Nicobar Islands</td>\n",
       "      <td>Nicobars</td>\n",
       "      <td>937065</td>\n",
       "      <td>RETAILER</td>\n",
       "      <td>SUB DEPOT GOVIND NAGAR</td>\n",
       "      <td>NaN</td>\n",
       "      <td>NaN</td>\n",
       "      <td>8900905069</td>\n",
       "      <td>NaN</td>\n",
       "      <td>...</td>\n",
       "      <td>NaN</td>\n",
       "      <td>Great Nicobar</td>\n",
       "      <td>NaN</td>\n",
       "      <td>NaN</td>\n",
       "      <td>NaN</td>\n",
       "      <td>Other</td>\n",
       "      <td>DOA GovindNagar Depo</td>\n",
       "      <td>NaN</td>\n",
       "      <td>NaN</td>\n",
       "      <td>NaN</td>\n",
       "    </tr>\n",
       "    <tr>\n",
       "      <th>2</th>\n",
       "      <td>3</td>\n",
       "      <td>Andaman and Nicobar Islands</td>\n",
       "      <td>Nicobars</td>\n",
       "      <td>937067</td>\n",
       "      <td>RETAILER</td>\n",
       "      <td>SUB DEPOT GANDHI NAGAR</td>\n",
       "      <td>NaN</td>\n",
       "      <td>NaN</td>\n",
       "      <td>9476023727</td>\n",
       "      <td>NaN</td>\n",
       "      <td>...</td>\n",
       "      <td>NaN</td>\n",
       "      <td>Great Nicobar</td>\n",
       "      <td>NaN</td>\n",
       "      <td>NaN</td>\n",
       "      <td>NaN</td>\n",
       "      <td>Other</td>\n",
       "      <td>DOA Gandhinagar Depo</td>\n",
       "      <td>NaN</td>\n",
       "      <td>NaN</td>\n",
       "      <td>NaN</td>\n",
       "    </tr>\n",
       "    <tr>\n",
       "      <th>3</th>\n",
       "      <td>4</td>\n",
       "      <td>Andaman and Nicobar Islands</td>\n",
       "      <td>Nicobars</td>\n",
       "      <td>1206716</td>\n",
       "      <td>WHOLESALER</td>\n",
       "      <td>Main Store Campbell Bay</td>\n",
       "      <td>NaN</td>\n",
       "      <td>NaN</td>\n",
       "      <td>9474234749</td>\n",
       "      <td>NaN</td>\n",
       "      <td>...</td>\n",
       "      <td>NaN</td>\n",
       "      <td>Great Nicobar</td>\n",
       "      <td>NaN</td>\n",
       "      <td>Near Zonal Agricultural Office</td>\n",
       "      <td>NaN</td>\n",
       "      <td>Other</td>\n",
       "      <td>ANI/DOA/56</td>\n",
       "      <td>2020-01-17 00:00:00</td>\n",
       "      <td>2025-01-17 00:00:00</td>\n",
       "      <td>NaN</td>\n",
       "    </tr>\n",
       "    <tr>\n",
       "      <th>4</th>\n",
       "      <td>5</td>\n",
       "      <td>Andaman and Nicobar Islands</td>\n",
       "      <td>North And Middle Andaman</td>\n",
       "      <td>936262</td>\n",
       "      <td>RETAILER</td>\n",
       "      <td>SUB DEPOT RANGAT</td>\n",
       "      <td>NaN</td>\n",
       "      <td>NaN</td>\n",
       "      <td>8900908157</td>\n",
       "      <td>NaN</td>\n",
       "      <td>...</td>\n",
       "      <td>NaN</td>\n",
       "      <td>Rangat</td>\n",
       "      <td>NaN</td>\n",
       "      <td>NaN</td>\n",
       "      <td>NaN</td>\n",
       "      <td>Other</td>\n",
       "      <td>DOA Rangat Depot</td>\n",
       "      <td>NaN</td>\n",
       "      <td>NaN</td>\n",
       "      <td>NaN</td>\n",
       "    </tr>\n",
       "  </tbody>\n",
       "</table>\n",
       "<p>5 rows × 24 columns</p>\n",
       "</div>"
      ],
      "text/plain": [
       "   Index                   State Name             District Name Dealer Id  \\\n",
       "0      1  Andaman and Nicobar Islands                  Nicobars    658932   \n",
       "1      2  Andaman and Nicobar Islands                  Nicobars    937065   \n",
       "2      3  Andaman and Nicobar Islands                  Nicobars    937067   \n",
       "3      4  Andaman and Nicobar Islands                  Nicobars   1206716   \n",
       "4      5  Andaman and Nicobar Islands  North And Middle Andaman    936262   \n",
       "\n",
       "  Dealer Type              Agency Name Correct Agency Name  Owner Name  \\\n",
       "0    RETAILER                    trnAN                 NaN         NaN   \n",
       "1    RETAILER   SUB DEPOT GOVIND NAGAR                 NaN         NaN   \n",
       "2    RETAILER   SUB DEPOT GANDHI NAGAR                 NaN         NaN   \n",
       "3  WHOLESALER  Main Store Campbell Bay                 NaN         NaN   \n",
       "4    RETAILER         SUB DEPOT RANGAT                 NaN         NaN   \n",
       "\n",
       "  Existing Mobile  New Mobile if any  ... Original Dealer Id  \\\n",
       "0      9434262481                NaN  ...                NaN   \n",
       "1      8900905069                NaN  ...                NaN   \n",
       "2      9476023727                NaN  ...                NaN   \n",
       "3      9474234749                NaN  ...                NaN   \n",
       "4      8900908157                NaN  ...                NaN   \n",
       "\n",
       "  Sub District Name Village Name           Dealer Address Line 1  \\\n",
       "0    Baganpara (Pt)     Amingaon                             NaN   \n",
       "1     Great Nicobar          NaN                             NaN   \n",
       "2     Great Nicobar          NaN                             NaN   \n",
       "3     Great Nicobar          NaN  Near Zonal Agricultural Office   \n",
       "4            Rangat          NaN                             NaN   \n",
       "\n",
       "   Dealer Address Line 2 Dealership Nature Name        Dealer License  \\\n",
       "0                    NaN       Private Retailer           nictest2017   \n",
       "1                    NaN                  Other  DOA GovindNagar Depo   \n",
       "2                    NaN                  Other  DOA Gandhinagar Depo   \n",
       "3                    NaN                  Other            ANI/DOA/56   \n",
       "4                    NaN                  Other      DOA Rangat Depot   \n",
       "\n",
       "    License Issue Date  License Expiry Date Unnamed: 22  \n",
       "0  2017-03-10 00:00:00  2020-03-10 00:00:00         NaN  \n",
       "1                  NaN                  NaN         NaN  \n",
       "2                  NaN                  NaN         NaN  \n",
       "3  2020-01-17 00:00:00  2025-01-17 00:00:00         NaN  \n",
       "4                  NaN                  NaN         NaN  \n",
       "\n",
       "[5 rows x 24 columns]"
      ]
     },
     "execution_count": 171,
     "metadata": {},
     "output_type": "execute_result"
    }
   ],
   "source": [
    "index_list=[]\r\n",
    "for i in range(1,360335):\r\n",
    "    index_list.append(i)\r\n",
    "df.insert(0,\"Index\",index_list,True)\r\n",
    "#df.set_index(\"Index\")   \r\n",
    "df.head()"
   ]
  },
  {
   "cell_type": "code",
   "execution_count": null,
   "metadata": {},
   "outputs": [],
   "source": [
    "df.isnull().sum()"
   ]
  },
  {
   "cell_type": "code",
   "execution_count": null,
   "metadata": {},
   "outputs": [],
   "source": [
    "df['Dealer Id'].value_counts()"
   ]
  },
  {
   "cell_type": "code",
   "execution_count": null,
   "metadata": {},
   "outputs": [],
   "source": [
    "df['State Name'].value_counts()"
   ]
  },
  {
   "cell_type": "code",
   "execution_count": 172,
   "metadata": {},
   "outputs": [
    {
     "name": "stdout",
     "output_type": "stream",
     "text": [
      "['Andaman and Nicobar Islands', 'Andhra Pradesh', 'Arunachal Pradesh', 'Assam', 'Bihar', 'Chandigarh', 'Chhattisgarh', 'Dadra and Nagar Haveli', 'Daman and Diu', 'Delhi', 'Goa', 'Gujarat', 'Haryana', 'Himachal Pradesh', 'Jammu and kashmir', 'Jharkhand', 'Karnataka', 'Kerala', 'Lakshadweep', 'Madhya Pradesh', 'Maharashtra', 'Manipur', 'Meghalaya', 'Mizoram', 'Nagaland', 'Odisha', 'Puducherry', 'Punjab', 'Rajasthan', 'Sikkim', 'Tamil Nadu', 'Telangana', 'Tripura', 'Uttar Pradesh', 'Uttarakhand', 'West Bengal']\n"
     ]
    }
   ],
   "source": [
    "import os\r\n",
    "import csv\r\n",
    "def read_folder(csv_folder):\r\n",
    "    files = os.listdir(csv_folder)\r\n",
    "    state_names = []\r\n",
    "    for f in files:\r\n",
    "      state_names.append(f)\r\n",
    "    return(state_names)\r\n",
    "states=read_folder(r\"C:\\Users\\91987\\Downloads\\python\\bipp-datasets\\projects\\fertilizer-mis\\data\\raw\\2_dealer_data\")\r\n",
    "statenames=[]\r\n",
    "for s in states:\r\n",
    "    s=s.replace('.csv',\"\")\r\n",
    "    #print(s)\r\n",
    "    statenames.append(s)\r\n",
    "print(statenames)"
   ]
  },
  {
   "cell_type": "code",
   "execution_count": 173,
   "metadata": {},
   "outputs": [],
   "source": [
    "unclean_data=[]\r\n",
    "for ind,row in df.iterrows():\r\n",
    "    found=0\r\n",
    "    for s in statenames:\r\n",
    "        if row['State Name']==s:\r\n",
    "            found=1\r\n",
    "    \r\n",
    "    if found!=1:\r\n",
    "        wrong_value = row['State Name']\r\n",
    "        unclean_data.append(row)\r\n",
    "        df.drop(index=ind,inplace=True)"
   ]
  },
  {
   "cell_type": "code",
   "execution_count": 174,
   "metadata": {},
   "outputs": [
    {
     "data": {
      "text/html": [
       "<div>\n",
       "<style scoped>\n",
       "    .dataframe tbody tr th:only-of-type {\n",
       "        vertical-align: middle;\n",
       "    }\n",
       "\n",
       "    .dataframe tbody tr th {\n",
       "        vertical-align: top;\n",
       "    }\n",
       "\n",
       "    .dataframe thead th {\n",
       "        text-align: right;\n",
       "    }\n",
       "</style>\n",
       "<table border=\"1\" class=\"dataframe\">\n",
       "  <thead>\n",
       "    <tr style=\"text-align: right;\">\n",
       "      <th></th>\n",
       "      <th>Index</th>\n",
       "      <th>State Name</th>\n",
       "      <th>District Name</th>\n",
       "      <th>Dealer Id</th>\n",
       "      <th>Dealer Type</th>\n",
       "      <th>Agency Name</th>\n",
       "      <th>Correct Agency Name</th>\n",
       "      <th>Owner Name</th>\n",
       "      <th>Existing Mobile</th>\n",
       "      <th>New Mobile if any</th>\n",
       "      <th>...</th>\n",
       "      <th>Original Dealer Id</th>\n",
       "      <th>Sub District Name</th>\n",
       "      <th>Village Name</th>\n",
       "      <th>Dealer Address Line 1</th>\n",
       "      <th>Dealer Address Line 2</th>\n",
       "      <th>Dealership Nature Name</th>\n",
       "      <th>Dealer License</th>\n",
       "      <th>License Issue Date</th>\n",
       "      <th>License Expiry Date</th>\n",
       "      <th>Unnamed: 22</th>\n",
       "    </tr>\n",
       "  </thead>\n",
       "  <tbody>\n",
       "    <tr>\n",
       "      <th>360324</th>\n",
       "      <td>360325</td>\n",
       "      <td>West Bengal</td>\n",
       "      <td>Purulia</td>\n",
       "      <td>1210842</td>\n",
       "      <td>RETAILER</td>\n",
       "      <td>JHALDA LSAPMCS LTD</td>\n",
       "      <td>NaN</td>\n",
       "      <td>NaN</td>\n",
       "      <td>9932186264.0</td>\n",
       "      <td>NaN</td>\n",
       "      <td>...</td>\n",
       "      <td>NaN</td>\n",
       "      <td>Purulia - I</td>\n",
       "      <td>NaN</td>\n",
       "      <td>PURULIA TOWN</td>\n",
       "      <td>NaN</td>\n",
       "      <td>PACS</td>\n",
       "      <td>627/ADA(Admn.)/RNPUR</td>\n",
       "      <td>06-02-2019 00:00</td>\n",
       "      <td>11-11-2021 00:00</td>\n",
       "      <td>NaN</td>\n",
       "    </tr>\n",
       "    <tr>\n",
       "      <th>360325</th>\n",
       "      <td>360326</td>\n",
       "      <td>West Bengal</td>\n",
       "      <td>Purulia</td>\n",
       "      <td>1217594</td>\n",
       "      <td>RETAILER</td>\n",
       "      <td>MAHESWAR PARAMANIK</td>\n",
       "      <td>NaN</td>\n",
       "      <td>NaN</td>\n",
       "      <td>9635679113.0</td>\n",
       "      <td>NaN</td>\n",
       "      <td>...</td>\n",
       "      <td>NaN</td>\n",
       "      <td>Purulia - I</td>\n",
       "      <td>NaN</td>\n",
       "      <td>BHADSA</td>\n",
       "      <td>NaN</td>\n",
       "      <td>Private Retailer</td>\n",
       "      <td>F33387</td>\n",
       "      <td>04-12-2020 00:00</td>\n",
       "      <td>03-12-2025 00:00</td>\n",
       "      <td>NaN</td>\n",
       "    </tr>\n",
       "    <tr>\n",
       "      <th>360326</th>\n",
       "      <td>360327</td>\n",
       "      <td>West Bengal</td>\n",
       "      <td>Purulia</td>\n",
       "      <td>1217600</td>\n",
       "      <td>RETAILER</td>\n",
       "      <td>GOPAL MAHATO</td>\n",
       "      <td>NaN</td>\n",
       "      <td>NaN</td>\n",
       "      <td>7908628007.0</td>\n",
       "      <td>NaN</td>\n",
       "      <td>...</td>\n",
       "      <td>NaN</td>\n",
       "      <td>Jhalda - II</td>\n",
       "      <td>NaN</td>\n",
       "      <td>BEGUNKODAR</td>\n",
       "      <td>NaN</td>\n",
       "      <td>Private Retailer</td>\n",
       "      <td>PRLS/R-1018</td>\n",
       "      <td>01-08-2019 00:00</td>\n",
       "      <td>31-07-2022 00:00</td>\n",
       "      <td>NaN</td>\n",
       "    </tr>\n",
       "    <tr>\n",
       "      <th>360327</th>\n",
       "      <td>360328</td>\n",
       "      <td>West Bengal</td>\n",
       "      <td>Purulia</td>\n",
       "      <td>1217614</td>\n",
       "      <td>RETAILER</td>\n",
       "      <td>KAJAL MANDAL</td>\n",
       "      <td>NaN</td>\n",
       "      <td>NaN</td>\n",
       "      <td>9635389163.0</td>\n",
       "      <td>NaN</td>\n",
       "      <td>...</td>\n",
       "      <td>NaN</td>\n",
       "      <td>Hura</td>\n",
       "      <td>NaN</td>\n",
       "      <td>KALABANI</td>\n",
       "      <td>NaN</td>\n",
       "      <td>Private Retailer</td>\n",
       "      <td>F22456</td>\n",
       "      <td>05-02-2020 00:00</td>\n",
       "      <td>04-02-2025 00:00</td>\n",
       "      <td>NaN</td>\n",
       "    </tr>\n",
       "    <tr>\n",
       "      <th>360328</th>\n",
       "      <td>360329</td>\n",
       "      <td>West Bengal</td>\n",
       "      <td>Purulia</td>\n",
       "      <td>1217618</td>\n",
       "      <td>RETAILER</td>\n",
       "      <td>AVIJIT MANDAL</td>\n",
       "      <td>NaN</td>\n",
       "      <td>NaN</td>\n",
       "      <td>7602363799.0</td>\n",
       "      <td>NaN</td>\n",
       "      <td>...</td>\n",
       "      <td>NaN</td>\n",
       "      <td>Kashipur</td>\n",
       "      <td>NaN</td>\n",
       "      <td>ISANDA</td>\n",
       "      <td>NaN</td>\n",
       "      <td>Private Retailer</td>\n",
       "      <td>F24812</td>\n",
       "      <td>10-06-2020 00:00</td>\n",
       "      <td>09-06-2025 00:00</td>\n",
       "      <td>NaN</td>\n",
       "    </tr>\n",
       "    <tr>\n",
       "      <th>360329</th>\n",
       "      <td>360330</td>\n",
       "      <td>West Bengal</td>\n",
       "      <td>Purulia</td>\n",
       "      <td>1219893</td>\n",
       "      <td>RETAILER</td>\n",
       "      <td>SWADHIN KUMAR MAHATO</td>\n",
       "      <td>NaN</td>\n",
       "      <td>NaN</td>\n",
       "      <td>9064449326.0</td>\n",
       "      <td>NaN</td>\n",
       "      <td>...</td>\n",
       "      <td>NaN</td>\n",
       "      <td>Manbazar - II</td>\n",
       "      <td>NaN</td>\n",
       "      <td>CHOUKAN</td>\n",
       "      <td>BARI</td>\n",
       "      <td>Private Retailer</td>\n",
       "      <td>PRLS/R-989</td>\n",
       "      <td>01-11-2018 00:00</td>\n",
       "      <td>31-10-2021 00:00</td>\n",
       "      <td>NaN</td>\n",
       "    </tr>\n",
       "    <tr>\n",
       "      <th>360330</th>\n",
       "      <td>360331</td>\n",
       "      <td>West Bengal</td>\n",
       "      <td>Purulia</td>\n",
       "      <td>1219895</td>\n",
       "      <td>RETAILER</td>\n",
       "      <td>NANDALAL DAS</td>\n",
       "      <td>NaN</td>\n",
       "      <td>NaN</td>\n",
       "      <td>9531568844.0</td>\n",
       "      <td>NaN</td>\n",
       "      <td>...</td>\n",
       "      <td>NaN</td>\n",
       "      <td>Bundwan</td>\n",
       "      <td>NaN</td>\n",
       "      <td>DHADKA</td>\n",
       "      <td>DHADKA</td>\n",
       "      <td>Private Retailer</td>\n",
       "      <td>PRLS/R-959</td>\n",
       "      <td>01-09-2018 00:00</td>\n",
       "      <td>31-08-2021 00:00</td>\n",
       "      <td>NaN</td>\n",
       "    </tr>\n",
       "    <tr>\n",
       "      <th>360331</th>\n",
       "      <td>360332</td>\n",
       "      <td>West Bengal</td>\n",
       "      <td>Purulia</td>\n",
       "      <td>1219901</td>\n",
       "      <td>RETAILER</td>\n",
       "      <td>NABIN KUMAR MAJHI</td>\n",
       "      <td>NaN</td>\n",
       "      <td>NaN</td>\n",
       "      <td>6295471723.0</td>\n",
       "      <td>NaN</td>\n",
       "      <td>...</td>\n",
       "      <td>NaN</td>\n",
       "      <td>Arsha</td>\n",
       "      <td>NaN</td>\n",
       "      <td>UPARJAMBAD</td>\n",
       "      <td>AHARRAH</td>\n",
       "      <td>Private Retailer</td>\n",
       "      <td>F19504</td>\n",
       "      <td>01-02-2019 00:00</td>\n",
       "      <td>31-01-2022 00:00</td>\n",
       "      <td>NaN</td>\n",
       "    </tr>\n",
       "    <tr>\n",
       "      <th>360332</th>\n",
       "      <td>360333</td>\n",
       "      <td>West Bengal</td>\n",
       "      <td>Purulia</td>\n",
       "      <td>1219903</td>\n",
       "      <td>RETAILER</td>\n",
       "      <td>HARIPADA PAUL</td>\n",
       "      <td>NaN</td>\n",
       "      <td>NaN</td>\n",
       "      <td>7797506237.0</td>\n",
       "      <td>NaN</td>\n",
       "      <td>...</td>\n",
       "      <td>NaN</td>\n",
       "      <td>Manbazar - II</td>\n",
       "      <td>NaN</td>\n",
       "      <td>BARI</td>\n",
       "      <td>BARI</td>\n",
       "      <td>Private Retailer</td>\n",
       "      <td>PRLS/R-968</td>\n",
       "      <td>01-09-2018 00:00</td>\n",
       "      <td>31-08-2021 00:00</td>\n",
       "      <td>NaN</td>\n",
       "    </tr>\n",
       "    <tr>\n",
       "      <th>360333</th>\n",
       "      <td>360334</td>\n",
       "      <td>West Bengal</td>\n",
       "      <td>Purulia</td>\n",
       "      <td>1226615</td>\n",
       "      <td>RETAILER</td>\n",
       "      <td>SULPANI MAHATO</td>\n",
       "      <td>NaN</td>\n",
       "      <td>NaN</td>\n",
       "      <td>9932000705.0</td>\n",
       "      <td>NaN</td>\n",
       "      <td>...</td>\n",
       "      <td>NaN</td>\n",
       "      <td>Kashipur</td>\n",
       "      <td>NaN</td>\n",
       "      <td>NARAYANGARH</td>\n",
       "      <td>NaN</td>\n",
       "      <td>Private Retailer</td>\n",
       "      <td>F30372</td>\n",
       "      <td>18-09-2020 00:00</td>\n",
       "      <td>17-09-2025 00:00</td>\n",
       "      <td>NaN</td>\n",
       "    </tr>\n",
       "  </tbody>\n",
       "</table>\n",
       "<p>10 rows × 24 columns</p>\n",
       "</div>"
      ],
      "text/plain": [
       "         Index   State Name District Name Dealer Id Dealer Type  \\\n",
       "360324  360325  West Bengal       Purulia   1210842    RETAILER   \n",
       "360325  360326  West Bengal       Purulia   1217594    RETAILER   \n",
       "360326  360327  West Bengal       Purulia   1217600    RETAILER   \n",
       "360327  360328  West Bengal       Purulia   1217614    RETAILER   \n",
       "360328  360329  West Bengal       Purulia   1217618    RETAILER   \n",
       "360329  360330  West Bengal       Purulia   1219893    RETAILER   \n",
       "360330  360331  West Bengal       Purulia   1219895    RETAILER   \n",
       "360331  360332  West Bengal       Purulia   1219901    RETAILER   \n",
       "360332  360333  West Bengal       Purulia   1219903    RETAILER   \n",
       "360333  360334  West Bengal       Purulia   1226615    RETAILER   \n",
       "\n",
       "                 Agency Name Correct Agency Name  Owner Name Existing Mobile  \\\n",
       "360324    JHALDA LSAPMCS LTD                 NaN         NaN    9932186264.0   \n",
       "360325    MAHESWAR PARAMANIK                 NaN         NaN    9635679113.0   \n",
       "360326          GOPAL MAHATO                 NaN         NaN    7908628007.0   \n",
       "360327          KAJAL MANDAL                 NaN         NaN    9635389163.0   \n",
       "360328         AVIJIT MANDAL                 NaN         NaN    7602363799.0   \n",
       "360329  SWADHIN KUMAR MAHATO                 NaN         NaN    9064449326.0   \n",
       "360330          NANDALAL DAS                 NaN         NaN    9531568844.0   \n",
       "360331     NABIN KUMAR MAJHI                 NaN         NaN    6295471723.0   \n",
       "360332         HARIPADA PAUL                 NaN         NaN    7797506237.0   \n",
       "360333        SULPANI MAHATO                 NaN         NaN    9932000705.0   \n",
       "\n",
       "        New Mobile if any  ... Original Dealer Id Sub District Name  \\\n",
       "360324                NaN  ...                NaN       Purulia - I   \n",
       "360325                NaN  ...                NaN       Purulia - I   \n",
       "360326                NaN  ...                NaN       Jhalda - II   \n",
       "360327                NaN  ...                NaN              Hura   \n",
       "360328                NaN  ...                NaN          Kashipur   \n",
       "360329                NaN  ...                NaN     Manbazar - II   \n",
       "360330                NaN  ...                NaN           Bundwan   \n",
       "360331                NaN  ...                NaN             Arsha   \n",
       "360332                NaN  ...                NaN     Manbazar - II   \n",
       "360333                NaN  ...                NaN          Kashipur   \n",
       "\n",
       "       Village Name Dealer Address Line 1  Dealer Address Line 2  \\\n",
       "360324          NaN          PURULIA TOWN                    NaN   \n",
       "360325          NaN                BHADSA                    NaN   \n",
       "360326          NaN            BEGUNKODAR                    NaN   \n",
       "360327          NaN              KALABANI                    NaN   \n",
       "360328          NaN                ISANDA                    NaN   \n",
       "360329          NaN               CHOUKAN                   BARI   \n",
       "360330          NaN                DHADKA                 DHADKA   \n",
       "360331          NaN            UPARJAMBAD                AHARRAH   \n",
       "360332          NaN                  BARI                   BARI   \n",
       "360333          NaN           NARAYANGARH                    NaN   \n",
       "\n",
       "       Dealership Nature Name        Dealer License License Issue Date  \\\n",
       "360324                   PACS  627/ADA(Admn.)/RNPUR   06-02-2019 00:00   \n",
       "360325       Private Retailer                F33387   04-12-2020 00:00   \n",
       "360326       Private Retailer           PRLS/R-1018   01-08-2019 00:00   \n",
       "360327       Private Retailer                F22456   05-02-2020 00:00   \n",
       "360328       Private Retailer                F24812   10-06-2020 00:00   \n",
       "360329       Private Retailer            PRLS/R-989   01-11-2018 00:00   \n",
       "360330       Private Retailer            PRLS/R-959   01-09-2018 00:00   \n",
       "360331       Private Retailer                F19504   01-02-2019 00:00   \n",
       "360332       Private Retailer            PRLS/R-968   01-09-2018 00:00   \n",
       "360333       Private Retailer                F30372   18-09-2020 00:00   \n",
       "\n",
       "       License Expiry Date Unnamed: 22  \n",
       "360324    11-11-2021 00:00         NaN  \n",
       "360325    03-12-2025 00:00         NaN  \n",
       "360326    31-07-2022 00:00         NaN  \n",
       "360327    04-02-2025 00:00         NaN  \n",
       "360328    09-06-2025 00:00         NaN  \n",
       "360329    31-10-2021 00:00         NaN  \n",
       "360330    31-08-2021 00:00         NaN  \n",
       "360331    31-01-2022 00:00         NaN  \n",
       "360332    31-08-2021 00:00         NaN  \n",
       "360333    17-09-2025 00:00         NaN  \n",
       "\n",
       "[10 rows x 24 columns]"
      ]
     },
     "execution_count": 174,
     "metadata": {},
     "output_type": "execute_result"
    }
   ],
   "source": [
    "df.tail(10)"
   ]
  },
  {
   "cell_type": "code",
   "execution_count": null,
   "metadata": {},
   "outputs": [],
   "source": [
    "df['State Name'].value_counts()"
   ]
  },
  {
   "cell_type": "markdown",
   "metadata": {},
   "source": [
    "original df has 0 indexing, 0 to 360333\r\n",
    "i created index column with 1 indexing, 1 to 360334\r\n",
    "i dropped some rows from df and put them in unclean data\r\n",
    "so now shape should show 360203,24\r\n",
    "there should be 131 rows in unclean data"
   ]
  },
  {
   "cell_type": "code",
   "execution_count": 175,
   "metadata": {},
   "outputs": [
    {
     "data": {
      "text/plain": [
       "(360203, 24)"
      ]
     },
     "execution_count": 175,
     "metadata": {},
     "output_type": "execute_result"
    }
   ],
   "source": [
    "df.shape"
   ]
  },
  {
   "cell_type": "code",
   "execution_count": null,
   "metadata": {},
   "outputs": [],
   "source": [
    "df.isnull().sum()"
   ]
  },
  {
   "cell_type": "code",
   "execution_count": null,
   "metadata": {},
   "outputs": [],
   "source": [
    "df.head()"
   ]
  },
  {
   "cell_type": "code",
   "execution_count": null,
   "metadata": {},
   "outputs": [],
   "source": [
    "df.tail()"
   ]
  },
  {
   "cell_type": "code",
   "execution_count": null,
   "metadata": {},
   "outputs": [],
   "source": [
    "#print(unclean_data)"
   ]
  },
  {
   "cell_type": "code",
   "execution_count": 176,
   "metadata": {},
   "outputs": [
    {
     "name": "stdout",
     "output_type": "stream",
     "text": [
      "         Index                      State Name District Name  \\\n",
      "356132  356133                  Dist.   Nadia.           NaN   \n",
      "356152  356153                         Arbandi           NaN   \n",
      "356167  356168                P.S.   Dhantala.           NaN   \n",
      "356197  356198  P.S.   Chakdaha Dist.   Nadia.           NaN   \n",
      "356199  356200  P.S.   Chakdaha Dist.   Nadia.           NaN   \n",
      "...        ...                             ...           ...   \n",
      "356732  356733  P.S.   Chakdaha Dist.   Nadia.           NaN   \n",
      "356733  356734                         CK/2007           NaN   \n",
      "356735  356736               P.O.   Mollabelia           NaN   \n",
      "356736  356737               P.S.   Haringhata           NaN   \n",
      "356737  356738                            HG/0           NaN   \n",
      "\n",
      "               Dealer Id                     Dealer Type Agency Name  \\\n",
      "356132  Private Retailer                RN005/NAD/200912         NaN   \n",
      "356152  Private Retailer      Rana/347/88/Retail/SNT/ 10         NaN   \n",
      "356167  Private Retailer  Rana/10/2/Renewal/Retail/RII/2         NaN   \n",
      "356197  Private Retailer       Rana/70/25/Retail/CK/2008         NaN   \n",
      "356199  Private Retailer           Rana/6/2/Retail/CK/10         NaN   \n",
      "...                  ...                             ...         ...   \n",
      "356732  Private Retailer             Rana/148/28/Retail/         NaN   \n",
      "356733               NaN                             NaN         NaN   \n",
      "356735               NaN                             NaN         NaN   \n",
      "356736  Private Retailer       Rana/815/59/Renew/Retail/         NaN   \n",
      "356737               NaN                             NaN         NaN   \n",
      "\n",
      "       Correct Agency Name  Owner Name  Existing Mobile  New Mobile if any  \\\n",
      "356132                 NaN         NaN              NaN                NaN   \n",
      "356152                 NaN         NaN              NaN                NaN   \n",
      "356167                 NaN         NaN              NaN                NaN   \n",
      "356197                 NaN         NaN              NaN                NaN   \n",
      "356199                 NaN         NaN              NaN                NaN   \n",
      "...                    ...         ...              ...                ...   \n",
      "356732                 NaN         NaN              NaN                NaN   \n",
      "356733                 NaN         NaN              NaN                NaN   \n",
      "356735                 NaN         NaN              NaN                NaN   \n",
      "356736                 NaN         NaN              NaN                NaN   \n",
      "356737                 NaN         NaN              NaN                NaN   \n",
      "\n",
      "        ...  Original Dealer Id  Sub District Name  Village Name  \\\n",
      "356132  ...                 NaN                NaN           NaN   \n",
      "356152  ...                 NaN                NaN           NaN   \n",
      "356167  ...                 NaN                NaN           NaN   \n",
      "356197  ...                 NaN                NaN           NaN   \n",
      "356199  ...                 NaN                NaN           NaN   \n",
      "...     ...                 ...                ...           ...   \n",
      "356732  ...                 NaN                NaN           NaN   \n",
      "356733  ...                 NaN                NaN           NaN   \n",
      "356735  ...                 NaN                NaN           NaN   \n",
      "356736  ...                 NaN                NaN           NaN   \n",
      "356737  ...                 NaN                NaN           NaN   \n",
      "\n",
      "       Dealer Address Line 1  Dealer Address Line 2  Dealership Nature Name  \\\n",
      "356132                   NaN                    NaN                     NaN   \n",
      "356152                   NaN                    NaN                     NaN   \n",
      "356167                   NaN                    NaN                     NaN   \n",
      "356197                   NaN                    NaN                     NaN   \n",
      "356199                   NaN                    NaN                     NaN   \n",
      "...                      ...                    ...                     ...   \n",
      "356732                   NaN                    NaN                     NaN   \n",
      "356733                   NaN                    NaN                     NaN   \n",
      "356735                   NaN                    NaN                     NaN   \n",
      "356736                   NaN                    NaN                     NaN   \n",
      "356737                   NaN                    NaN                     NaN   \n",
      "\n",
      "        Dealer License  License Issue Date  License Expiry Date  Unnamed: 22  \n",
      "356132             NaN                 NaN                  NaN          NaN  \n",
      "356152             NaN                 NaN                  NaN          NaN  \n",
      "356167             NaN                 NaN                  NaN          NaN  \n",
      "356197             NaN                 NaN                  NaN          NaN  \n",
      "356199             NaN                 NaN                  NaN          NaN  \n",
      "...                ...                 ...                  ...          ...  \n",
      "356732             NaN                 NaN                  NaN          NaN  \n",
      "356733             NaN                 NaN                  NaN          NaN  \n",
      "356735             NaN                 NaN                  NaN          NaN  \n",
      "356736             NaN                 NaN                  NaN          NaN  \n",
      "356737             NaN                 NaN                  NaN          NaN  \n",
      "\n",
      "[131 rows x 24 columns]\n"
     ]
    }
   ],
   "source": [
    "unclean_df=pd.DataFrame(unclean_data)\r\n",
    "print(unclean_df)"
   ]
  },
  {
   "cell_type": "markdown",
   "metadata": {},
   "source": [
    "unclean df- shape should be 131,24"
   ]
  },
  {
   "cell_type": "code",
   "execution_count": 177,
   "metadata": {},
   "outputs": [
    {
     "data": {
      "text/plain": [
       "(131, 24)"
      ]
     },
     "execution_count": 177,
     "metadata": {},
     "output_type": "execute_result"
    }
   ],
   "source": [
    "unclean_df.shape"
   ]
  },
  {
   "cell_type": "code",
   "execution_count": null,
   "metadata": {},
   "outputs": [],
   "source": [
    "unclean_df.isnull().sum()"
   ]
  },
  {
   "cell_type": "markdown",
   "metadata": {},
   "source": [
    "output of shape of unclean df should now be 131,8"
   ]
  },
  {
   "cell_type": "code",
   "execution_count": 178,
   "metadata": {},
   "outputs": [
    {
     "name": "stdout",
     "output_type": "stream",
     "text": [
      "(131, 8)\n"
     ]
    }
   ],
   "source": [
    "for c in unclean_df.columns:\r\n",
    "    if unclean_df[c].count()==0:\r\n",
    "        unclean_df=unclean_df.drop(columns=c)\r\n",
    "print(unclean_df.shape)"
   ]
  },
  {
   "cell_type": "code",
   "execution_count": 180,
   "metadata": {},
   "outputs": [],
   "source": [
    "unclean_df.to_excel(r'C:\\Users\\91987\\Downloads\\python\\unclean_data.xlsx')"
   ]
  },
  {
   "cell_type": "code",
   "execution_count": null,
   "metadata": {},
   "outputs": [],
   "source": [
    "#for index,row in unclean_df.iterrows():\r\n",
    "#    if row[\"Dealer Id\"]==\"Private Wholesaler\" or row[\"Dealer Id\"]==\"Private Retailer\":\r\n",
    "#        df.set_value(,'Dealership Nature Name',row['Dealer Id'],)"
   ]
  },
  {
   "cell_type": "code",
   "execution_count": 181,
   "metadata": {},
   "outputs": [
    {
     "data": {
      "text/plain": [
       "360148"
      ]
     },
     "execution_count": 181,
     "metadata": {},
     "output_type": "execute_result"
    }
   ],
   "source": [
    "df[\"Dealership Nature Name\"].count()"
   ]
  },
  {
   "cell_type": "code",
   "execution_count": 182,
   "metadata": {},
   "outputs": [],
   "source": [
    "indexofdflist=[]\r\n",
    "indexofdflist=pd.DataFrame(df.index)"
   ]
  },
  {
   "cell_type": "code",
   "execution_count": 183,
   "metadata": {},
   "outputs": [
    {
     "data": {
      "text/html": [
       "<div>\n",
       "<style scoped>\n",
       "    .dataframe tbody tr th:only-of-type {\n",
       "        vertical-align: middle;\n",
       "    }\n",
       "\n",
       "    .dataframe tbody tr th {\n",
       "        vertical-align: top;\n",
       "    }\n",
       "\n",
       "    .dataframe thead th {\n",
       "        text-align: right;\n",
       "    }\n",
       "</style>\n",
       "<table border=\"1\" class=\"dataframe\">\n",
       "  <thead>\n",
       "    <tr style=\"text-align: right;\">\n",
       "      <th></th>\n",
       "      <th>0</th>\n",
       "    </tr>\n",
       "  </thead>\n",
       "  <tbody>\n",
       "    <tr>\n",
       "      <th>0</th>\n",
       "      <td>0</td>\n",
       "    </tr>\n",
       "    <tr>\n",
       "      <th>1</th>\n",
       "      <td>1</td>\n",
       "    </tr>\n",
       "    <tr>\n",
       "      <th>2</th>\n",
       "      <td>2</td>\n",
       "    </tr>\n",
       "    <tr>\n",
       "      <th>3</th>\n",
       "      <td>3</td>\n",
       "    </tr>\n",
       "    <tr>\n",
       "      <th>4</th>\n",
       "      <td>4</td>\n",
       "    </tr>\n",
       "    <tr>\n",
       "      <th>...</th>\n",
       "      <td>...</td>\n",
       "    </tr>\n",
       "    <tr>\n",
       "      <th>360198</th>\n",
       "      <td>360329</td>\n",
       "    </tr>\n",
       "    <tr>\n",
       "      <th>360199</th>\n",
       "      <td>360330</td>\n",
       "    </tr>\n",
       "    <tr>\n",
       "      <th>360200</th>\n",
       "      <td>360331</td>\n",
       "    </tr>\n",
       "    <tr>\n",
       "      <th>360201</th>\n",
       "      <td>360332</td>\n",
       "    </tr>\n",
       "    <tr>\n",
       "      <th>360202</th>\n",
       "      <td>360333</td>\n",
       "    </tr>\n",
       "  </tbody>\n",
       "</table>\n",
       "<p>360203 rows × 1 columns</p>\n",
       "</div>"
      ],
      "text/plain": [
       "             0\n",
       "0            0\n",
       "1            1\n",
       "2            2\n",
       "3            3\n",
       "4            4\n",
       "...        ...\n",
       "360198  360329\n",
       "360199  360330\n",
       "360200  360331\n",
       "360201  360332\n",
       "360202  360333\n",
       "\n",
       "[360203 rows x 1 columns]"
      ]
     },
     "execution_count": 183,
     "metadata": {},
     "output_type": "execute_result"
    }
   ],
   "source": [
    "indexofdflist"
   ]
  },
  {
   "cell_type": "code",
   "execution_count": null,
   "metadata": {},
   "outputs": [],
   "source": [
    "df.shape"
   ]
  },
  {
   "cell_type": "code",
   "execution_count": null,
   "metadata": {},
   "outputs": [],
   "source": [
    "df[\"Dealership Nature Name\"].value_counts()"
   ]
  },
  {
   "cell_type": "code",
   "execution_count": 184,
   "metadata": {},
   "outputs": [
    {
     "name": "stdout",
     "output_type": "stream",
     "text": [
      "['275228', '340740', '340805', '340848', '340967', '340968', '340978', '341053', '341060', '341065', '341284', '341324', '341334', '341537', '341554', '341555', '341580', '341600', '341615', '341781', '341838', '341869', '341947', '341950', '341993', '341998', '342027', '342042', '342069', '342080', '342109', '342112', '342116', '342120', '342153', '342200', '342587', '342592', '342595', '342596', '342600', '342619', '342621', '342626', '342627', '342640', '342643', '342646', '342648', '342685', '356113', '356134', '356241', '356284', '356285']\n",
      "[78137, 356132, 356152, 356167, 356197, 356199, 356203, 356217, 356220, 356224, 356261, 356270, 356277, 356321, 356332, 356334, 356342, 356349, 356359, 356393, 356407, 356414, 356429, 356433, 356448, 356453, 356462, 356469, 356480, 356488, 356500, 356503, 356509, 356514, 356525, 356532, 356556, 356560, 356563, 356567, 356571, 356578, 356581, 356586, 356590, 356598, 356603, 356607, 356611, 356631, 356695, 356701, 356716, 356732, 356735]\n"
     ]
    }
   ],
   "source": [
    "found =0\r\n",
    "dealer_id_list=[]\r\n",
    "index_list_df=[]\r\n",
    "for index1,row in df.iterrows():\r\n",
    "    if row[\"Dealership Nature Name\"]==\"Private Retailer\" or row[\"Dealership Nature Name\"]==\"PACS\" or row[\"Dealership Nature Name\"]==\"Private Wholsaler\" or row[\"Dealership Nature Name\"]==\"District Cooperative Marketing Society\" or row[\"Dealership Nature Name\"]==\"State Marketing Federation\" or row[\"Dealership Nature Name\"]==\"Other\" or row[\"Dealership Nature Name\"]==\"Manufacturer Outlet\" or row[\"Dealership Nature Name\"]==\"Marketer\" or row[\"Dealership Nature Name\"]==\"Mixture Manufacturer\" or row[\"Dealership Nature Name\"]==\"institutional_buyer\" or row[\"Dealership Nature Name\"]==\"HUB Retailer\":\r\n",
    "        found+=1\r\n",
    "    else:\r\n",
    "        dealer_id_list.append(row[\"Dealer Id\"])\r\n",
    "        index_list_df.append(row[\"Index\"])\r\n",
    "        #for index2,rows in unclean_df.iterrows():\r\n",
    "        #if rows[\"Index\"]==(row[\"Index\"]+1) and (rows[\"Dealer Id\"]==\"Private Wholesaler\" or rows[\"Dealer Id\"]==\"Private Retailer\")\r\n",
    "        #row[\"Dealership Nature Name\"]=rows[\"Dealer Id\"]\r\n",
    "        #df[\"Dealership Nature Name\"][index1]=row[\"Dealer Id\"]\r\n",
    "        #df.at[index1,\"Dealership Nature Name\"]=row[\"Dealer Id\"]\r\n",
    "        #print(df[\"Dealership Nature Name\"][index1])\r\n",
    "#print(found)\r\n",
    "print(dealer_id_list)\r\n",
    "print(index_list_df)\r\n",
    "#unclean_df"
   ]
  },
  {
   "cell_type": "code",
   "execution_count": null,
   "metadata": {},
   "outputs": [],
   "source": [
    "df.tail(10)"
   ]
  },
  {
   "cell_type": "code",
   "execution_count": null,
   "metadata": {},
   "outputs": [],
   "source": [
    "df.shape"
   ]
  },
  {
   "cell_type": "code",
   "execution_count": null,
   "metadata": {},
   "outputs": [],
   "source": [
    "df[\"Dealership Nature Name\"].count()"
   ]
  },
  {
   "cell_type": "code",
   "execution_count": null,
   "metadata": {},
   "outputs": [],
   "source": [
    "unclean_df"
   ]
  },
  {
   "cell_type": "code",
   "execution_count": null,
   "metadata": {},
   "outputs": [],
   "source": [
    "#print(df.at[356199,\"Dealership Nature Name\"])\r\n",
    "#df.at[356199,\"Dealer License\"]"
   ]
  },
  {
   "cell_type": "code",
   "execution_count": null,
   "metadata": {},
   "outputs": [],
   "source": [
    "df[\"Dealership Nature Name\"].isnull().sum()"
   ]
  },
  {
   "cell_type": "code",
   "execution_count": null,
   "metadata": {},
   "outputs": [],
   "source": [
    "df.shape"
   ]
  },
  {
   "cell_type": "code",
   "execution_count": null,
   "metadata": {},
   "outputs": [],
   "source": [
    "unclean_df[\"Dealer Id\"].value_counts()"
   ]
  },
  {
   "cell_type": "code",
   "execution_count": null,
   "metadata": {},
   "outputs": [],
   "source": [
    "unclean_df[\"Dealer Type\"].value_counts()"
   ]
  },
  {
   "cell_type": "code",
   "execution_count": null,
   "metadata": {},
   "outputs": [],
   "source": [
    "df[\"Dealer License\"].count()"
   ]
  },
  {
   "cell_type": "code",
   "execution_count": null,
   "metadata": {},
   "outputs": [],
   "source": [
    "df[\"Dealer License\"].isnull().sum()"
   ]
  },
  {
   "cell_type": "code",
   "execution_count": null,
   "metadata": {},
   "outputs": [],
   "source": [
    "#somehow not working.. i wanted to find indices where dealer license is null\r\n",
    "# check_nan=pd.DataFrame(df['Dealer License'].isnull())\r\n",
    "# #check_nan = df['Dealer License'].isnull()\r\n",
    "# print(check_nan)\r\n",
    "# check_nan_list=[]\r\n",
    "# for index,rows in check_nan.iterrows():\r\n",
    "#     if rows[\"Dealer License\"]==\"True\":\r\n",
    "#         check_nan_list.append(index)\r\n",
    "#         print(index)\r\n",
    "# print(check_nan_list)"
   ]
  },
  {
   "cell_type": "code",
   "execution_count": null,
   "metadata": {},
   "outputs": [],
   "source": [
    "#nested loop takes time\r\n",
    "# for index1,r in df.iterrows():\r\n",
    "#     #check_nan = df['Dealer License'].isnull().values.any()\r\n",
    "#     #if r[\"Dealer License\"].isnan():\r\n",
    "#     for index,row in unclean_df.iterrows():\r\n",
    "#         if row[\"Dealer Type\"]!=\"9434553430\" and row[\"Dealer Type\"]!=\"7478926270\":\r\n",
    "#             if r[\"Index\"]==row[\"Index\"]-1:\r\n",
    "#                 df[\"Dealer License\"][index1]=row[\"Dealer Type\"]\r\n",
    "# df[\"Dealer License\"].count()"
   ]
  },
  {
   "cell_type": "code",
   "execution_count": null,
   "metadata": {},
   "outputs": [],
   "source": [
    "df.index"
   ]
  },
  {
   "cell_type": "code",
   "execution_count": null,
   "metadata": {},
   "outputs": [],
   "source": [
    "df.set_index(\"Index\")"
   ]
  },
  {
   "cell_type": "code",
   "execution_count": null,
   "metadata": {},
   "outputs": [],
   "source": [
    "unclean_df"
   ]
  },
  {
   "cell_type": "code",
   "execution_count": null,
   "metadata": {},
   "outputs": [],
   "source": [
    "df[\"Dealer License\"].count()"
   ]
  },
  {
   "cell_type": "code",
   "execution_count": null,
   "metadata": {},
   "outputs": [],
   "source": [
    "for index,row in unclean_df.iterrows():\r\n",
    "    if row[\"Dealer Type\"]!=\"9434553430\" and row[\"Dealer Type\"]!=\"7478926270\":\r\n",
    "        #print(row[\"Dealer Type\"])\r\n",
    "        #df[\"Dealer License\"][row[\"Index\"]-1]=row[\"Dealer Type\"]\r\n",
    "        ind_df=row[\"Index\"]-1\r\n",
    "        df.at[ind_df,\"Dealer License\"]=row[\"Dealer Type\"]\r\n",
    "df[\"Dealer License\"].count()"
   ]
  },
  {
   "cell_type": "code",
   "execution_count": null,
   "metadata": {},
   "outputs": [],
   "source": [
    "unclean_df\r\n",
    "df.at[356199,\"Dealer License\"]"
   ]
  },
  {
   "cell_type": "code",
   "execution_count": null,
   "metadata": {},
   "outputs": [],
   "source": [
    "\"\"\"\r\n",
    "8 columns in unclean data\r\n",
    "7 columns of concern\r\n",
    "c\r\n",
    "d\r\n",
    "e-error\r\n",
    "f-some error\r\n",
    "g\r\n",
    "h\r\n",
    "i-some error\r\n",
    "\"\"\""
   ]
  },
  {
   "cell_type": "code",
   "execution_count": null,
   "metadata": {},
   "outputs": [],
   "source": [
    "unclean_df[\"Duplicate Dealer(Yes/No) if Yes Then enter Original Id\"].value_counts()"
   ]
  },
  {
   "cell_type": "code",
   "execution_count": null,
   "metadata": {},
   "outputs": [],
   "source": [
    "df.shape"
   ]
  },
  {
   "cell_type": "code",
   "execution_count": null,
   "metadata": {},
   "outputs": [],
   "source": [
    "df=df.drop(columns=\"Address\")"
   ]
  },
  {
   "cell_type": "code",
   "execution_count": null,
   "metadata": {},
   "outputs": [],
   "source": [
    "df.head()"
   ]
  },
  {
   "cell_type": "code",
   "execution_count": null,
   "metadata": {},
   "outputs": [],
   "source": [
    "index_list=[]\r\n",
    "for i in range(1,360333):\r\n",
    "    index_list.append(\"temp\")\r\n",
    "df.insert(0,\"Address\",index_list,True)\r\n",
    "df.head()"
   ]
  },
  {
   "cell_type": "code",
   "execution_count": null,
   "metadata": {},
   "outputs": [],
   "source": [
    "df.index"
   ]
  },
  {
   "cell_type": "code",
   "execution_count": null,
   "metadata": {},
   "outputs": [],
   "source": [
    "df.set_index(\"Index\")"
   ]
  },
  {
   "cell_type": "code",
   "execution_count": null,
   "metadata": {},
   "outputs": [],
   "source": [
    "for index,row in unclean_df.iterrows():\r\n",
    "    ind_df=row[\"Index\"]-1\r\n",
    "    if row[\"Duplicate Dealer(Yes/No) if Yes Then enter Original Id\"]==\"P.O. + Vill.   Gangnapur\" or row[\"Duplicate Dealer(Yes/No) if Yes Then enter Original Id\"]==\"Vill.   Mithapur\":\r\n",
    "        #df[\"Address\"][ind_df]=row[\"Duplicate Dealer(Yes/No) if Yes Then enter Original Id\"]\r\n",
    "        #print(df[\"Address\"][ind_df])\r\n",
    "        print(ind_df)"
   ]
  },
  {
   "cell_type": "code",
   "execution_count": null,
   "metadata": {},
   "outputs": [],
   "source": []
  }
 ],
 "metadata": {
  "interpreter": {
   "hash": "1fe93a89d55f8a7e97d849f5b0f8946d4fa2c0c933454d9eeab7393334c9f9e7"
  },
  "kernelspec": {
   "display_name": "Python 3.8.5 64-bit ('base': conda)",
   "name": "python3"
  },
  "language_info": {
   "codemirror_mode": {
    "name": "ipython",
    "version": 3
   },
   "file_extension": ".py",
   "mimetype": "text/x-python",
   "name": "python",
   "nbconvert_exporter": "python",
   "pygments_lexer": "ipython3",
   "version": "3.8.5"
  },
  "orig_nbformat": 4
 },
 "nbformat": 4,
 "nbformat_minor": 2
}