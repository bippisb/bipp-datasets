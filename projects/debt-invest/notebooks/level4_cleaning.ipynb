{
 "cells": [
  {
   "cell_type": "code",
   "execution_count": 1,
   "metadata": {},
   "outputs": [],
   "source": [
    "from pathlib import Path\n",
    "import pandas as pd"
   ]
  },
  {
   "cell_type": "code",
   "execution_count": 2,
   "metadata": {},
   "outputs": [],
   "source": [
    "dir_path = Path.cwd()\n",
    "raw_data_path = Path.joinpath(dir_path, \"data\", \"raw\")\n",
    "interim_data_path = Path.joinpath(dir_path, \"data\", \"interim\")"
   ]
  },
  {
   "cell_type": "code",
   "execution_count": 3,
   "metadata": {},
   "outputs": [
    {
     "data": {
      "text/plain": [
       "Index(['common_id', 'State', 'Sector', 'District', 'Schedule_ID',\n",
       "       'FSU_Serial_No', 'Round', 'Schedule', 'Sample', 'NSS_Region', 'Stratum',\n",
       "       'Sub_Stratum', 'Sub_Round', 'FOD_Sub_Region', 'Second_stage_stratum_no',\n",
       "       'Sample_hhld_No', 'Visit_number', 'Level', 'Filler', 'MPCE_Purchase',\n",
       "       'MPCE_homegrown_stock', 'MPCE_wages_gifts', 'MPCE_durables_365days',\n",
       "       'MPCE', 'Blank', 'NSC', 'Multiplier', 'w'],\n",
       "      dtype='object')"
      ]
     },
     "execution_count": 3,
     "metadata": {},
     "output_type": "execute_result"
    }
   ],
   "source": [
    "df = pd.read_stata(Path.joinpath(raw_data_path, \"level4.dta\"))\n",
    "df.columns"
   ]
  },
  {
   "cell_type": "code",
   "execution_count": 4,
   "metadata": {},
   "outputs": [],
   "source": [
    "df.drop(['FSU_Serial_No', 'Round', 'Schedule', 'Sample', 'NSS_Region', 'Stratum',\n",
    "       'Sub_Stratum', 'Sub_Round', 'FOD_Sub_Region', 'Second_stage_stratum_no',\n",
    "       'Sample_hhld_No', 'Visit_number', 'Level', 'Filler', 'Blank','NSC'], axis = 1, inplace = True)"
   ]
  },
  {
   "cell_type": "code",
   "execution_count": 5,
   "metadata": {},
   "outputs": [
    {
     "data": {
      "text/plain": [
       "Index(['common_id', 'State', 'Sector', 'District', 'Schedule_ID',\n",
       "       'MPCE_Purchase', 'MPCE_homegrown_stock', 'MPCE_wages_gifts',\n",
       "       'MPCE_durables_365days', 'MPCE', 'Multiplier', 'w'],\n",
       "      dtype='object')"
      ]
     },
     "execution_count": 5,
     "metadata": {},
     "output_type": "execute_result"
    }
   ],
   "source": [
    "df.columns"
   ]
  },
  {
   "cell_type": "code",
   "execution_count": 6,
   "metadata": {},
   "outputs": [],
   "source": [
    "var_names = [x.lower() for x in df.columns]\n",
    "df.columns = var_names"
   ]
  },
  {
   "cell_type": "code",
   "execution_count": 7,
   "metadata": {},
   "outputs": [
    {
     "name": "stdout",
     "output_type": "stream",
     "text": [
      "Common ID is unique for Level 4\n"
     ]
    }
   ],
   "source": [
    "if df[\"common_id\"].is_unique:\n",
    "    print(\"Common ID is unique for Level 4\")\n",
    "else:\n",
    "    print(\"Common ID not unique for Level 4\")"
   ]
  },
  {
   "cell_type": "code",
   "execution_count": 8,
   "metadata": {},
   "outputs": [
    {
     "data": {
      "text/html": [
       "<div>\n",
       "<style scoped>\n",
       "    .dataframe tbody tr th:only-of-type {\n",
       "        vertical-align: middle;\n",
       "    }\n",
       "\n",
       "    .dataframe tbody tr th {\n",
       "        vertical-align: top;\n",
       "    }\n",
       "\n",
       "    .dataframe thead th {\n",
       "        text-align: right;\n",
       "    }\n",
       "</style>\n",
       "<table border=\"1\" class=\"dataframe\">\n",
       "  <thead>\n",
       "    <tr style=\"text-align: right;\">\n",
       "      <th></th>\n",
       "      <th>common_id</th>\n",
       "      <th>state</th>\n",
       "      <th>sector</th>\n",
       "      <th>district</th>\n",
       "      <th>schedule_id</th>\n",
       "      <th>mpce_purchase</th>\n",
       "      <th>mpce_homegrown_stock</th>\n",
       "      <th>mpce_wages_gifts</th>\n",
       "      <th>mpce_durables_365days</th>\n",
       "      <th>mpce</th>\n",
       "      <th>multiplier</th>\n",
       "      <th>w</th>\n",
       "    </tr>\n",
       "  </thead>\n",
       "  <tbody>\n",
       "    <tr>\n",
       "      <th>0</th>\n",
       "      <td>53335201</td>\n",
       "      <td>1</td>\n",
       "      <td>1</td>\n",
       "      <td>5</td>\n",
       "      <td>771</td>\n",
       "      <td>12000.0</td>\n",
       "      <td>2850.0</td>\n",
       "      <td>150.0</td>\n",
       "      <td>0.0</td>\n",
       "      <td>15000</td>\n",
       "      <td>31000</td>\n",
       "      <td>310.0</td>\n",
       "    </tr>\n",
       "    <tr>\n",
       "      <th>1</th>\n",
       "      <td>53335301</td>\n",
       "      <td>1</td>\n",
       "      <td>1</td>\n",
       "      <td>5</td>\n",
       "      <td>771</td>\n",
       "      <td>9500.0</td>\n",
       "      <td>2200.0</td>\n",
       "      <td>300.0</td>\n",
       "      <td>NaN</td>\n",
       "      <td>12000</td>\n",
       "      <td>241800</td>\n",
       "      <td>2418.0</td>\n",
       "    </tr>\n",
       "    <tr>\n",
       "      <th>2</th>\n",
       "      <td>53335302</td>\n",
       "      <td>1</td>\n",
       "      <td>1</td>\n",
       "      <td>5</td>\n",
       "      <td>771</td>\n",
       "      <td>5000.0</td>\n",
       "      <td>1250.0</td>\n",
       "      <td>250.0</td>\n",
       "      <td>NaN</td>\n",
       "      <td>6500</td>\n",
       "      <td>241800</td>\n",
       "      <td>2418.0</td>\n",
       "    </tr>\n",
       "    <tr>\n",
       "      <th>3</th>\n",
       "      <td>53335303</td>\n",
       "      <td>1</td>\n",
       "      <td>1</td>\n",
       "      <td>5</td>\n",
       "      <td>771</td>\n",
       "      <td>12000.0</td>\n",
       "      <td>2800.0</td>\n",
       "      <td>200.0</td>\n",
       "      <td>NaN</td>\n",
       "      <td>15000</td>\n",
       "      <td>241800</td>\n",
       "      <td>2418.0</td>\n",
       "    </tr>\n",
       "    <tr>\n",
       "      <th>4</th>\n",
       "      <td>53335304</td>\n",
       "      <td>1</td>\n",
       "      <td>1</td>\n",
       "      <td>5</td>\n",
       "      <td>771</td>\n",
       "      <td>13500.0</td>\n",
       "      <td>1250.0</td>\n",
       "      <td>250.0</td>\n",
       "      <td>0.0</td>\n",
       "      <td>15000</td>\n",
       "      <td>241800</td>\n",
       "      <td>2418.0</td>\n",
       "    </tr>\n",
       "    <tr>\n",
       "      <th>...</th>\n",
       "      <td>...</td>\n",
       "      <td>...</td>\n",
       "      <td>...</td>\n",
       "      <td>...</td>\n",
       "      <td>...</td>\n",
       "      <td>...</td>\n",
       "      <td>...</td>\n",
       "      <td>...</td>\n",
       "      <td>...</td>\n",
       "      <td>...</td>\n",
       "      <td>...</td>\n",
       "      <td>...</td>\n",
       "    </tr>\n",
       "    <tr>\n",
       "      <th>116456</th>\n",
       "      <td>76272402</td>\n",
       "      <td>36</td>\n",
       "      <td>2</td>\n",
       "      <td>31</td>\n",
       "      <td>771</td>\n",
       "      <td>15500.0</td>\n",
       "      <td>0.0</td>\n",
       "      <td>0.0</td>\n",
       "      <td>2500.0</td>\n",
       "      <td>15708</td>\n",
       "      <td>233750</td>\n",
       "      <td>2338.0</td>\n",
       "    </tr>\n",
       "    <tr>\n",
       "      <th>116457</th>\n",
       "      <td>76272501</td>\n",
       "      <td>36</td>\n",
       "      <td>2</td>\n",
       "      <td>31</td>\n",
       "      <td>771</td>\n",
       "      <td>5850.0</td>\n",
       "      <td>0.0</td>\n",
       "      <td>0.0</td>\n",
       "      <td>6800.0</td>\n",
       "      <td>6417</td>\n",
       "      <td>93500</td>\n",
       "      <td>935.0</td>\n",
       "    </tr>\n",
       "    <tr>\n",
       "      <th>116458</th>\n",
       "      <td>76272502</td>\n",
       "      <td>36</td>\n",
       "      <td>2</td>\n",
       "      <td>31</td>\n",
       "      <td>771</td>\n",
       "      <td>15200.0</td>\n",
       "      <td>0.0</td>\n",
       "      <td>0.0</td>\n",
       "      <td>4500.0</td>\n",
       "      <td>15575</td>\n",
       "      <td>93500</td>\n",
       "      <td>935.0</td>\n",
       "    </tr>\n",
       "    <tr>\n",
       "      <th>116459</th>\n",
       "      <td>76272601</td>\n",
       "      <td>36</td>\n",
       "      <td>2</td>\n",
       "      <td>31</td>\n",
       "      <td>771</td>\n",
       "      <td>9850.0</td>\n",
       "      <td>0.0</td>\n",
       "      <td>0.0</td>\n",
       "      <td>15300.0</td>\n",
       "      <td>11125</td>\n",
       "      <td>149600</td>\n",
       "      <td>1496.0</td>\n",
       "    </tr>\n",
       "    <tr>\n",
       "      <th>116460</th>\n",
       "      <td>76272602</td>\n",
       "      <td>36</td>\n",
       "      <td>2</td>\n",
       "      <td>31</td>\n",
       "      <td>771</td>\n",
       "      <td>11200.0</td>\n",
       "      <td>0.0</td>\n",
       "      <td>0.0</td>\n",
       "      <td>14500.0</td>\n",
       "      <td>12408</td>\n",
       "      <td>149600</td>\n",
       "      <td>1496.0</td>\n",
       "    </tr>\n",
       "  </tbody>\n",
       "</table>\n",
       "<p>116461 rows × 12 columns</p>\n",
       "</div>"
      ],
      "text/plain": [
       "        common_id  state  sector  district  schedule_id  mpce_purchase  \\\n",
       "0        53335201      1       1         5          771        12000.0   \n",
       "1        53335301      1       1         5          771         9500.0   \n",
       "2        53335302      1       1         5          771         5000.0   \n",
       "3        53335303      1       1         5          771        12000.0   \n",
       "4        53335304      1       1         5          771        13500.0   \n",
       "...           ...    ...     ...       ...          ...            ...   \n",
       "116456   76272402     36       2        31          771        15500.0   \n",
       "116457   76272501     36       2        31          771         5850.0   \n",
       "116458   76272502     36       2        31          771        15200.0   \n",
       "116459   76272601     36       2        31          771         9850.0   \n",
       "116460   76272602     36       2        31          771        11200.0   \n",
       "\n",
       "        mpce_homegrown_stock  mpce_wages_gifts  mpce_durables_365days   mpce  \\\n",
       "0                     2850.0             150.0                    0.0  15000   \n",
       "1                     2200.0             300.0                    NaN  12000   \n",
       "2                     1250.0             250.0                    NaN   6500   \n",
       "3                     2800.0             200.0                    NaN  15000   \n",
       "4                     1250.0             250.0                    0.0  15000   \n",
       "...                      ...               ...                    ...    ...   \n",
       "116456                   0.0               0.0                 2500.0  15708   \n",
       "116457                   0.0               0.0                 6800.0   6417   \n",
       "116458                   0.0               0.0                 4500.0  15575   \n",
       "116459                   0.0               0.0                15300.0  11125   \n",
       "116460                   0.0               0.0                14500.0  12408   \n",
       "\n",
       "        multiplier       w  \n",
       "0            31000   310.0  \n",
       "1           241800  2418.0  \n",
       "2           241800  2418.0  \n",
       "3           241800  2418.0  \n",
       "4           241800  2418.0  \n",
       "...            ...     ...  \n",
       "116456      233750  2338.0  \n",
       "116457       93500   935.0  \n",
       "116458       93500   935.0  \n",
       "116459      149600  1496.0  \n",
       "116460      149600  1496.0  \n",
       "\n",
       "[116461 rows x 12 columns]"
      ]
     },
     "execution_count": 8,
     "metadata": {},
     "output_type": "execute_result"
    }
   ],
   "source": [
    "df"
   ]
  },
  {
   "cell_type": "code",
   "execution_count": 9,
   "metadata": {},
   "outputs": [],
   "source": [
    "csv_path = Path.joinpath(interim_data_path, \"level4.csv\")\n",
    "df.to_csv(csv_path, index=False)"
   ]
  },
  {
   "cell_type": "code",
   "execution_count": null,
   "metadata": {},
   "outputs": [],
   "source": []
  }
 ],
 "metadata": {
  "interpreter": {
   "hash": "a09e2b970767d0be2f332117f45685007d2c8ec89818e216477a3461de0aaaa8"
  },
  "kernelspec": {
   "display_name": "Python 3.7.6 64-bit (system)",
   "language": "python",
   "name": "python3"
  },
  "language_info": {
   "codemirror_mode": {
    "name": "ipython",
    "version": 3
   },
   "file_extension": ".py",
   "mimetype": "text/x-python",
   "name": "python",
   "nbconvert_exporter": "python",
   "pygments_lexer": "ipython3",
   "version": "3.7.6"
  },
  "orig_nbformat": 4
 },
 "nbformat": 4,
 "nbformat_minor": 2
}
