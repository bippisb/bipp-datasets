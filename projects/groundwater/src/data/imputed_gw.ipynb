{
 "cells": [
  {
   "cell_type": "code",
   "execution_count": 1,
   "source": [
    "from datetime import datetime\r\n",
    "from pathlib import Path\r\n",
    "\r\n",
    "import altair as alt\r\n",
    "import numpy as np\r\n",
    "import pandas as pd\r\n",
    "import pandas_profiling as pp\r\n",
    "import seaborn as sns"
   ],
   "outputs": [],
   "metadata": {}
  },
  {
   "cell_type": "code",
   "execution_count": 14,
   "source": [
    "alt.renderers.enable('mimetype')"
   ],
   "outputs": [
    {
     "output_type": "execute_result",
     "data": {
      "text/plain": [
       "RendererRegistry.enable('mimetype')"
      ]
     },
     "metadata": {},
     "execution_count": 14
    }
   ],
   "metadata": {}
  },
  {
   "cell_type": "code",
   "execution_count": 4,
   "source": [
    "# reading the data\r\n",
    "project_dir = \"D:/bipp-datasets/projects/groundwater\"\r\n",
    "print(project_dir)\r\n",
    "parent_folder = project_dir + \"/data/raw/\"\r\n",
    "\r\n",
    "gw_master = pd.read_csv(parent_folder + \"groundwater_imputed.csv\")"
   ],
   "outputs": [
    {
     "output_type": "stream",
     "name": "stdout",
     "text": [
      "D:/bipp-datasets/projects/groundwater\n"
     ]
    }
   ],
   "metadata": {}
  },
  {
   "cell_type": "code",
   "execution_count": 5,
   "source": [
    "# Cleaning the dataframe\r\n",
    "gw_master[\"year\"] = gw_master[\"year\"].astype(str).str.strip()\r\n",
    "gw_master[\"Month\"] = gw_master[\"Month\"].astype(str).str.strip()\r\n",
    "# %%\r\n",
    "# Creating a month year column\r\n",
    "gw_master[\"month_year\"] = gw_master[\"Month\"] + \", \" + gw_master[\"year\"]\r\n",
    "# %%\r\n",
    "# Converting that month year column as datetime\r\n",
    "gw_master[\"month_year\"] = pd.to_datetime(gw_master[\"month_year\"])"
   ],
   "outputs": [],
   "metadata": {}
  },
  {
   "cell_type": "code",
   "execution_count": 6,
   "source": [
    "state_dict = {\r\n",
    "    'MP': 'Madhya Pradesh',\r\n",
    "    'UP':'Uttar Pradesh',\r\n",
    "    'MN':\"Manipur\",\r\n",
    "    'ML':\"Meghalaya\",\r\n",
    "    'NL':\"Nagaland\",\r\n",
    "    'TR':\"Tripura\",\r\n",
    "    'AR':\"Arunachal Pradesh\",\r\n",
    "    'CH':\"Chhattisgarh\",\r\n",
    "    'DL':\"Delhi\",\r\n",
    "    'HR':\"Haryana\",\r\n",
    "    'HP':\"Himachal Pradesh\",\r\n",
    "    'JK':\"Jammu and Kashmir\",\r\n",
    "    'TN':\"Tamilnadu\",\r\n",
    "    'AP':\"Andhra Pradesh\",\r\n",
    "    'KL':\"Kerala\",\r\n",
    "    'TG':\"Telangana\",\r\n",
    "    'PY':\"Pondicherry\",\r\n",
    "    'KA':\"Karnataka\",\r\n",
    "    'MS':\"Maharashtra\",\r\n",
    "    'GJ':\"Gujarat\",\r\n",
    "    'OD':\"Odisha\",\r\n",
    "    'JH':\"Jharkhand\",\r\n",
    "    'WB':\"West Bengal\",\r\n",
    "    'CG':\"Chandigarh\",\r\n",
    "    'AS':\"Assam\",\r\n",
    "    'BR':\"Bihar\",\r\n",
    "    'PB':\"Punjab\",\r\n",
    "    'RJ':\"Rajasthan\",\r\n",
    "    'UK':\"Uttarakhand\",\r\n",
    "    'GA':\"Goa\",\r\n",
    "    'DD':\"Daman and Diu\",\r\n",
    "    'AN':\"Andaman and Nicobar Islands\"\r\n",
    "}\r\n",
    "# replacing delhi with DELHI\r\n",
    "gw_master = gw_master.replace({\"state\":state_dict})\r\n",
    "\r\n",
    "\r\n",
    "# creation of a time dict from report made qualitative research\r\n",
    "time_dict = {\r\n",
    "    # 'MADHYA PRADESH':'01-01-2020',\r\n",
    "    \"Maharashtra\": \"16-04-2012\",\r\n",
    "    \"Rajasthan\": \"07-04-2006\",\r\n",
    "    \"Delhi\": \"18-05-2010\",\r\n",
    "    \"Haryana\": \"26-11-2020\",\r\n",
    "    \"Himachal Pradesh\": \"27-10-2005\",\r\n",
    "    \"Tamil Nadu\": \"04-03-2003\",\r\n",
    "    \"Odisha\": \"29-07-2011\",\r\n",
    "    \"Kerala\": \"01-08-2002\",\r\n",
    "    \"Karnataka\": \"05-04-2011\",\r\n",
    "    \"Telangana\": \"19-04-2002\",\r\n",
    "    \"Andhra Pradesh\": \"19-04-2002\",\r\n",
    "    \"Chhattisgarh\": \"01-04-2012\",\r\n",
    "    \"West Bengal\": \"01-08-2006\",\r\n",
    "    \"Gujarat\": \"19-09-2001\",\r\n",
    "    \"Assam\": \"19-05-2012\",\r\n",
    "    \"Bihar\": \"29-01-2007\",\r\n",
    "    # 'UTTAR PRADESH':'05-08-2019',\r\n",
    "    \"Goa\": \"07-02-2002\",\r\n",
    "}"
   ],
   "outputs": [],
   "metadata": {}
  },
  {
   "cell_type": "code",
   "execution_count": 24,
   "source": [
    "# iterating through each state and generating graphs at state level\r\n",
    "for state, pol_date in time_dict.items():\r\n",
    "    pol_date = datetime.strptime(pol_date, \"%d-%m-%Y\")\r\n",
    "    state_data = gw_master[gw_master[\"state\"] == state]\r\n",
    "    state_data = (\r\n",
    "        state_data.groupby([\"month_year\", \"state\"]).aggregate(\"mean\").reset_index()\r\n",
    "    )\r\n",
    "    state_data[\"status\"] = np.where(\r\n",
    "        (state_data.month_year > pol_date),\r\n",
    "        \"After \" + str(pol_date),\r\n",
    "        \"Before \" + str(pol_date),\r\n",
    "    )\r\n",
    "    # chart = alt.Chart(state_data).mark_line().encode(\r\n",
    "    #     x = \"month_year\",\r\n",
    "    #     y = \"water_level\",\r\n",
    "    #     color = 'status:N'\r\n",
    "    # )\r\n",
    "    # chart.save(str(state) + \".png\")\r\n",
    "    fig = sns.relplot(\r\n",
    "        data=state_data, x=\"month_year\", y=\"water_level\", hue=\"status\", kind=\"line\", legend=False\r\n",
    "    )\r\n",
    "    fig.fig.suptitle(str(state))\r\n",
    "    file_path = parent_folder + \"state_profiles/\" + str(state)\r\n",
    "    Path(file_path).mkdir(exist_ok=True)\r\n",
    "    fig.savefig(file_path + \"/\" + str(state) + \"_1\" + \".png\")"
   ],
   "outputs": [
    {
     "output_type": "error",
     "ename": "AttributeError",
     "evalue": "'AxesSubplot' object has no attribute 'savefig'",
     "traceback": [
      "\u001b[1;31m---------------------------------------------------------------------------\u001b[0m",
      "\u001b[1;31mAttributeError\u001b[0m                            Traceback (most recent call last)",
      "\u001b[1;32m~\\AppData\\Local\\Temp/ipykernel_276/1469044696.py\u001b[0m in \u001b[0;36m<module>\u001b[1;34m\u001b[0m\n\u001b[0;32m     22\u001b[0m     \u001b[0mfile_path\u001b[0m \u001b[1;33m=\u001b[0m \u001b[0mparent_folder\u001b[0m \u001b[1;33m+\u001b[0m \u001b[1;34m\"state_profiles/\"\u001b[0m \u001b[1;33m+\u001b[0m \u001b[0mstr\u001b[0m\u001b[1;33m(\u001b[0m\u001b[0mstate\u001b[0m\u001b[1;33m)\u001b[0m\u001b[1;33m\u001b[0m\u001b[1;33m\u001b[0m\u001b[0m\n\u001b[0;32m     23\u001b[0m     \u001b[0mPath\u001b[0m\u001b[1;33m(\u001b[0m\u001b[0mfile_path\u001b[0m\u001b[1;33m)\u001b[0m\u001b[1;33m.\u001b[0m\u001b[0mmkdir\u001b[0m\u001b[1;33m(\u001b[0m\u001b[0mexist_ok\u001b[0m\u001b[1;33m=\u001b[0m\u001b[1;32mTrue\u001b[0m\u001b[1;33m)\u001b[0m\u001b[1;33m\u001b[0m\u001b[1;33m\u001b[0m\u001b[0m\n\u001b[1;32m---> 24\u001b[1;33m     \u001b[0mfig\u001b[0m\u001b[1;33m.\u001b[0m\u001b[0msavefig\u001b[0m\u001b[1;33m(\u001b[0m\u001b[0mfile_path\u001b[0m \u001b[1;33m+\u001b[0m \u001b[1;34m\"/\"\u001b[0m \u001b[1;33m+\u001b[0m \u001b[0mstr\u001b[0m\u001b[1;33m(\u001b[0m\u001b[0mstate\u001b[0m\u001b[1;33m)\u001b[0m \u001b[1;33m+\u001b[0m \u001b[1;34m\"_1\"\u001b[0m \u001b[1;33m+\u001b[0m \u001b[1;34m\".png\"\u001b[0m\u001b[1;33m)\u001b[0m\u001b[1;33m\u001b[0m\u001b[1;33m\u001b[0m\u001b[0m\n\u001b[0m",
      "\u001b[1;31mAttributeError\u001b[0m: 'AxesSubplot' object has no attribute 'savefig'"
     ]
    },
    {
     "output_type": "display_data",
     "data": {
      "text/plain": [
       "<Figure size 432x288 with 1 Axes>"
      ],
      "image/png": "[encoded data removed]"
     },
     "metadata": {
      "needs_background": "light"
     }
    }
   ],
   "metadata": {}
  },
  {
   "cell_type": "code",
   "execution_count": null,
   "source": [],
   "outputs": [],
   "metadata": {}
  }
 ],
 "metadata": {
  "orig_nbformat": 4,
  "language_info": {
   "name": "python",
   "version": "3.9.6",
   "mimetype": "text/x-python",
   "codemirror_mode": {
    "name": "ipython",
    "version": 3
   },
   "pygments_lexer": "ipython3",
   "nbconvert_exporter": "python",
   "file_extension": ".py"
  },
  "kernelspec": {
   "name": "python3",
   "display_name": "Python 3.9.6 64-bit ('.venv': poetry)"
  },
  "interpreter": {
   "hash": "5fc223f7b20fc39269334e65de95ed0334ea20a245bd9dee30de7f0eccd753a7"
  }
 },
 "nbformat": 4,
 "nbformat_minor": 2
}