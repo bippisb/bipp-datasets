{
 "cells": [
  {
   "cell_type": "code",
   "execution_count": 2,
   "id": "b9ed9736",
   "metadata": {},
   "outputs": [
    {
     "name": "stdout",
     "output_type": "stream",
     "text": [
      "Enter a month or fy (e.g., Feb-2020 or 2019-2020): Apr-2021\n",
      "CSV file 'renewable_energy_Apr-2021.csv' created successfully.\n"
     ]
    }
   ],
   "source": [
    "import requests\n",
    "import csv\n",
    "\n",
    "# Making the API request\n",
    "url = 'https://cea.nic.in/api/renewable_energy.php'\n",
    "response = requests.get(url)\n",
    "\n",
    "# Checking if the request was successful\n",
    "if response.status_code == 200:\n",
    "    # Retrieving the JSON data\n",
    "    json_data = response.json()\n",
    "\n",
    "    if isinstance(json_data, dict):\n",
    "        # User input for month or fy\n",
    "        user_input = input(\"Enter a month or fy (e.g., Feb-2020 or 2019-2020): \")\n",
    "        user_input = user_input.strip()\n",
    "\n",
    "        # Specifying the desired column order\n",
    "        column_order = ['ID', 'Month', 'State', 'fy', 'region', 'wind', 'solar', 'biomass', 'bagasse', 'small_hydel', 'others', 'total']\n",
    "\n",
    "        # Filtering the data based on user input\n",
    "        filtered_data = []\n",
    "        for entry in json_data.values():\n",
    "            if isinstance(entry, list):\n",
    "                filtered_data.extend([item for item in entry if item['Month'] == user_input or item['fy'] == user_input])\n",
    "\n",
    "        if filtered_data:\n",
    "            # Specifying the output CSV file path\n",
    "            output_file = f'renewable_energy_{user_input}.csv'\n",
    "\n",
    "            # Writing the filtered data to CSV file\n",
    "            with open(output_file, 'w', newline='') as csvfile:\n",
    "                writer = csv.DictWriter(csvfile, fieldnames=column_order)\n",
    "\n",
    "                # Writing the headers\n",
    "                writer.writeheader()\n",
    "\n",
    "                # Writing the data rows\n",
    "                for item in filtered_data:\n",
    "                    writer.writerow(item)\n",
    "\n",
    "            print(f\"CSV file '{output_file}' created successfully.\")\n",
    "        else:\n",
    "            print(\"No data found for the specified month or fy.\")\n",
    "    else:\n",
    "        print(\"Invalid API response format.\")\n",
    "else:\n",
    "    print(\"Failed to retrieve data from the API.\")\n"
   ]
  },
  {
   "cell_type": "code",
   "execution_count": null,
   "id": "d7fa46ab",
   "metadata": {},
   "outputs": [],
   "source": []
  }
 ],
 "metadata": {
  "kernelspec": {
   "display_name": "Python 3 (ipykernel)",
   "language": "python",
   "name": "python3"
  },
  "language_info": {
   "codemirror_mode": {
    "name": "ipython",
    "version": 3
   },
   "file_extension": ".py",
   "mimetype": "text/x-python",
   "name": "python",
   "nbconvert_exporter": "python",
   "pygments_lexer": "ipython3",
   "version": "3.10.1"
  }
 },
 "nbformat": 4,
 "nbformat_minor": 5
}
