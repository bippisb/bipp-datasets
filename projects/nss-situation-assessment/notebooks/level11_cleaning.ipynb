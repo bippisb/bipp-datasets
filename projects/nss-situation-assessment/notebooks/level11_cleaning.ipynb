{
 "cells": [
  {
   "cell_type": "code",
   "execution_count": 1,
   "metadata": {},
   "outputs": [],
   "source": [
    "from pathlib import Path\n",
    "import pandas as pd"
   ]
  },
  {
   "cell_type": "code",
   "execution_count": 2,
   "metadata": {},
   "outputs": [],
   "source": [
    "dir_path = Path.cwd()\n",
    "raw_data_path = Path.joinpath(dir_path, \"data\", \"raw\")\n",
    "interim_data_path = Path.joinpath(dir_path, \"data\", \"interim\")"
   ]
  },
  {
   "cell_type": "code",
   "execution_count": 3,
   "metadata": {},
   "outputs": [
    {
     "data": {
      "text/plain": [
       "Index(['common_id', 'State', 'Sector', 'District', 'Centre_code_Round',\n",
       "       'FSU_Serial_No', 'Round', 'Schedule', 'Sample', 'NSS_Region', 'Stratum',\n",
       "       'Sub_Stratum', 'Sub_Round', 'FOD_Sub_Region', 'Second_stage_stratum_no',\n",
       "       'Sample_hhld_No', 'Visit_number', 'Level', 'Filler', 'Sl_no',\n",
       "       'oth_quant', 'oth_val', 'tot_prod_quant', 'tot_prod_val', 'blank',\n",
       "       'NSC', 'Multiplier', 'w'],\n",
       "      dtype='object')"
      ]
     },
     "execution_count": 3,
     "metadata": {},
     "output_type": "execute_result"
    }
   ],
   "source": [
    "df = pd.read_stata(Path.joinpath(raw_data_path, \"level11.dta\"))\n",
    "df.columns"
   ]
  },
  {
   "cell_type": "code",
   "execution_count": 4,
   "metadata": {},
   "outputs": [],
   "source": [
    "df.drop(['Centre_code_Round',\n",
    "       'FSU_Serial_No', 'Round', 'Schedule', 'Sample', 'NSS_Region', 'Stratum',\n",
    "       'Sub_Stratum', 'Sub_Round', 'FOD_Sub_Region', 'Second_stage_stratum_no',\n",
    "       'Sample_hhld_No', 'Visit_number', 'Level', 'Filler', 'blank','NSC'], axis = 1, inplace = True)"
   ]
  },
  {
   "cell_type": "code",
   "execution_count": 5,
   "metadata": {},
   "outputs": [],
   "source": [
    "var_names = [x.lower() for x in df.columns]\n",
    "df.columns = var_names"
   ]
  },
  {
   "cell_type": "code",
   "execution_count": 6,
   "metadata": {},
   "outputs": [
    {
     "data": {
      "text/plain": [
       "Index(['common_id', 'state', 'sector', 'district', 'sl_no', 'oth_quant',\n",
       "       'oth_val', 'tot_prod_quant', 'tot_prod_val', 'multiplier', 'w'],\n",
       "      dtype='object')"
      ]
     },
     "execution_count": 6,
     "metadata": {},
     "output_type": "execute_result"
    }
   ],
   "source": [
    "df.columns"
   ]
  },
  {
   "cell_type": "code",
   "execution_count": 8,
   "metadata": {},
   "outputs": [
    {
     "name": "stdout",
     "output_type": "stream",
     "text": [
      "Common ID not unique for Level 11\n"
     ]
    }
   ],
   "source": [
    "if df[\"common_id\"].is_unique:\n",
    "    print(\"Common ID is unique for Level 11\")\n",
    "else:\n",
    "    print(\"Common ID not unique for Level 11\")"
   ]
  },
  {
   "cell_type": "code",
   "execution_count": 9,
   "metadata": {},
   "outputs": [],
   "source": [
    "df['animal_farming_category'] = df['sl_no']"
   ]
  },
  {
   "cell_type": "code",
   "execution_count": 11,
   "metadata": {},
   "outputs": [],
   "source": [
    "animal_labels = {1: 'milk (cattle) (litre)',2:'milk ( buffalo) (litre)', 3: 'milk (sheep goat, etc.) (litre)', 4: 'egg (poultry, duck, etc.) (no.)', 5: 'wool (sheep, etc.) (kg)', 6: 'fish (kg)', 7: 'livestock cattle (nos.)', 8: 'livestock buffalo (nos.)', 9:' livestock sheep, goat, etc. (nos.)', 10: 'livestock pig (nos.)', 11: 'livestock poultry, duck, etc. (nos.)', 12: 'other livestock (nos.)', 13: 'skin, hide, bones', 14: 'manure', 15: 'value of other produce (Rs.)', 16: 'total value of produce'}"
   ]
  },
  {
   "cell_type": "code",
   "execution_count": 12,
   "metadata": {},
   "outputs": [],
   "source": [
    "df['animal_farming_category'] = df['animal_farming_category'].map(animal_labels)"
   ]
  },
  {
   "cell_type": "code",
   "execution_count": 13,
   "metadata": {},
   "outputs": [
    {
     "data": {
      "text/html": [
       "<div>\n",
       "<style scoped>\n",
       "    .dataframe tbody tr th:only-of-type {\n",
       "        vertical-align: middle;\n",
       "    }\n",
       "\n",
       "    .dataframe tbody tr th {\n",
       "        vertical-align: top;\n",
       "    }\n",
       "\n",
       "    .dataframe thead th {\n",
       "        text-align: right;\n",
       "    }\n",
       "</style>\n",
       "<table border=\"1\" class=\"dataframe\">\n",
       "  <thead>\n",
       "    <tr style=\"text-align: right;\">\n",
       "      <th></th>\n",
       "      <th>common_id</th>\n",
       "      <th>state</th>\n",
       "      <th>sector</th>\n",
       "      <th>district</th>\n",
       "      <th>sl_no</th>\n",
       "      <th>oth_quant</th>\n",
       "      <th>oth_val</th>\n",
       "      <th>tot_prod_quant</th>\n",
       "      <th>tot_prod_val</th>\n",
       "      <th>multiplier</th>\n",
       "      <th>w</th>\n",
       "      <th>animal_farming_category</th>\n",
       "    </tr>\n",
       "  </thead>\n",
       "  <tbody>\n",
       "    <tr>\n",
       "      <th>0</th>\n",
       "      <td>72227201</td>\n",
       "      <td>1</td>\n",
       "      <td>1</td>\n",
       "      <td>5</td>\n",
       "      <td>2</td>\n",
       "      <td>NaN</td>\n",
       "      <td>NaN</td>\n",
       "      <td>50.0</td>\n",
       "      <td>2000</td>\n",
       "      <td>170500</td>\n",
       "      <td>1705.0</td>\n",
       "      <td>milk ( buffalo) (litre)</td>\n",
       "    </tr>\n",
       "    <tr>\n",
       "      <th>1</th>\n",
       "      <td>72227201</td>\n",
       "      <td>1</td>\n",
       "      <td>1</td>\n",
       "      <td>5</td>\n",
       "      <td>16</td>\n",
       "      <td>NaN</td>\n",
       "      <td>NaN</td>\n",
       "      <td>NaN</td>\n",
       "      <td>2000</td>\n",
       "      <td>170500</td>\n",
       "      <td>1705.0</td>\n",
       "      <td>total value of produce</td>\n",
       "    </tr>\n",
       "    <tr>\n",
       "      <th>2</th>\n",
       "      <td>72227301</td>\n",
       "      <td>1</td>\n",
       "      <td>1</td>\n",
       "      <td>5</td>\n",
       "      <td>2</td>\n",
       "      <td>NaN</td>\n",
       "      <td>NaN</td>\n",
       "      <td>30.0</td>\n",
       "      <td>1200</td>\n",
       "      <td>403000</td>\n",
       "      <td>4030.0</td>\n",
       "      <td>milk ( buffalo) (litre)</td>\n",
       "    </tr>\n",
       "    <tr>\n",
       "      <th>3</th>\n",
       "      <td>72227301</td>\n",
       "      <td>1</td>\n",
       "      <td>1</td>\n",
       "      <td>5</td>\n",
       "      <td>16</td>\n",
       "      <td>NaN</td>\n",
       "      <td>NaN</td>\n",
       "      <td>NaN</td>\n",
       "      <td>1200</td>\n",
       "      <td>403000</td>\n",
       "      <td>4030.0</td>\n",
       "      <td>total value of produce</td>\n",
       "    </tr>\n",
       "    <tr>\n",
       "      <th>4</th>\n",
       "      <td>72227303</td>\n",
       "      <td>1</td>\n",
       "      <td>1</td>\n",
       "      <td>5</td>\n",
       "      <td>2</td>\n",
       "      <td>NaN</td>\n",
       "      <td>NaN</td>\n",
       "      <td>25.0</td>\n",
       "      <td>1000</td>\n",
       "      <td>403000</td>\n",
       "      <td>4030.0</td>\n",
       "      <td>milk ( buffalo) (litre)</td>\n",
       "    </tr>\n",
       "    <tr>\n",
       "      <th>...</th>\n",
       "      <td>...</td>\n",
       "      <td>...</td>\n",
       "      <td>...</td>\n",
       "      <td>...</td>\n",
       "      <td>...</td>\n",
       "      <td>...</td>\n",
       "      <td>...</td>\n",
       "      <td>...</td>\n",
       "      <td>...</td>\n",
       "      <td>...</td>\n",
       "      <td>...</td>\n",
       "      <td>...</td>\n",
       "    </tr>\n",
       "    <tr>\n",
       "      <th>75409</th>\n",
       "      <td>70112501</td>\n",
       "      <td>36</td>\n",
       "      <td>1</td>\n",
       "      <td>31</td>\n",
       "      <td>11</td>\n",
       "      <td>NaN</td>\n",
       "      <td>NaN</td>\n",
       "      <td>8.0</td>\n",
       "      <td>1970</td>\n",
       "      <td>100500</td>\n",
       "      <td>1005.0</td>\n",
       "      <td>livestock poultry, duck, etc. (nos.)</td>\n",
       "    </tr>\n",
       "    <tr>\n",
       "      <th>75410</th>\n",
       "      <td>70112501</td>\n",
       "      <td>36</td>\n",
       "      <td>1</td>\n",
       "      <td>31</td>\n",
       "      <td>14</td>\n",
       "      <td>NaN</td>\n",
       "      <td>NaN</td>\n",
       "      <td>NaN</td>\n",
       "      <td>400</td>\n",
       "      <td>100500</td>\n",
       "      <td>1005.0</td>\n",
       "      <td>manure</td>\n",
       "    </tr>\n",
       "    <tr>\n",
       "      <th>75411</th>\n",
       "      <td>70112501</td>\n",
       "      <td>36</td>\n",
       "      <td>1</td>\n",
       "      <td>31</td>\n",
       "      <td>16</td>\n",
       "      <td>NaN</td>\n",
       "      <td>NaN</td>\n",
       "      <td>NaN</td>\n",
       "      <td>4518</td>\n",
       "      <td>100500</td>\n",
       "      <td>1005.0</td>\n",
       "      <td>total value of produce</td>\n",
       "    </tr>\n",
       "    <tr>\n",
       "      <th>75412</th>\n",
       "      <td>70112502</td>\n",
       "      <td>36</td>\n",
       "      <td>1</td>\n",
       "      <td>31</td>\n",
       "      <td>14</td>\n",
       "      <td>NaN</td>\n",
       "      <td>NaN</td>\n",
       "      <td>NaN</td>\n",
       "      <td>450</td>\n",
       "      <td>100500</td>\n",
       "      <td>1005.0</td>\n",
       "      <td>manure</td>\n",
       "    </tr>\n",
       "    <tr>\n",
       "      <th>75413</th>\n",
       "      <td>70112502</td>\n",
       "      <td>36</td>\n",
       "      <td>1</td>\n",
       "      <td>31</td>\n",
       "      <td>16</td>\n",
       "      <td>NaN</td>\n",
       "      <td>NaN</td>\n",
       "      <td>NaN</td>\n",
       "      <td>450</td>\n",
       "      <td>100500</td>\n",
       "      <td>1005.0</td>\n",
       "      <td>total value of produce</td>\n",
       "    </tr>\n",
       "  </tbody>\n",
       "</table>\n",
       "<p>75414 rows × 12 columns</p>\n",
       "</div>"
      ],
      "text/plain": [
       "       common_id  state  sector  district  sl_no  oth_quant  oth_val  \\\n",
       "0       72227201      1       1         5      2        NaN      NaN   \n",
       "1       72227201      1       1         5     16        NaN      NaN   \n",
       "2       72227301      1       1         5      2        NaN      NaN   \n",
       "3       72227301      1       1         5     16        NaN      NaN   \n",
       "4       72227303      1       1         5      2        NaN      NaN   \n",
       "...          ...    ...     ...       ...    ...        ...      ...   \n",
       "75409   70112501     36       1        31     11        NaN      NaN   \n",
       "75410   70112501     36       1        31     14        NaN      NaN   \n",
       "75411   70112501     36       1        31     16        NaN      NaN   \n",
       "75412   70112502     36       1        31     14        NaN      NaN   \n",
       "75413   70112502     36       1        31     16        NaN      NaN   \n",
       "\n",
       "       tot_prod_quant  tot_prod_val  multiplier       w  \\\n",
       "0                50.0          2000      170500  1705.0   \n",
       "1                 NaN          2000      170500  1705.0   \n",
       "2                30.0          1200      403000  4030.0   \n",
       "3                 NaN          1200      403000  4030.0   \n",
       "4                25.0          1000      403000  4030.0   \n",
       "...               ...           ...         ...     ...   \n",
       "75409             8.0          1970      100500  1005.0   \n",
       "75410             NaN           400      100500  1005.0   \n",
       "75411             NaN          4518      100500  1005.0   \n",
       "75412             NaN           450      100500  1005.0   \n",
       "75413             NaN           450      100500  1005.0   \n",
       "\n",
       "                    animal_farming_category  \n",
       "0                   milk ( buffalo) (litre)  \n",
       "1                    total value of produce  \n",
       "2                   milk ( buffalo) (litre)  \n",
       "3                    total value of produce  \n",
       "4                   milk ( buffalo) (litre)  \n",
       "...                                     ...  \n",
       "75409  livestock poultry, duck, etc. (nos.)  \n",
       "75410                                manure  \n",
       "75411                total value of produce  \n",
       "75412                                manure  \n",
       "75413                total value of produce  \n",
       "\n",
       "[75414 rows x 12 columns]"
      ]
     },
     "execution_count": 13,
     "metadata": {},
     "output_type": "execute_result"
    }
   ],
   "source": [
    "df"
   ]
  },
  {
   "cell_type": "code",
   "execution_count": 14,
   "metadata": {},
   "outputs": [],
   "source": [
    "csv_path = Path.joinpath(interim_data_path, \"level11.csv\")\n",
    "df.to_csv(csv_path, index=False)"
   ]
  },
  {
   "cell_type": "code",
   "execution_count": null,
   "metadata": {},
   "outputs": [],
   "source": []
  }
 ],
 "metadata": {
  "interpreter": {
   "hash": "a09e2b970767d0be2f332117f45685007d2c8ec89818e216477a3461de0aaaa8"
  },
  "kernelspec": {
   "display_name": "Python 3.7.6 64-bit (system)",
   "language": "python",
   "name": "python3"
  },
  "language_info": {
   "codemirror_mode": {
    "name": "ipython",
    "version": 3
   },
   "file_extension": ".py",
   "mimetype": "text/x-python",
   "name": "python",
   "nbconvert_exporter": "python",
   "pygments_lexer": "ipython3",
   "version": "3.7.6"
  },
  "orig_nbformat": 4
 },
 "nbformat": 4,
 "nbformat_minor": 2
}
